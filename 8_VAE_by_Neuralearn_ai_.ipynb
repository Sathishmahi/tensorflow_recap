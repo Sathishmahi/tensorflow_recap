{
  "nbformat": 4,
  "nbformat_minor": 0,
  "metadata": {
    "colab": {
      "provenance": [],
      "gpuType": "T4"
    },
    "kernelspec": {
      "name": "python3",
      "display_name": "Python 3"
    },
    "language_info": {
      "name": "python"
    },
    "accelerator": "GPU"
  },
  "cells": [
    {
      "cell_type": "code",
      "execution_count": null,
      "metadata": {
        "id": "vPKrQB5FrFnW"
      },
      "outputs": [],
      "source": [
        "import tensorflow as tf\n",
        "import numpy as np\n",
        "import matplotlib.pyplot as plt\n",
        "from tensorflow.keras.models import Model\n",
        "from tensorflow.keras.layers import Layer\n",
        "from tensorflow.keras.layers import (Reshape, Conv2DTranspose, Add, Conv2D, MaxPool2D, Dense,\n",
        "                                     Flatten, InputLayer, BatchNormalization, Input, )\n",
        "from tensorflow.keras.optimizers import Adam"
      ]
    },
    {
      "cell_type": "markdown",
      "source": [
        "# Data Preparation"
      ],
      "metadata": {
        "id": "4lNrm79MlgpS"
      }
    },
    {
      "cell_type": "code",
      "source": [
        "(x_train, _), (x_test, _) = tf.keras.datasets.mnist.load_data()\n",
        "mnist_digits = np.concatenate([x_train, x_test], axis=0)\n",
        "mnist_digits = np.expand_dims(mnist_digits, -1).astype(\"float32\") / 255"
      ],
      "metadata": {
        "id": "wZ3wCXMrRQDZ",
        "colab": {
          "base_uri": "https://localhost:8080/"
        },
        "outputId": "b923959e-c51d-4392-c1c2-bf5e93b6aaf0"
      },
      "execution_count": null,
      "outputs": [
        {
          "output_type": "stream",
          "name": "stdout",
          "text": [
            "Downloading data from https://storage.googleapis.com/tensorflow/tf-keras-datasets/mnist.npz\n",
            "11490434/11490434 [==============================] - 0s 0us/step\n"
          ]
        }
      ]
    },
    {
      "cell_type": "code",
      "source": [
        "dataset = tf.data.Dataset.from_tensor_slices(mnist_digits)"
      ],
      "metadata": {
        "id": "TuiM9At8RQFi"
      },
      "execution_count": null,
      "outputs": []
    },
    {
      "cell_type": "code",
      "source": [
        "BATCH_SIZE = 64\n",
        "LATENT_DIM = 2"
      ],
      "metadata": {
        "id": "rvK_VfBSRQJv"
      },
      "execution_count": null,
      "outputs": []
    },
    {
      "cell_type": "code",
      "source": [
        "train_dataset = (\n",
        "    dataset\n",
        "    .shuffle(buffer_size = 1024, reshuffle_each_iteration = True)\n",
        "    .batch(BATCH_SIZE)\n",
        "    .prefetch(tf.data.AUTOTUNE)\n",
        ")"
      ],
      "metadata": {
        "id": "-IxW9wxQRQMM"
      },
      "execution_count": null,
      "outputs": []
    },
    {
      "cell_type": "code",
      "source": [
        "train_dataset"
      ],
      "metadata": {
        "colab": {
          "base_uri": "https://localhost:8080/"
        },
        "id": "2ne293QuRQOL",
        "outputId": "26539bc4-d426-43a3-d8d8-8abff43e8fc8"
      },
      "execution_count": null,
      "outputs": [
        {
          "output_type": "execute_result",
          "data": {
            "text/plain": [
              "<_PrefetchDataset element_spec=TensorSpec(shape=(None, 28, 28, 1), dtype=tf.float32, name=None)>"
            ]
          },
          "metadata": {},
          "execution_count": 6
        }
      ]
    },
    {
      "cell_type": "code",
      "source": [],
      "metadata": {
        "id": "Kp4aWbGDRQQO"
      },
      "execution_count": null,
      "outputs": []
    },
    {
      "cell_type": "markdown",
      "source": [
        "# Modeling"
      ],
      "metadata": {
        "id": "CrM0hUSmThBQ"
      }
    },
    {
      "cell_type": "markdown",
      "source": [
        "## Sampling"
      ],
      "metadata": {
        "id": "9JBa79Pxd4gi"
      }
    },
    {
      "cell_type": "code",
      "source": [
        "class Sampling(Layer):\n",
        "  def call(self, inputs):\n",
        "    mean, log_var = inputs\n",
        "    return mean + tf.math.exp(0.5*log_var)*tf.random.normal(shape = (tf.shape(mean)[0], tf.shape(mean)[1]))"
      ],
      "metadata": {
        "id": "JfVZjHFWd49Q"
      },
      "execution_count": null,
      "outputs": []
    },
    {
      "cell_type": "markdown",
      "source": [
        "## Encoder"
      ],
      "metadata": {
        "id": "0U5XGop-TjGX"
      }
    },
    {
      "cell_type": "code",
      "source": [
        "encoder_inputs = Input(shape=(28,28,1))\n",
        "\n",
        "x = Conv2D(32, 3, activation='relu', strides=2, padding='same')(encoder_inputs)\n",
        "x = Conv2D(64, 3, activation='relu', strides=2, padding='same')(x)\n",
        "\n",
        "x = Flatten()(x)\n",
        "x = Dense(16, activation='relu')(x)\n",
        "\n",
        "mean = Dense(LATENT_DIM,)(x)\n",
        "log_var = Dense(LATENT_DIM,)(x)\n",
        "\n",
        "z = Sampling()([mean,log_var])\n",
        "\n",
        "encoder_model = Model(encoder_inputs,[z,mean,log_var], name='encoder')\n",
        "encoder_model.summary()"
      ],
      "metadata": {
        "colab": {
          "base_uri": "https://localhost:8080/"
        },
        "id": "6zfqKfkMRQUe",
        "outputId": "119b6b27-b5d2-4529-d241-a2d132b404c1"
      },
      "execution_count": null,
      "outputs": [
        {
          "output_type": "stream",
          "name": "stdout",
          "text": [
            "Model: \"encoder\"\n",
            "__________________________________________________________________________________________________\n",
            " Layer (type)                   Output Shape         Param #     Connected to                     \n",
            "==================================================================================================\n",
            " input_1 (InputLayer)           [(None, 28, 28, 1)]  0           []                               \n",
            "                                                                                                  \n",
            " conv2d (Conv2D)                (None, 14, 14, 32)   320         ['input_1[0][0]']                \n",
            "                                                                                                  \n",
            " conv2d_1 (Conv2D)              (None, 7, 7, 64)     18496       ['conv2d[0][0]']                 \n",
            "                                                                                                  \n",
            " flatten (Flatten)              (None, 3136)         0           ['conv2d_1[0][0]']               \n",
            "                                                                                                  \n",
            " dense (Dense)                  (None, 16)           50192       ['flatten[0][0]']                \n",
            "                                                                                                  \n",
            " dense_1 (Dense)                (None, 2)            34          ['dense[0][0]']                  \n",
            "                                                                                                  \n",
            " dense_2 (Dense)                (None, 2)            34          ['dense[0][0]']                  \n",
            "                                                                                                  \n",
            " sampling (Sampling)            (None, 2)            0           ['dense_1[0][0]',                \n",
            "                                                                  'dense_2[0][0]']                \n",
            "                                                                                                  \n",
            "==================================================================================================\n",
            "Total params: 69,076\n",
            "Trainable params: 69,076\n",
            "Non-trainable params: 0\n",
            "__________________________________________________________________________________________________\n"
          ]
        }
      ]
    },
    {
      "cell_type": "markdown",
      "source": [
        "## Decoder"
      ],
      "metadata": {
        "id": "mhGm9aq4j1NJ"
      }
    },
    {
      "cell_type": "code",
      "source": [
        "latent_inputs = Input(shape=(LATENT_DIM,))\n",
        "\n",
        "\n",
        "x = Dense(7*7*64, activation='relu')(latent_inputs)\n",
        "x = Reshape((7,7,64))(x)\n",
        "\n",
        "x = Conv2DTranspose(64, 3, activation='relu', strides=2, padding='same')(x)\n",
        "x = Conv2DTranspose(32, 3, activation='relu', strides=2, padding='same')(x)\n",
        "\n",
        "decoder_output = Conv2DTranspose(1, 3, activation='sigmoid', padding='same')(x)\n",
        "decoder_model = Model(latent_inputs,decoder_output,name='decoder')\n",
        "decoder_model.summary()"
      ],
      "metadata": {
        "colab": {
          "base_uri": "https://localhost:8080/"
        },
        "id": "NIz8pfv6RQYz",
        "outputId": "95a3341e-6a70-4514-ef74-b5e35e731c6e"
      },
      "execution_count": null,
      "outputs": [
        {
          "output_type": "stream",
          "name": "stdout",
          "text": [
            "Model: \"decoder\"\n",
            "_________________________________________________________________\n",
            " Layer (type)                Output Shape              Param #   \n",
            "=================================================================\n",
            " input_2 (InputLayer)        [(None, 2)]               0         \n",
            "                                                                 \n",
            " dense_3 (Dense)             (None, 3136)              9408      \n",
            "                                                                 \n",
            " reshape (Reshape)           (None, 7, 7, 64)          0         \n",
            "                                                                 \n",
            " conv2d_transpose (Conv2DTra  (None, 14, 14, 64)       36928     \n",
            " nspose)                                                         \n",
            "                                                                 \n",
            " conv2d_transpose_1 (Conv2DT  (None, 28, 28, 32)       18464     \n",
            " ranspose)                                                       \n",
            "                                                                 \n",
            " conv2d_transpose_2 (Conv2DT  (None, 28, 28, 1)        289       \n",
            " ranspose)                                                       \n",
            "                                                                 \n",
            "=================================================================\n",
            "Total params: 65,089\n",
            "Trainable params: 65,089\n",
            "Non-trainable params: 0\n",
            "_________________________________________________________________\n"
          ]
        }
      ]
    },
    {
      "cell_type": "markdown",
      "source": [
        "## Overall VAE Model"
      ],
      "metadata": {
        "id": "_e6nxyt5FwXD"
      }
    },
    {
      "cell_type": "code",
      "source": [
        "vae_input = Input(shape=(28,28,1), name=\"vae_input\")\n",
        "z,_,_ = encoder_model(vae_input)\n",
        "output = decoder_model(z)\n",
        "vae = Model(vae_input, output, name=\"vae\")\n",
        "vae.summary()"
      ],
      "metadata": {
        "colab": {
          "base_uri": "https://localhost:8080/"
        },
        "id": "HQBtlvo2FzAq",
        "outputId": "c5f95b1a-d9bd-4bb0-92dd-2650a7efabf4"
      },
      "execution_count": null,
      "outputs": [
        {
          "output_type": "stream",
          "name": "stdout",
          "text": [
            "Model: \"vae\"\n",
            "_________________________________________________________________\n",
            " Layer (type)                Output Shape              Param #   \n",
            "=================================================================\n",
            " vae_input (InputLayer)      [(None, 28, 28, 1)]       0         \n",
            "                                                                 \n",
            " encoder (Functional)        [(None, 2),               69076     \n",
            "                              (None, 2),                         \n",
            "                              (None, 2)]                         \n",
            "                                                                 \n",
            " decoder (Functional)        (None, 28, 28, 1)         65089     \n",
            "                                                                 \n",
            "=================================================================\n",
            "Total params: 134,165\n",
            "Trainable params: 134,165\n",
            "Non-trainable params: 0\n",
            "_________________________________________________________________\n"
          ]
        }
      ]
    },
    {
      "cell_type": "code",
      "source": [
        "for i in range(3):\n",
        "  print(vae.layers[i])"
      ],
      "metadata": {
        "id": "pm3WXvS0FzC5",
        "colab": {
          "base_uri": "https://localhost:8080/"
        },
        "outputId": "de344240-1c39-4bd5-ce06-49d7d5d7479a"
      },
      "execution_count": null,
      "outputs": [
        {
          "output_type": "stream",
          "name": "stdout",
          "text": [
            "<keras.engine.input_layer.InputLayer object at 0x7fe651d20d60>\n",
            "<keras.engine.functional.Functional object at 0x7fe651d21570>\n",
            "<keras.engine.functional.Functional object at 0x7fe651d4fa90>\n"
          ]
        }
      ]
    },
    {
      "cell_type": "markdown",
      "source": [
        "# Training"
      ],
      "metadata": {
        "id": "uOhXdaz_-fY7"
      }
    },
    {
      "cell_type": "code",
      "source": [
        "OPTIMIZER = Adam(learning_rate = 1e-3)\n",
        "EPOCHS = 20"
      ],
      "metadata": {
        "id": "vT02JszjTBSw"
      },
      "execution_count": null,
      "outputs": []
    },
    {
      "cell_type": "code",
      "source": [
        "def custom_loss(y_true,y_pred,mean,log_var):\n",
        "\n",
        "  loss_rec = tf.reduce_mean(tf.reduce_sum(tf.keras.losses.binary_crossentropy(y_true,y_pred), axis = (1,2)))\n",
        "\n",
        "  loss_reg = -0.5 * (1 + log_var - tf.square(mean) - tf.exp(log_var))\n",
        "\n",
        "  return loss_rec+tf.reduce_mean(tf.reduce_sum(loss_reg, axis=1))"
      ],
      "metadata": {
        "id": "A6b9RgTDTBX1"
      },
      "execution_count": null,
      "outputs": []
    },
    {
      "cell_type": "code",
      "source": [
        "@tf.function\n",
        "def training_block(x_batch):\n",
        "  with tf.GradientTape() as recorder:\n",
        "    z,mean,log_var = encoder_model(x_batch)\n",
        "    y_pred = decoder_model(z)\n",
        "    y_true = x_batch\n",
        "    loss = custom_loss(y_true,y_pred, mean, log_var)\n",
        "\n",
        "  partial_derivatives = recorder.gradient(loss,vae.trainable_weights)\n",
        "  OPTIMIZER.apply_gradients(zip(partial_derivatives, vae.trainable_weights))\n",
        "  return loss"
      ],
      "metadata": {
        "id": "ypKgOLjmTBaC"
      },
      "execution_count": null,
      "outputs": []
    },
    {
      "cell_type": "code",
      "source": [
        "def neuralearn(epochs):\n",
        "  for epoch in range(1,epochs+1):\n",
        "    print('Training starts for epoch number {}'.format(epoch))\n",
        "\n",
        "    for step, x_batch in enumerate(train_dataset):\n",
        "      loss = training_block(x_batch)\n",
        "    print('Training Loss is: ', loss)\n",
        "  print('Training Complete!!!')"
      ],
      "metadata": {
        "id": "7-J779KKTBb8"
      },
      "execution_count": null,
      "outputs": []
    },
    {
      "cell_type": "code",
      "source": [
        "neuralearn(EPOCHS)"
      ],
      "metadata": {
        "colab": {
          "base_uri": "https://localhost:8080/"
        },
        "id": "G9-VlnMjTBgQ",
        "outputId": "d0e21efd-7e6e-49ec-acf9-a6ad48709629"
      },
      "execution_count": null,
      "outputs": [
        {
          "output_type": "stream",
          "name": "stdout",
          "text": [
            "Training starts for epoch number 1\n",
            "Training Loss is:  tf.Tensor(194.31403, shape=(), dtype=float32)\n",
            "Training starts for epoch number 2\n",
            "Training Loss is:  tf.Tensor(174.37093, shape=(), dtype=float32)\n",
            "Training starts for epoch number 3\n",
            "Training Loss is:  tf.Tensor(155.62276, shape=(), dtype=float32)\n",
            "Training starts for epoch number 4\n",
            "Training Loss is:  tf.Tensor(160.26765, shape=(), dtype=float32)\n",
            "Training starts for epoch number 5\n",
            "Training Loss is:  tf.Tensor(151.0081, shape=(), dtype=float32)\n",
            "Training starts for epoch number 6\n",
            "Training Loss is:  tf.Tensor(148.91473, shape=(), dtype=float32)\n",
            "Training starts for epoch number 7\n",
            "Training Loss is:  tf.Tensor(153.28786, shape=(), dtype=float32)\n",
            "Training starts for epoch number 8\n",
            "Training Loss is:  tf.Tensor(150.58101, shape=(), dtype=float32)\n",
            "Training starts for epoch number 9\n",
            "Training Loss is:  tf.Tensor(162.43623, shape=(), dtype=float32)\n",
            "Training starts for epoch number 10\n",
            "Training Loss is:  tf.Tensor(164.80823, shape=(), dtype=float32)\n",
            "Training starts for epoch number 11\n",
            "Training Loss is:  tf.Tensor(159.634, shape=(), dtype=float32)\n",
            "Training starts for epoch number 12\n",
            "Training Loss is:  tf.Tensor(155.18504, shape=(), dtype=float32)\n",
            "Training starts for epoch number 13\n",
            "Training Loss is:  tf.Tensor(146.96362, shape=(), dtype=float32)\n",
            "Training starts for epoch number 14\n",
            "Training Loss is:  tf.Tensor(135.58557, shape=(), dtype=float32)\n",
            "Training starts for epoch number 15\n",
            "Training Loss is:  tf.Tensor(140.17786, shape=(), dtype=float32)\n",
            "Training starts for epoch number 16\n",
            "Training Loss is:  tf.Tensor(149.3938, shape=(), dtype=float32)\n",
            "Training starts for epoch number 17\n",
            "Training Loss is:  tf.Tensor(146.76387, shape=(), dtype=float32)\n",
            "Training starts for epoch number 18\n",
            "Training Loss is:  tf.Tensor(144.82744, shape=(), dtype=float32)\n",
            "Training starts for epoch number 19\n",
            "Training Loss is:  tf.Tensor(149.71217, shape=(), dtype=float32)\n",
            "Training starts for epoch number 20\n",
            "Training Loss is:  tf.Tensor(139.5594, shape=(), dtype=float32)\n",
            "Training Complete!!!\n"
          ]
        }
      ]
    },
    {
      "cell_type": "markdown",
      "source": [
        "## Overriding train_step method"
      ],
      "metadata": {
        "id": "asPy7WeB00pD"
      }
    },
    {
      "cell_type": "code",
      "source": [
        "class VAE(tf.keras.Model):\n",
        "  def __init__(self,encoder_model, decoder_model):\n",
        "    super(VAE,self).__init__()\n",
        "    self.encoder=encoder_model\n",
        "    self.decoder=decoder_model\n",
        "    self.loss_tracker=tf.keras.metrics.Mean(name='loss')\n",
        "  @property\n",
        "  def metrics(self):\n",
        "    return [self.loss_tracker]\n",
        "\n",
        "  def compile(self,optmizer,loss,*args,**kwargs):\n",
        "    self.optmizer=optmizer\n",
        "    self.loss=loss\n",
        "    super().compile(*args,**kwargs)\n",
        "  def train_step(self,x_batch):\n",
        "    with tf.GradientTape() as recorder:\n",
        "      z,mean,log_var = encoder_model(x_batch)\n",
        "      y_pred = decoder_model(z)\n",
        "      y_true = x_batch\n",
        "      loss = self.loss(y_true,y_pred, mean, log_var)\n",
        "\n",
        "    partial_derivatives = recorder.gradient(loss,self.trainable_weights)\n",
        "    self.optimizer.apply_gradients(zip(partial_derivatives, self.trainable_weights))\n",
        "\n",
        "    self.loss_tracker.update_state(loss)\n",
        "    return {'loss':self.loss_tracker.result()}"
      ],
      "metadata": {
        "id": "TU1YaYILZGo9"
      },
      "execution_count": null,
      "outputs": []
    },
    {
      "cell_type": "code",
      "source": [
        "model=VAE(encoder_model,decoder_model)\n",
        "model.compile(optimizer=OPTIMIZER)\n",
        "model.fit(train_dataset, epochs=150,batch_size=128,)"
      ],
      "metadata": {
        "colab": {
          "base_uri": "https://localhost:8080/"
        },
        "id": "GgfPHSShyP1z",
        "outputId": "26e2e39a-5e93-4a3a-a759-e1023f92a19a"
      },
      "execution_count": null,
      "outputs": [
        {
          "output_type": "stream",
          "name": "stdout",
          "text": [
            "Epoch 1/150\n",
            "547/547 [==============================] - 8s 12ms/step - loss: 142.4639\n",
            "Epoch 2/150\n",
            "547/547 [==============================] - 4s 8ms/step - loss: 142.5600\n",
            "Epoch 3/150\n",
            "547/547 [==============================] - 4s 8ms/step - loss: 142.5742\n",
            "Epoch 4/150\n",
            "547/547 [==============================] - 4s 8ms/step - loss: 142.5305\n",
            "Epoch 5/150\n",
            "547/547 [==============================] - 4s 8ms/step - loss: 142.5105\n",
            "Epoch 6/150\n",
            "547/547 [==============================] - 5s 8ms/step - loss: 142.4741\n",
            "Epoch 7/150\n",
            "547/547 [==============================] - 4s 8ms/step - loss: 142.4662\n",
            "Epoch 8/150\n",
            "547/547 [==============================] - 4s 8ms/step - loss: 142.4380\n",
            "Epoch 9/150\n",
            "547/547 [==============================] - 5s 8ms/step - loss: 142.4200\n",
            "Epoch 10/150\n",
            "547/547 [==============================] - 4s 8ms/step - loss: 142.3987\n",
            "Epoch 11/150\n",
            "547/547 [==============================] - 4s 8ms/step - loss: 142.4248\n",
            "Epoch 12/150\n",
            "547/547 [==============================] - 4s 8ms/step - loss: 142.3340\n",
            "Epoch 13/150\n",
            "547/547 [==============================] - 4s 8ms/step - loss: 142.2432\n",
            "Epoch 14/150\n",
            "547/547 [==============================] - 5s 8ms/step - loss: 142.3751\n",
            "Epoch 15/150\n",
            "547/547 [==============================] - 4s 8ms/step - loss: 142.3392\n",
            "Epoch 16/150\n",
            "547/547 [==============================] - 5s 8ms/step - loss: 142.2702\n",
            "Epoch 17/150\n",
            "547/547 [==============================] - 5s 8ms/step - loss: 142.3502\n",
            "Epoch 18/150\n",
            "547/547 [==============================] - 4s 8ms/step - loss: 142.2028\n",
            "Epoch 19/150\n",
            "547/547 [==============================] - 4s 8ms/step - loss: 142.2962\n",
            "Epoch 20/150\n",
            "547/547 [==============================] - 5s 9ms/step - loss: 142.2078\n",
            "Epoch 21/150\n",
            "547/547 [==============================] - 4s 8ms/step - loss: 142.1349\n",
            "Epoch 22/150\n",
            "547/547 [==============================] - 4s 8ms/step - loss: 142.1811\n",
            "Epoch 23/150\n",
            "547/547 [==============================] - 5s 8ms/step - loss: 142.1506\n",
            "Epoch 24/150\n",
            "547/547 [==============================] - 4s 8ms/step - loss: 142.1940\n",
            "Epoch 25/150\n",
            "547/547 [==============================] - 5s 8ms/step - loss: 142.0994\n",
            "Epoch 26/150\n",
            "547/547 [==============================] - 4s 8ms/step - loss: 142.1336\n",
            "Epoch 27/150\n",
            "547/547 [==============================] - 4s 8ms/step - loss: 142.1179\n",
            "Epoch 28/150\n",
            "547/547 [==============================] - 5s 9ms/step - loss: 142.1407\n",
            "Epoch 29/150\n",
            "547/547 [==============================] - 4s 8ms/step - loss: 142.0801\n",
            "Epoch 30/150\n",
            "547/547 [==============================] - 4s 8ms/step - loss: 142.0964\n",
            "Epoch 31/150\n",
            "547/547 [==============================] - 5s 8ms/step - loss: 142.0355\n",
            "Epoch 32/150\n",
            "547/547 [==============================] - 4s 8ms/step - loss: 142.0171\n",
            "Epoch 33/150\n",
            "547/547 [==============================] - 4s 8ms/step - loss: 142.0436\n",
            "Epoch 34/150\n",
            "547/547 [==============================] - 4s 8ms/step - loss: 142.0721\n",
            "Epoch 35/150\n",
            "547/547 [==============================] - 4s 8ms/step - loss: 142.0529\n",
            "Epoch 36/150\n",
            "547/547 [==============================] - 5s 8ms/step - loss: 141.9543\n",
            "Epoch 37/150\n",
            "547/547 [==============================] - 4s 8ms/step - loss: 142.0271\n",
            "Epoch 38/150\n",
            "547/547 [==============================] - 5s 8ms/step - loss: 141.8928\n",
            "Epoch 39/150\n",
            "547/547 [==============================] - 4s 8ms/step - loss: 141.9326\n",
            "Epoch 40/150\n",
            "547/547 [==============================] - 4s 8ms/step - loss: 141.9185\n",
            "Epoch 41/150\n",
            "547/547 [==============================] - 5s 9ms/step - loss: 141.9370\n",
            "Epoch 42/150\n",
            "547/547 [==============================] - 4s 8ms/step - loss: 141.8819\n",
            "Epoch 43/150\n",
            "547/547 [==============================] - 4s 8ms/step - loss: 141.8169\n",
            "Epoch 44/150\n",
            "547/547 [==============================] - 4s 8ms/step - loss: 141.8916\n",
            "Epoch 45/150\n",
            "547/547 [==============================] - 4s 8ms/step - loss: 141.8413\n",
            "Epoch 46/150\n",
            "547/547 [==============================] - 5s 9ms/step - loss: 141.7600\n",
            "Epoch 47/150\n",
            "547/547 [==============================] - 5s 8ms/step - loss: 141.8117\n",
            "Epoch 48/150\n",
            "547/547 [==============================] - 4s 8ms/step - loss: 141.8251\n",
            "Epoch 49/150\n",
            "547/547 [==============================] - 4s 8ms/step - loss: 141.8707\n",
            "Epoch 50/150\n",
            "547/547 [==============================] - 4s 8ms/step - loss: 141.7399\n",
            "Epoch 51/150\n",
            "547/547 [==============================] - 5s 8ms/step - loss: 141.7576\n",
            "Epoch 52/150\n",
            "547/547 [==============================] - 4s 8ms/step - loss: 141.7285\n",
            "Epoch 53/150\n",
            "547/547 [==============================] - 4s 8ms/step - loss: 141.6870\n",
            "Epoch 54/150\n",
            "547/547 [==============================] - 5s 8ms/step - loss: 141.6722\n",
            "Epoch 55/150\n",
            "547/547 [==============================] - 4s 8ms/step - loss: 141.6842\n",
            "Epoch 56/150\n",
            "547/547 [==============================] - 4s 8ms/step - loss: 141.7653\n",
            "Epoch 57/150\n",
            "547/547 [==============================] - 4s 8ms/step - loss: 141.6166\n",
            "Epoch 58/150\n",
            "547/547 [==============================] - 4s 8ms/step - loss: 141.7376\n",
            "Epoch 59/150\n",
            "547/547 [==============================] - 5s 8ms/step - loss: 141.6345\n",
            "Epoch 60/150\n",
            "547/547 [==============================] - 4s 8ms/step - loss: 141.6139\n",
            "Epoch 61/150\n",
            "547/547 [==============================] - 4s 8ms/step - loss: 141.5507\n",
            "Epoch 62/150\n",
            "547/547 [==============================] - 5s 9ms/step - loss: 141.6164\n",
            "Epoch 63/150\n",
            "547/547 [==============================] - 4s 8ms/step - loss: 141.5279\n",
            "Epoch 64/150\n",
            "547/547 [==============================] - 4s 8ms/step - loss: 141.5969\n",
            "Epoch 65/150\n",
            "547/547 [==============================] - 4s 8ms/step - loss: 141.5659\n",
            "Epoch 66/150\n",
            "547/547 [==============================] - 4s 8ms/step - loss: 141.5800\n",
            "Epoch 67/150\n",
            "547/547 [==============================] - 5s 9ms/step - loss: 141.5422\n",
            "Epoch 68/150\n",
            "547/547 [==============================] - 4s 8ms/step - loss: 141.5501\n",
            "Epoch 69/150\n",
            "547/547 [==============================] - 4s 8ms/step - loss: 141.5611\n",
            "Epoch 70/150\n",
            "547/547 [==============================] - 5s 8ms/step - loss: 141.6049\n",
            "Epoch 71/150\n",
            "547/547 [==============================] - 4s 8ms/step - loss: 141.5696\n",
            "Epoch 72/150\n",
            "547/547 [==============================] - 4s 8ms/step - loss: 141.4851\n",
            "Epoch 73/150\n",
            "547/547 [==============================] - 5s 8ms/step - loss: 141.5359\n",
            "Epoch 74/150\n",
            "547/547 [==============================] - 4s 8ms/step - loss: 141.4645\n",
            "Epoch 75/150\n",
            "547/547 [==============================] - 4s 8ms/step - loss: 141.5066\n",
            "Epoch 76/150\n",
            "547/547 [==============================] - 4s 8ms/step - loss: 141.4477\n",
            "Epoch 77/150\n",
            "547/547 [==============================] - 4s 8ms/step - loss: 141.4114\n",
            "Epoch 78/150\n",
            "547/547 [==============================] - 5s 9ms/step - loss: 141.4487\n",
            "Epoch 79/150\n",
            "547/547 [==============================] - 4s 8ms/step - loss: 141.4153\n",
            "Epoch 80/150\n",
            "547/547 [==============================] - 4s 8ms/step - loss: 141.3643\n",
            "Epoch 81/150\n",
            "547/547 [==============================] - 5s 9ms/step - loss: 141.4088\n",
            "Epoch 82/150\n",
            "547/547 [==============================] - 4s 8ms/step - loss: 141.4254\n",
            "Epoch 83/150\n",
            "547/547 [==============================] - 4s 8ms/step - loss: 141.3948\n",
            "Epoch 84/150\n",
            "547/547 [==============================] - 4s 8ms/step - loss: 141.3450\n",
            "Epoch 85/150\n",
            "547/547 [==============================] - 4s 8ms/step - loss: 141.4132\n",
            "Epoch 86/150\n",
            "547/547 [==============================] - 5s 8ms/step - loss: 141.4001\n",
            "Epoch 87/150\n",
            "547/547 [==============================] - 4s 8ms/step - loss: 141.3575\n",
            "Epoch 88/150\n",
            "547/547 [==============================] - 4s 8ms/step - loss: 141.2665\n",
            "Epoch 89/150\n",
            "547/547 [==============================] - 5s 9ms/step - loss: 141.3258\n",
            "Epoch 90/150\n",
            "547/547 [==============================] - 4s 8ms/step - loss: 141.3260\n",
            "Epoch 91/150\n",
            "547/547 [==============================] - 4s 8ms/step - loss: 141.3389\n",
            "Epoch 92/150\n",
            "547/547 [==============================] - 5s 8ms/step - loss: 141.4712\n",
            "Epoch 93/150\n",
            "547/547 [==============================] - 4s 8ms/step - loss: 141.3199\n",
            "Epoch 94/150\n",
            "547/547 [==============================] - 4s 8ms/step - loss: 141.3903\n",
            "Epoch 95/150\n",
            "547/547 [==============================] - 5s 8ms/step - loss: 141.3286\n",
            "Epoch 96/150\n",
            "547/547 [==============================] - 4s 8ms/step - loss: 141.2832\n",
            "Epoch 97/150\n",
            "547/547 [==============================] - 5s 9ms/step - loss: 141.3130\n",
            "Epoch 98/150\n",
            "547/547 [==============================] - 4s 8ms/step - loss: 141.2785\n",
            "Epoch 99/150\n",
            "547/547 [==============================] - 4s 8ms/step - loss: 141.1903\n",
            "Epoch 100/150\n",
            "547/547 [==============================] - 5s 8ms/step - loss: 141.2056\n",
            "Epoch 101/150\n",
            "547/547 [==============================] - 4s 8ms/step - loss: 141.1874\n",
            "Epoch 102/150\n",
            "547/547 [==============================] - 5s 9ms/step - loss: 141.2349\n",
            "Epoch 103/150\n",
            "547/547 [==============================] - 4s 8ms/step - loss: 141.2051\n",
            "Epoch 104/150\n",
            "547/547 [==============================] - 4s 8ms/step - loss: 141.2838\n",
            "Epoch 105/150\n",
            "547/547 [==============================] - 5s 8ms/step - loss: 141.2006\n",
            "Epoch 106/150\n",
            "547/547 [==============================] - 4s 8ms/step - loss: 141.1561\n",
            "Epoch 107/150\n",
            "547/547 [==============================] - 4s 8ms/step - loss: 141.1707\n",
            "Epoch 108/150\n",
            "547/547 [==============================] - 4s 8ms/step - loss: 141.1150\n",
            "Epoch 109/150\n",
            "547/547 [==============================] - 4s 8ms/step - loss: 141.1051\n",
            "Epoch 110/150\n",
            "547/547 [==============================] - 5s 9ms/step - loss: 141.2553\n",
            "Epoch 111/150\n",
            "547/547 [==============================] - 5s 9ms/step - loss: 141.2103\n",
            "Epoch 112/150\n",
            "547/547 [==============================] - 4s 8ms/step - loss: 141.1020\n",
            "Epoch 113/150\n",
            "547/547 [==============================] - 5s 8ms/step - loss: 141.1192\n",
            "Epoch 114/150\n",
            "547/547 [==============================] - 4s 8ms/step - loss: 141.1216\n",
            "Epoch 115/150\n",
            "547/547 [==============================] - 5s 8ms/step - loss: 141.1375\n",
            "Epoch 116/150\n",
            "547/547 [==============================] - 4s 8ms/step - loss: 141.1440\n",
            "Epoch 117/150\n",
            "547/547 [==============================] - 4s 8ms/step - loss: 141.1153\n",
            "Epoch 118/150\n",
            "547/547 [==============================] - 5s 9ms/step - loss: 140.9539\n",
            "Epoch 119/150\n",
            "547/547 [==============================] - 4s 8ms/step - loss: 141.0327\n",
            "Epoch 120/150\n",
            "547/547 [==============================] - 4s 8ms/step - loss: 141.0392\n",
            "Epoch 121/150\n",
            "547/547 [==============================] - 5s 9ms/step - loss: 140.9699\n",
            "Epoch 122/150\n",
            "547/547 [==============================] - 4s 8ms/step - loss: 140.9715\n",
            "Epoch 123/150\n",
            "547/547 [==============================] - 4s 8ms/step - loss: 141.0667\n",
            "Epoch 124/150\n",
            "547/547 [==============================] - 4s 8ms/step - loss: 140.9439\n",
            "Epoch 125/150\n",
            "547/547 [==============================] - 4s 8ms/step - loss: 141.0101\n",
            "Epoch 126/150\n",
            "547/547 [==============================] - 5s 9ms/step - loss: 141.0273\n",
            "Epoch 127/150\n",
            "547/547 [==============================] - 4s 8ms/step - loss: 140.9296\n",
            "Epoch 128/150\n",
            "547/547 [==============================] - 4s 8ms/step - loss: 140.8942\n",
            "Epoch 129/150\n",
            "547/547 [==============================] - 5s 8ms/step - loss: 141.0804\n",
            "Epoch 130/150\n",
            "547/547 [==============================] - 4s 8ms/step - loss: 140.8789\n",
            "Epoch 131/150\n",
            "547/547 [==============================] - 5s 8ms/step - loss: 140.9278\n",
            "Epoch 132/150\n",
            "547/547 [==============================] - 4s 8ms/step - loss: 140.9175\n",
            "Epoch 133/150\n",
            "547/547 [==============================] - 4s 8ms/step - loss: 140.9434\n",
            "Epoch 134/150\n",
            "547/547 [==============================] - 5s 9ms/step - loss: 140.8737\n",
            "Epoch 135/150\n",
            "547/547 [==============================] - 4s 8ms/step - loss: 140.9670\n",
            "Epoch 136/150\n",
            "547/547 [==============================] - 4s 8ms/step - loss: 140.8132\n",
            "Epoch 137/150\n",
            "547/547 [==============================] - 5s 9ms/step - loss: 140.8959\n",
            "Epoch 138/150\n",
            "547/547 [==============================] - 4s 8ms/step - loss: 140.8625\n",
            "Epoch 139/150\n",
            "547/547 [==============================] - 4s 8ms/step - loss: 140.8812\n",
            "Epoch 140/150\n",
            "547/547 [==============================] - 5s 8ms/step - loss: 140.8379\n",
            "Epoch 141/150\n",
            "547/547 [==============================] - 4s 8ms/step - loss: 140.8650\n",
            "Epoch 142/150\n",
            "547/547 [==============================] - 5s 8ms/step - loss: 140.8647\n",
            "Epoch 143/150\n",
            "547/547 [==============================] - 5s 9ms/step - loss: 140.7904\n",
            "Epoch 144/150\n",
            "547/547 [==============================] - 4s 8ms/step - loss: 140.7884\n",
            "Epoch 145/150\n",
            "547/547 [==============================] - 5s 9ms/step - loss: 140.8160\n",
            "Epoch 146/150\n",
            "547/547 [==============================] - 4s 8ms/step - loss: 140.7729\n",
            "Epoch 147/150\n",
            "547/547 [==============================] - 4s 8ms/step - loss: 140.8528\n",
            "Epoch 148/150\n",
            "547/547 [==============================] - 5s 9ms/step - loss: 140.8262\n",
            "Epoch 149/150\n",
            "547/547 [==============================] - 4s 8ms/step - loss: 140.7693\n",
            "Epoch 150/150\n",
            "547/547 [==============================] - 4s 8ms/step - loss: 140.6882\n"
          ]
        },
        {
          "output_type": "execute_result",
          "data": {
            "text/plain": [
              "<keras.callbacks.History at 0x7fe66abb4430>"
            ]
          },
          "metadata": {},
          "execution_count": 38
        }
      ]
    },
    {
      "cell_type": "markdown",
      "source": [
        "# Testing"
      ],
      "metadata": {
        "id": "KZw5haj0l2EB"
      }
    },
    {
      "cell_type": "code",
      "source": [
        "model.save_weights(\"vae.h5\")"
      ],
      "metadata": {
        "id": "3iv1GkslcLDY"
      },
      "execution_count": null,
      "outputs": []
    },
    {
      "cell_type": "code",
      "source": [
        "scale=1\n",
        "n=16"
      ],
      "metadata": {
        "id": "EVcJC-3N-kbv"
      },
      "execution_count": null,
      "outputs": []
    },
    {
      "cell_type": "code",
      "source": [
        "grid_x = np.linspace(-scale,scale,16)\n",
        "grid_y = np.linspace(-scale,scale,16)"
      ],
      "metadata": {
        "id": "GpJb0aKI8-00"
      },
      "execution_count": null,
      "outputs": []
    },
    {
      "cell_type": "code",
      "source": [
        "print(grid_x,grid_y)"
      ],
      "metadata": {
        "colab": {
          "base_uri": "https://localhost:8080/"
        },
        "id": "RicXspLx8-3T",
        "outputId": "499b27de-6a5a-4e8c-f784-3bd299166559"
      },
      "execution_count": null,
      "outputs": [
        {
          "output_type": "stream",
          "name": "stdout",
          "text": [
            "[-1.         -0.86666667 -0.73333333 -0.6        -0.46666667 -0.33333333\n",
            " -0.2        -0.06666667  0.06666667  0.2         0.33333333  0.46666667\n",
            "  0.6         0.73333333  0.86666667  1.        ] [-1.         -0.86666667 -0.73333333 -0.6        -0.46666667 -0.33333333\n",
            " -0.2        -0.06666667  0.06666667  0.2         0.33333333  0.46666667\n",
            "  0.6         0.73333333  0.86666667  1.        ]\n"
          ]
        }
      ]
    },
    {
      "cell_type": "code",
      "source": [
        "plt.figure(figsize=(12,12))\n",
        "k=0\n",
        "for i in grid_x:\n",
        "  for j in grid_y:\n",
        "    ax=plt.subplot(n,n,k+1)\n",
        "\n",
        "    input=tf.constant([[i,j]])\n",
        "    out=model.decoder.predict(input)[0][...,0]\n",
        "    plt.imshow(out,cmap=\"Greys_r\")\n",
        "    plt.axis('off')\n",
        "    k+=1"
      ],
      "metadata": {
        "colab": {
          "base_uri": "https://localhost:8080/",
          "height": 965
        },
        "id": "EVOLV2Mr8-5p",
        "outputId": "857aa4b9-0e14-4193-baa1-08f434933faf"
      },
      "execution_count": null,
      "outputs": [
        {
          "output_type": "stream",
          "name": "stdout",
          "text": [
            "1/1 [==============================] - 0s 20ms/step\n",
            "1/1 [==============================] - 0s 19ms/step\n",
            "1/1 [==============================] - 0s 18ms/step\n",
            "1/1 [==============================] - 0s 18ms/step\n",
            "1/1 [==============================] - 0s 20ms/step\n",
            "1/1 [==============================] - 0s 18ms/step\n",
            "1/1 [==============================] - 0s 18ms/step\n",
            "1/1 [==============================] - 0s 18ms/step\n",
            "1/1 [==============================] - 0s 19ms/step\n",
            "1/1 [==============================] - 0s 18ms/step\n",
            "1/1 [==============================] - 0s 17ms/step\n",
            "1/1 [==============================] - 0s 19ms/step\n",
            "1/1 [==============================] - 0s 19ms/step\n",
            "1/1 [==============================] - 0s 17ms/step\n",
            "1/1 [==============================] - 0s 21ms/step\n",
            "1/1 [==============================] - 0s 16ms/step\n",
            "1/1 [==============================] - 0s 18ms/step\n",
            "1/1 [==============================] - 0s 18ms/step\n",
            "1/1 [==============================] - 0s 19ms/step\n",
            "1/1 [==============================] - 0s 17ms/step\n",
            "1/1 [==============================] - 0s 18ms/step\n",
            "1/1 [==============================] - 0s 18ms/step\n",
            "1/1 [==============================] - 0s 17ms/step\n",
            "1/1 [==============================] - 0s 18ms/step\n",
            "1/1 [==============================] - ETA: 0s"
          ]
        },
        {
          "output_type": "error",
          "ename": "KeyboardInterrupt",
          "evalue": "ignored",
          "traceback": [
            "\u001b[0;31m---------------------------------------------------------------------------\u001b[0m",
            "\u001b[0;31mKeyboardInterrupt\u001b[0m                         Traceback (most recent call last)",
            "\u001b[0;32m<ipython-input-39-5c2964c5ab2a>\u001b[0m in \u001b[0;36m<cell line: 3>\u001b[0;34m()\u001b[0m\n\u001b[1;32m      6\u001b[0m \u001b[0;34m\u001b[0m\u001b[0m\n\u001b[1;32m      7\u001b[0m     \u001b[0minput\u001b[0m\u001b[0;34m=\u001b[0m\u001b[0mtf\u001b[0m\u001b[0;34m.\u001b[0m\u001b[0mconstant\u001b[0m\u001b[0;34m(\u001b[0m\u001b[0;34m[\u001b[0m\u001b[0;34m[\u001b[0m\u001b[0mi\u001b[0m\u001b[0;34m,\u001b[0m\u001b[0mj\u001b[0m\u001b[0;34m]\u001b[0m\u001b[0;34m]\u001b[0m\u001b[0;34m)\u001b[0m\u001b[0;34m\u001b[0m\u001b[0;34m\u001b[0m\u001b[0m\n\u001b[0;32m----> 8\u001b[0;31m     \u001b[0mout\u001b[0m\u001b[0;34m=\u001b[0m\u001b[0mmodel\u001b[0m\u001b[0;34m.\u001b[0m\u001b[0mdecoder\u001b[0m\u001b[0;34m.\u001b[0m\u001b[0mpredict\u001b[0m\u001b[0;34m(\u001b[0m\u001b[0minput\u001b[0m\u001b[0;34m)\u001b[0m\u001b[0;34m[\u001b[0m\u001b[0;36m0\u001b[0m\u001b[0;34m]\u001b[0m\u001b[0;34m[\u001b[0m\u001b[0;34m...\u001b[0m\u001b[0;34m,\u001b[0m\u001b[0;36m0\u001b[0m\u001b[0;34m]\u001b[0m\u001b[0;34m\u001b[0m\u001b[0;34m\u001b[0m\u001b[0m\n\u001b[0m\u001b[1;32m      9\u001b[0m     \u001b[0mplt\u001b[0m\u001b[0;34m.\u001b[0m\u001b[0mimshow\u001b[0m\u001b[0;34m(\u001b[0m\u001b[0mout\u001b[0m\u001b[0;34m,\u001b[0m\u001b[0mcmap\u001b[0m\u001b[0;34m=\u001b[0m\u001b[0;34m\"Greys_r\"\u001b[0m\u001b[0;34m)\u001b[0m\u001b[0;34m\u001b[0m\u001b[0;34m\u001b[0m\u001b[0m\n\u001b[1;32m     10\u001b[0m     \u001b[0mplt\u001b[0m\u001b[0;34m.\u001b[0m\u001b[0maxis\u001b[0m\u001b[0;34m(\u001b[0m\u001b[0;34m'off'\u001b[0m\u001b[0;34m)\u001b[0m\u001b[0;34m\u001b[0m\u001b[0;34m\u001b[0m\u001b[0m\n",
            "\u001b[0;32m/usr/local/lib/python3.10/dist-packages/keras/utils/traceback_utils.py\u001b[0m in \u001b[0;36merror_handler\u001b[0;34m(*args, **kwargs)\u001b[0m\n\u001b[1;32m     63\u001b[0m         \u001b[0mfiltered_tb\u001b[0m \u001b[0;34m=\u001b[0m \u001b[0;32mNone\u001b[0m\u001b[0;34m\u001b[0m\u001b[0;34m\u001b[0m\u001b[0m\n\u001b[1;32m     64\u001b[0m         \u001b[0;32mtry\u001b[0m\u001b[0;34m:\u001b[0m\u001b[0;34m\u001b[0m\u001b[0;34m\u001b[0m\u001b[0m\n\u001b[0;32m---> 65\u001b[0;31m             \u001b[0;32mreturn\u001b[0m \u001b[0mfn\u001b[0m\u001b[0;34m(\u001b[0m\u001b[0;34m*\u001b[0m\u001b[0margs\u001b[0m\u001b[0;34m,\u001b[0m \u001b[0;34m**\u001b[0m\u001b[0mkwargs\u001b[0m\u001b[0;34m)\u001b[0m\u001b[0;34m\u001b[0m\u001b[0;34m\u001b[0m\u001b[0m\n\u001b[0m\u001b[1;32m     66\u001b[0m         \u001b[0;32mexcept\u001b[0m \u001b[0mException\u001b[0m \u001b[0;32mas\u001b[0m \u001b[0me\u001b[0m\u001b[0;34m:\u001b[0m\u001b[0;34m\u001b[0m\u001b[0;34m\u001b[0m\u001b[0m\n\u001b[1;32m     67\u001b[0m             \u001b[0mfiltered_tb\u001b[0m \u001b[0;34m=\u001b[0m \u001b[0m_process_traceback_frames\u001b[0m\u001b[0;34m(\u001b[0m\u001b[0me\u001b[0m\u001b[0;34m.\u001b[0m\u001b[0m__traceback__\u001b[0m\u001b[0;34m)\u001b[0m\u001b[0;34m\u001b[0m\u001b[0;34m\u001b[0m\u001b[0m\n",
            "\u001b[0;32m/usr/local/lib/python3.10/dist-packages/keras/engine/training.py\u001b[0m in \u001b[0;36mpredict\u001b[0;34m(self, x, batch_size, verbose, steps, callbacks, max_queue_size, workers, use_multiprocessing)\u001b[0m\n\u001b[1;32m   2377\u001b[0m             \u001b[0mbatch_outputs\u001b[0m \u001b[0;34m=\u001b[0m \u001b[0;32mNone\u001b[0m\u001b[0;34m\u001b[0m\u001b[0;34m\u001b[0m\u001b[0m\n\u001b[1;32m   2378\u001b[0m             \u001b[0;32mfor\u001b[0m \u001b[0m_\u001b[0m\u001b[0;34m,\u001b[0m \u001b[0miterator\u001b[0m \u001b[0;32min\u001b[0m \u001b[0mdata_handler\u001b[0m\u001b[0;34m.\u001b[0m\u001b[0menumerate_epochs\u001b[0m\u001b[0;34m(\u001b[0m\u001b[0;34m)\u001b[0m\u001b[0;34m:\u001b[0m  \u001b[0;31m# Single epoch.\u001b[0m\u001b[0;34m\u001b[0m\u001b[0;34m\u001b[0m\u001b[0m\n\u001b[0;32m-> 2379\u001b[0;31m                 \u001b[0;32mwith\u001b[0m \u001b[0mdata_handler\u001b[0m\u001b[0;34m.\u001b[0m\u001b[0mcatch_stop_iteration\u001b[0m\u001b[0;34m(\u001b[0m\u001b[0;34m)\u001b[0m\u001b[0;34m:\u001b[0m\u001b[0;34m\u001b[0m\u001b[0;34m\u001b[0m\u001b[0m\n\u001b[0m\u001b[1;32m   2380\u001b[0m                     \u001b[0;32mfor\u001b[0m \u001b[0mstep\u001b[0m \u001b[0;32min\u001b[0m \u001b[0mdata_handler\u001b[0m\u001b[0;34m.\u001b[0m\u001b[0msteps\u001b[0m\u001b[0;34m(\u001b[0m\u001b[0;34m)\u001b[0m\u001b[0;34m:\u001b[0m\u001b[0;34m\u001b[0m\u001b[0;34m\u001b[0m\u001b[0m\n\u001b[1;32m   2381\u001b[0m                         \u001b[0mcallbacks\u001b[0m\u001b[0;34m.\u001b[0m\u001b[0mon_predict_batch_begin\u001b[0m\u001b[0;34m(\u001b[0m\u001b[0mstep\u001b[0m\u001b[0;34m)\u001b[0m\u001b[0;34m\u001b[0m\u001b[0;34m\u001b[0m\u001b[0m\n",
            "\u001b[0;32m/usr/lib/python3.10/contextlib.py\u001b[0m in \u001b[0;36m__exit__\u001b[0;34m(self, typ, value, traceback)\u001b[0m\n\u001b[1;32m    140\u001b[0m         \u001b[0;32mif\u001b[0m \u001b[0mtyp\u001b[0m \u001b[0;32mis\u001b[0m \u001b[0;32mNone\u001b[0m\u001b[0;34m:\u001b[0m\u001b[0;34m\u001b[0m\u001b[0;34m\u001b[0m\u001b[0m\n\u001b[1;32m    141\u001b[0m             \u001b[0;32mtry\u001b[0m\u001b[0;34m:\u001b[0m\u001b[0;34m\u001b[0m\u001b[0;34m\u001b[0m\u001b[0m\n\u001b[0;32m--> 142\u001b[0;31m                 \u001b[0mnext\u001b[0m\u001b[0;34m(\u001b[0m\u001b[0mself\u001b[0m\u001b[0;34m.\u001b[0m\u001b[0mgen\u001b[0m\u001b[0;34m)\u001b[0m\u001b[0;34m\u001b[0m\u001b[0;34m\u001b[0m\u001b[0m\n\u001b[0m\u001b[1;32m    143\u001b[0m             \u001b[0;32mexcept\u001b[0m \u001b[0mStopIteration\u001b[0m\u001b[0;34m:\u001b[0m\u001b[0;34m\u001b[0m\u001b[0;34m\u001b[0m\u001b[0m\n\u001b[1;32m    144\u001b[0m                 \u001b[0;32mreturn\u001b[0m \u001b[0;32mFalse\u001b[0m\u001b[0;34m\u001b[0m\u001b[0;34m\u001b[0m\u001b[0m\n",
            "\u001b[0;32m/usr/local/lib/python3.10/dist-packages/keras/engine/data_adapter.py\u001b[0m in \u001b[0;36mcatch_stop_iteration\u001b[0;34m(self)\u001b[0m\n\u001b[1;32m   1345\u001b[0m             \u001b[0;32mtry\u001b[0m\u001b[0;34m:\u001b[0m\u001b[0;34m\u001b[0m\u001b[0;34m\u001b[0m\u001b[0m\n\u001b[1;32m   1346\u001b[0m                 \u001b[0;32myield\u001b[0m\u001b[0;34m\u001b[0m\u001b[0;34m\u001b[0m\u001b[0m\n\u001b[0;32m-> 1347\u001b[0;31m                 \u001b[0mself\u001b[0m\u001b[0;34m.\u001b[0m\u001b[0msync\u001b[0m\u001b[0;34m(\u001b[0m\u001b[0;34m)\u001b[0m\u001b[0;34m\u001b[0m\u001b[0;34m\u001b[0m\u001b[0m\n\u001b[0m\u001b[1;32m   1348\u001b[0m             \u001b[0;32mexcept\u001b[0m \u001b[0;34m(\u001b[0m\u001b[0mStopIteration\u001b[0m\u001b[0;34m,\u001b[0m \u001b[0mtf\u001b[0m\u001b[0;34m.\u001b[0m\u001b[0merrors\u001b[0m\u001b[0;34m.\u001b[0m\u001b[0mOutOfRangeError\u001b[0m\u001b[0;34m)\u001b[0m\u001b[0;34m:\u001b[0m\u001b[0;34m\u001b[0m\u001b[0;34m\u001b[0m\u001b[0m\n\u001b[1;32m   1349\u001b[0m                 \u001b[0;32mif\u001b[0m \u001b[0mself\u001b[0m\u001b[0;34m.\u001b[0m\u001b[0m_inferred_steps\u001b[0m \u001b[0;32mis\u001b[0m \u001b[0;32mNone\u001b[0m\u001b[0;34m:\u001b[0m\u001b[0;34m\u001b[0m\u001b[0;34m\u001b[0m\u001b[0m\n",
            "\u001b[0;32m/usr/local/lib/python3.10/dist-packages/keras/engine/data_adapter.py\u001b[0m in \u001b[0;36msync\u001b[0;34m(self)\u001b[0m\n\u001b[1;32m   1335\u001b[0m \u001b[0;34m\u001b[0m\u001b[0m\n\u001b[1;32m   1336\u001b[0m     \u001b[0;32mdef\u001b[0m \u001b[0msync\u001b[0m\u001b[0;34m(\u001b[0m\u001b[0mself\u001b[0m\u001b[0;34m)\u001b[0m\u001b[0;34m:\u001b[0m\u001b[0;34m\u001b[0m\u001b[0;34m\u001b[0m\u001b[0m\n\u001b[0;32m-> 1337\u001b[0;31m         \u001b[0mcontext\u001b[0m\u001b[0;34m.\u001b[0m\u001b[0masync_wait\u001b[0m\u001b[0;34m(\u001b[0m\u001b[0;34m)\u001b[0m\u001b[0;34m\u001b[0m\u001b[0;34m\u001b[0m\u001b[0m\n\u001b[0m\u001b[1;32m   1338\u001b[0m \u001b[0;34m\u001b[0m\u001b[0m\n\u001b[1;32m   1339\u001b[0m     \u001b[0;34m@\u001b[0m\u001b[0mcontextlib\u001b[0m\u001b[0;34m.\u001b[0m\u001b[0mcontextmanager\u001b[0m\u001b[0;34m\u001b[0m\u001b[0;34m\u001b[0m\u001b[0m\n",
            "\u001b[0;32m/usr/local/lib/python3.10/dist-packages/tensorflow/python/eager/context.py\u001b[0m in \u001b[0;36masync_wait\u001b[0;34m()\u001b[0m\n\u001b[1;32m   2688\u001b[0m     \u001b[0;32mreturn\u001b[0m\u001b[0;34m\u001b[0m\u001b[0;34m\u001b[0m\u001b[0m\n\u001b[1;32m   2689\u001b[0m   \u001b[0;32mif\u001b[0m \u001b[0mcontext\u001b[0m\u001b[0;34m(\u001b[0m\u001b[0;34m)\u001b[0m\u001b[0;34m.\u001b[0m\u001b[0m_context_handle\u001b[0m \u001b[0;32mis\u001b[0m \u001b[0;32mnot\u001b[0m \u001b[0;32mNone\u001b[0m\u001b[0;34m:\u001b[0m  \u001b[0;31m# pylint: disable=protected-access\u001b[0m\u001b[0;34m\u001b[0m\u001b[0;34m\u001b[0m\u001b[0m\n\u001b[0;32m-> 2690\u001b[0;31m     \u001b[0mcontext\u001b[0m\u001b[0;34m(\u001b[0m\u001b[0;34m)\u001b[0m\u001b[0;34m.\u001b[0m\u001b[0msync_executors\u001b[0m\u001b[0;34m(\u001b[0m\u001b[0;34m)\u001b[0m\u001b[0;34m\u001b[0m\u001b[0;34m\u001b[0m\u001b[0m\n\u001b[0m\u001b[1;32m   2691\u001b[0m \u001b[0;34m\u001b[0m\u001b[0m\n\u001b[1;32m   2692\u001b[0m \u001b[0;34m\u001b[0m\u001b[0m\n",
            "\u001b[0;32m/usr/local/lib/python3.10/dist-packages/tensorflow/python/eager/context.py\u001b[0m in \u001b[0;36msync_executors\u001b[0;34m(self)\u001b[0m\n\u001b[1;32m    710\u001b[0m     \"\"\"\n\u001b[1;32m    711\u001b[0m     \u001b[0;32mif\u001b[0m \u001b[0mself\u001b[0m\u001b[0;34m.\u001b[0m\u001b[0m_context_handle\u001b[0m\u001b[0;34m:\u001b[0m\u001b[0;34m\u001b[0m\u001b[0;34m\u001b[0m\u001b[0m\n\u001b[0;32m--> 712\u001b[0;31m       \u001b[0mpywrap_tfe\u001b[0m\u001b[0;34m.\u001b[0m\u001b[0mTFE_ContextSyncExecutors\u001b[0m\u001b[0;34m(\u001b[0m\u001b[0mself\u001b[0m\u001b[0;34m.\u001b[0m\u001b[0m_context_handle\u001b[0m\u001b[0;34m)\u001b[0m\u001b[0;34m\u001b[0m\u001b[0;34m\u001b[0m\u001b[0m\n\u001b[0m\u001b[1;32m    713\u001b[0m     \u001b[0;32melse\u001b[0m\u001b[0;34m:\u001b[0m\u001b[0;34m\u001b[0m\u001b[0;34m\u001b[0m\u001b[0m\n\u001b[1;32m    714\u001b[0m       \u001b[0;32mraise\u001b[0m \u001b[0mValueError\u001b[0m\u001b[0;34m(\u001b[0m\u001b[0;34m\"Context is not initialized.\"\u001b[0m\u001b[0;34m)\u001b[0m\u001b[0;34m\u001b[0m\u001b[0;34m\u001b[0m\u001b[0m\n",
            "\u001b[0;31mKeyboardInterrupt\u001b[0m: "
          ]
        },
        {
          "output_type": "display_data",
          "data": {
            "text/plain": [
              "<Figure size 1200x1200 with 25 Axes>"
            ],
            "image/png": "[encoded data removed]"
          },
          "metadata": {}
        }
      ]
    },
    {
      "cell_type": "code",
      "source": [
        "print(vae.layers[2].predict(tf.constant([[-1,1]]))[0][...,0].shape)"
      ],
      "metadata": {
        "id": "TSKnoRkB8-7v"
      },
      "execution_count": null,
      "outputs": []
    },
    {
      "cell_type": "code",
      "source": [
        "(x_train, y_train), _ = tf.keras.datasets.mnist.load_data()\n",
        "mnist_digits = np.expand_dims(x_train,-1).astype(\"float32\") / 255"
      ],
      "metadata": {
        "id": "AZ-iZ4ji8--H"
      },
      "execution_count": null,
      "outputs": []
    },
    {
      "cell_type": "code",
      "source": [
        "z,_,_=vae.layers[1].predict(x_train)\n",
        "plt.figure(figsize=(12,12))\n",
        "plt.scatter(z[:,0],z[:,1],c=y_train)\n",
        "plt.colorbar()\n",
        "plt.show()"
      ],
      "metadata": {
        "id": "v_Cs866W8_AU",
        "colab": {
          "base_uri": "https://localhost:8080/",
          "height": 1000
        },
        "outputId": "8ee3ba39-e5ef-4c95-e6f4-dd02d248bda8"
      },
      "execution_count": null,
      "outputs": [
        {
          "output_type": "stream",
          "name": "stdout",
          "text": [
            "1875/1875 [==============================] - 3s 2ms/step\n"
          ]
        },
        {
          "output_type": "display_data",
          "data": {
            "text/plain": [
              "<Figure size 1200x1200 with 2 Axes>"
            ],
            "image/png": "[encoded data removed]"
          },
          "metadata": {}
        }
      ]
    },
    {
      "cell_type": "code",
      "source": [
        "z.shape"
      ],
      "metadata": {
        "id": "D5aQNB1I8_E7",
        "colab": {
          "base_uri": "https://localhost:8080/"
        },
        "outputId": "86f5b5e7-1565-4278-c5d1-1bcfa49e78ab"
      },
      "execution_count": null,
      "outputs": [
        {
          "output_type": "execute_result",
          "data": {
            "text/plain": [
              "(60000, 2)"
            ]
          },
          "metadata": {},
          "execution_count": 25
        }
      ]
    },
    {
      "cell_type": "code",
      "source": [
        "from sklearn.cluster import KMeans\n",
        "kme=KMeans(10,verbose=1,n_init=10)"
      ],
      "metadata": {
        "id": "PsEmkJl_OzxX"
      },
      "execution_count": null,
      "outputs": []
    },
    {
      "cell_type": "code",
      "source": [
        "cast_val=tf.cast(z,dtype=tf.float32).numpy()"
      ],
      "metadata": {
        "id": "QPJM9VptUnUF"
      },
      "execution_count": null,
      "outputs": []
    },
    {
      "cell_type": "code",
      "source": [
        "tf.math.reduce_max(cast_val)"
      ],
      "metadata": {
        "colab": {
          "base_uri": "https://localhost:8080/"
        },
        "id": "hu_94hEzU1wu",
        "outputId": "608f416b-aca3-4ee4-d78c-ed5bb4b90f21"
      },
      "execution_count": null,
      "outputs": [
        {
          "output_type": "execute_result",
          "data": {
            "text/plain": [
              "<tf.Tensor: shape=(), dtype=float32, numpy=inf>"
            ]
          },
          "metadata": {},
          "execution_count": 46
        }
      ]
    },
    {
      "cell_type": "code",
      "source": [
        "kme.fit(cast_val)"
      ],
      "metadata": {
        "id": "g77qDUEWO_fM"
      },
      "execution_count": null,
      "outputs": []
    },
    {
      "cell_type": "code",
      "source": [
        "set(kme.predict(z))"
      ],
      "metadata": {
        "colab": {
          "base_uri": "https://localhost:8080/"
        },
        "id": "hlwBQPVOPB9z",
        "outputId": "e83097d2-fca1-407e-a4e9-1744e1394bf8"
      },
      "execution_count": null,
      "outputs": [
        {
          "output_type": "execute_result",
          "data": {
            "text/plain": [
              "{0, 4, 5, 6, 7, 8, 9}"
            ]
          },
          "metadata": {},
          "execution_count": 32
        }
      ]
    },
    {
      "cell_type": "code",
      "source": [
        "plt.imshow(vae.layers[-1].predict([[50,50]])[0])"
      ],
      "metadata": {
        "colab": {
          "base_uri": "https://localhost:8080/",
          "height": 465
        },
        "id": "vaLI5te9PSBr",
        "outputId": "abc51855-5978-4b2a-d90e-a2796664d377"
      },
      "execution_count": null,
      "outputs": [
        {
          "output_type": "stream",
          "name": "stdout",
          "text": [
            "1/1 [==============================] - 0s 121ms/step\n"
          ]
        },
        {
          "output_type": "execute_result",
          "data": {
            "text/plain": [
              "<matplotlib.image.AxesImage at 0x7fe671168940>"
            ]
          },
          "metadata": {},
          "execution_count": 53
        },
        {
          "output_type": "display_data",
          "data": {
            "text/plain": [
              "<Figure size 640x480 with 1 Axes>"
            ],
            "image/png": "[encoded data removed]"
          },
          "metadata": {}
        }
      ]
    },
    {
      "cell_type": "code",
      "source": [],
      "metadata": {
        "id": "tIkVlQSoXq4p"
      },
      "execution_count": null,
      "outputs": []
    },
    {
      "cell_type": "code",
      "source": [
        "encoder_inputs = Input(shape=(28,28,1))\n",
        "\n",
        "x = Conv2D(32, 3, activation='relu', strides=2, padding='same')(encoder_inputs)\n",
        "x = Conv2D(64, 3, activation='relu', strides=2, padding='same')(x)\n",
        "\n",
        "x = Flatten()(x)\n",
        "x = Dense(16, activation='relu')(x)\n",
        "\n",
        "mean = Dense(LATENT_DIM,)(x)\n",
        "log_var = Dense(LATENT_DIM,)(x)\n",
        "\n",
        "z = Sampling()([mean,log_var])\n",
        "\n",
        "encoder_model_1 = Model(encoder_inputs,[z,mean,log_var], name='encoder')\n",
        "encoder_model_1.summary()"
      ],
      "metadata": {
        "colab": {
          "base_uri": "https://localhost:8080/"
        },
        "outputId": "ca816418-1f02-4d3b-d3e1-d6755a168d1e",
        "id": "OOPkglieXrR_"
      },
      "execution_count": null,
      "outputs": [
        {
          "output_type": "stream",
          "name": "stdout",
          "text": [
            "Model: \"encoder\"\n",
            "__________________________________________________________________________________________________\n",
            " Layer (type)                   Output Shape         Param #     Connected to                     \n",
            "==================================================================================================\n",
            " input_3 (InputLayer)           [(None, 28, 28, 1)]  0           []                               \n",
            "                                                                                                  \n",
            " conv2d_2 (Conv2D)              (None, 14, 14, 32)   320         ['input_3[0][0]']                \n",
            "                                                                                                  \n",
            " conv2d_3 (Conv2D)              (None, 7, 7, 64)     18496       ['conv2d_2[0][0]']               \n",
            "                                                                                                  \n",
            " flatten_1 (Flatten)            (None, 3136)         0           ['conv2d_3[0][0]']               \n",
            "                                                                                                  \n",
            " dense_4 (Dense)                (None, 16)           50192       ['flatten_1[0][0]']              \n",
            "                                                                                                  \n",
            " dense_5 (Dense)                (None, 2)            34          ['dense_4[0][0]']                \n",
            "                                                                                                  \n",
            " dense_6 (Dense)                (None, 2)            34          ['dense_4[0][0]']                \n",
            "                                                                                                  \n",
            " sampling_1 (Sampling)          (None, 2)            0           ['dense_5[0][0]',                \n",
            "                                                                  'dense_6[0][0]']                \n",
            "                                                                                                  \n",
            "==================================================================================================\n",
            "Total params: 69,076\n",
            "Trainable params: 69,076\n",
            "Non-trainable params: 0\n",
            "__________________________________________________________________________________________________\n"
          ]
        }
      ]
    },
    {
      "cell_type": "code",
      "source": [
        "latent_inputs = Input(shape=(LATENT_DIM,))\n",
        "\n",
        "\n",
        "x = Dense(7*7*64, activation='relu')(latent_inputs)\n",
        "x = Reshape((7,7,64))(x)\n",
        "\n",
        "x = Conv2DTranspose(64, 3, activation='relu', strides=2, padding='same')(x)\n",
        "x = Conv2DTranspose(32, 3, activation='relu', strides=2, padding='same')(x)\n",
        "\n",
        "decoder_output = Conv2DTranspose(1, 3, activation='sigmoid', padding='same')(x)\n",
        "decoder_model_1 = Model(latent_inputs,decoder_output,name='decoder')\n",
        "decoder_model_1.summary()"
      ],
      "metadata": {
        "colab": {
          "base_uri": "https://localhost:8080/"
        },
        "outputId": "7b33426a-ff6c-42db-b0f5-950a5db55246",
        "id": "Hy16jMR7XrSB"
      },
      "execution_count": null,
      "outputs": [
        {
          "output_type": "stream",
          "name": "stdout",
          "text": [
            "Model: \"decoder\"\n",
            "_________________________________________________________________\n",
            " Layer (type)                Output Shape              Param #   \n",
            "=================================================================\n",
            " input_4 (InputLayer)        [(None, 2)]               0         \n",
            "                                                                 \n",
            " dense_7 (Dense)             (None, 3136)              9408      \n",
            "                                                                 \n",
            " reshape_1 (Reshape)         (None, 7, 7, 64)          0         \n",
            "                                                                 \n",
            " conv2d_transpose_3 (Conv2DT  (None, 14, 14, 64)       36928     \n",
            " ranspose)                                                       \n",
            "                                                                 \n",
            " conv2d_transpose_4 (Conv2DT  (None, 28, 28, 32)       18464     \n",
            " ranspose)                                                       \n",
            "                                                                 \n",
            " conv2d_transpose_5 (Conv2DT  (None, 28, 28, 1)        289       \n",
            " ranspose)                                                       \n",
            "                                                                 \n",
            "=================================================================\n",
            "Total params: 65,089\n",
            "Trainable params: 65,089\n",
            "Non-trainable params: 0\n",
            "_________________________________________________________________\n"
          ]
        }
      ]
    },
    {
      "cell_type": "code",
      "source": [],
      "metadata": {
        "id": "NRMfk0FFcGDU"
      },
      "execution_count": null,
      "outputs": []
    },
    {
      "cell_type": "code",
      "source": [
        "import tensorflow_datasets as tfds\n",
        "f_data=tfds.load(name=\"fashion_mnist\",as_supervised=True)"
      ],
      "metadata": {
        "id": "P4MLVL4fXxtx"
      },
      "execution_count": null,
      "outputs": []
    },
    {
      "cell_type": "code",
      "source": [
        "def rescaling(img,lab):\n",
        "  return tf.cast(img,dtype=tf.float32)/255."
      ],
      "metadata": {
        "id": "NewDVEIJYgxE"
      },
      "execution_count": null,
      "outputs": []
    },
    {
      "cell_type": "code",
      "source": [
        "resca_train=f_data[\"train\"].map(rescaling)"
      ],
      "metadata": {
        "id": "9aZpYjemYglF"
      },
      "execution_count": null,
      "outputs": []
    },
    {
      "cell_type": "code",
      "source": [
        "train_data_fashion=resca_train.shuffle(2000).batch(32).prefetch(tf.data.AUTOTUNE)"
      ],
      "metadata": {
        "id": "oaTVtkd0YgZl"
      },
      "execution_count": null,
      "outputs": []
    },
    {
      "cell_type": "code",
      "source": [
        "train_data_fashion"
      ],
      "metadata": {
        "colab": {
          "base_uri": "https://localhost:8080/"
        },
        "id": "0TLWo-BpYgKk",
        "outputId": "9b50a56c-d894-46c7-f305-63895181d009"
      },
      "execution_count": null,
      "outputs": [
        {
          "output_type": "execute_result",
          "data": {
            "text/plain": [
              "<_PrefetchDataset element_spec=TensorSpec(shape=(None, 28, 28, 1), dtype=tf.float32, name=None)>"
            ]
          },
          "metadata": {},
          "execution_count": 76
        }
      ]
    },
    {
      "cell_type": "code",
      "source": [
        "class VAE(tf.keras.Model):\n",
        "  def __init__(self,encoder_model, decoder_model):\n",
        "    super(VAE,self).__init__()\n",
        "    self.encoder=encoder_model\n",
        "    self.decoder=decoder_model\n",
        "    self.loss_tracker=tf.keras.metrics.Mean(name='loss')\n",
        "  @property\n",
        "  def metrics(self):\n",
        "    return [self.loss_tracker]\n",
        "\n",
        "  def compile(self,optmizer,loss,*args,**kwargs):\n",
        "    self.optmizer=optmizer\n",
        "    self.loss=loss\n",
        "  def train_step(self,x_batch):\n",
        "    with tf.GradientTape() as recorder:\n",
        "      z,mean,log_var = self.encoder(x_batch)\n",
        "      y_pred = self.decoder(z)\n",
        "      y_true = x_batch\n",
        "      loss = self.loss(y_true,y_pred, mean, log_var)\n",
        "\n",
        "    partial_derivatives = recorder.gradient(loss,self.trainable_weights)\n",
        "    self.optimizer.apply_gradients(zip(partial_derivatives, self.trainable_weights))\n",
        "\n",
        "    self.loss_tracker.update_state(loss)\n",
        "    return {'loss':self.loss_tracker.result()}"
      ],
      "metadata": {
        "id": "EUdDrSTmdTgp"
      },
      "execution_count": null,
      "outputs": []
    },
    {
      "cell_type": "code",
      "source": [
        "custom_loss"
      ],
      "metadata": {
        "colab": {
          "base_uri": "https://localhost:8080/"
        },
        "id": "5bShkuAqdinU",
        "outputId": "1b57fe50-62f0-4bd8-8f23-37732e7250b3"
      },
      "execution_count": null,
      "outputs": [
        {
          "output_type": "execute_result",
          "data": {
            "text/plain": [
              "<function __main__.custom_loss(y_true, y_pred, mean, log_var)>"
            ]
          },
          "metadata": {},
          "execution_count": 90
        }
      ]
    },
    {
      "cell_type": "code",
      "source": [
        "\n",
        "OPTIMIZER_1=tf.keras.optimizers.Adam(learning_rate=1e-3)\n",
        "model=VAE(encoder_model_1,decoder_model_1)\n",
        "model.compile(OPTIMIZER_1,custom_loss)\n",
        "model.fit(train_data_fashion, epochs=150,batch_size=32,)"
      ],
      "metadata": {
        "colab": {
          "base_uri": "https://localhost:8080/",
          "height": 556
        },
        "id": "QsiNBAqKVdNo",
        "outputId": "7d398994-582c-4a10-a57c-b791fc438676"
      },
      "execution_count": null,
      "outputs": [
        {
          "output_type": "stream",
          "name": "stdout",
          "text": [
            "Epoch 1/150\n"
          ]
        },
        {
          "output_type": "error",
          "ename": "TypeError",
          "evalue": "ignored",
          "traceback": [
            "\u001b[0;31m---------------------------------------------------------------------------\u001b[0m",
            "\u001b[0;31mTypeError\u001b[0m                                 Traceback (most recent call last)",
            "\u001b[0;32m<ipython-input-92-2a4cb591c173>\u001b[0m in \u001b[0;36m<cell line: 4>\u001b[0;34m()\u001b[0m\n\u001b[1;32m      2\u001b[0m \u001b[0mmodel\u001b[0m\u001b[0;34m=\u001b[0m\u001b[0mVAE\u001b[0m\u001b[0;34m(\u001b[0m\u001b[0mencoder_model_1\u001b[0m\u001b[0;34m,\u001b[0m\u001b[0mdecoder_model_1\u001b[0m\u001b[0;34m)\u001b[0m\u001b[0;34m\u001b[0m\u001b[0;34m\u001b[0m\u001b[0m\n\u001b[1;32m      3\u001b[0m \u001b[0mmodel\u001b[0m\u001b[0;34m.\u001b[0m\u001b[0mcompile\u001b[0m\u001b[0;34m(\u001b[0m\u001b[0mOPTIMIZER_1\u001b[0m\u001b[0;34m,\u001b[0m\u001b[0mcustom_loss\u001b[0m\u001b[0;34m)\u001b[0m\u001b[0;34m\u001b[0m\u001b[0;34m\u001b[0m\u001b[0m\n\u001b[0;32m----> 4\u001b[0;31m \u001b[0mmodel\u001b[0m\u001b[0;34m.\u001b[0m\u001b[0mfit\u001b[0m\u001b[0;34m(\u001b[0m\u001b[0mtrain_data_fashion\u001b[0m\u001b[0;34m,\u001b[0m \u001b[0mepochs\u001b[0m\u001b[0;34m=\u001b[0m\u001b[0;36m150\u001b[0m\u001b[0;34m,\u001b[0m\u001b[0mbatch_size\u001b[0m\u001b[0;34m=\u001b[0m\u001b[0;36m32\u001b[0m\u001b[0;34m,\u001b[0m\u001b[0;34m)\u001b[0m\u001b[0;34m\u001b[0m\u001b[0;34m\u001b[0m\u001b[0m\n\u001b[0m",
            "\u001b[0;32m/usr/local/lib/python3.10/dist-packages/keras/utils/traceback_utils.py\u001b[0m in \u001b[0;36merror_handler\u001b[0;34m(*args, **kwargs)\u001b[0m\n\u001b[1;32m     68\u001b[0m             \u001b[0;31m# To get the full stack trace, call:\u001b[0m\u001b[0;34m\u001b[0m\u001b[0;34m\u001b[0m\u001b[0m\n\u001b[1;32m     69\u001b[0m             \u001b[0;31m# `tf.debugging.disable_traceback_filtering()`\u001b[0m\u001b[0;34m\u001b[0m\u001b[0;34m\u001b[0m\u001b[0m\n\u001b[0;32m---> 70\u001b[0;31m             \u001b[0;32mraise\u001b[0m \u001b[0me\u001b[0m\u001b[0;34m.\u001b[0m\u001b[0mwith_traceback\u001b[0m\u001b[0;34m(\u001b[0m\u001b[0mfiltered_tb\u001b[0m\u001b[0;34m)\u001b[0m \u001b[0;32mfrom\u001b[0m \u001b[0;32mNone\u001b[0m\u001b[0;34m\u001b[0m\u001b[0;34m\u001b[0m\u001b[0m\n\u001b[0m\u001b[1;32m     71\u001b[0m         \u001b[0;32mfinally\u001b[0m\u001b[0;34m:\u001b[0m\u001b[0;34m\u001b[0m\u001b[0;34m\u001b[0m\u001b[0m\n\u001b[1;32m     72\u001b[0m             \u001b[0;32mdel\u001b[0m \u001b[0mfiltered_tb\u001b[0m\u001b[0;34m\u001b[0m\u001b[0;34m\u001b[0m\u001b[0m\n",
            "\u001b[0;32m/usr/local/lib/python3.10/dist-packages/keras/engine/training.py\u001b[0m in \u001b[0;36mtf__train_function\u001b[0;34m(iterator)\u001b[0m\n\u001b[1;32m     13\u001b[0m                 \u001b[0;32mtry\u001b[0m\u001b[0;34m:\u001b[0m\u001b[0;34m\u001b[0m\u001b[0;34m\u001b[0m\u001b[0m\n\u001b[1;32m     14\u001b[0m                     \u001b[0mdo_return\u001b[0m \u001b[0;34m=\u001b[0m \u001b[0;32mTrue\u001b[0m\u001b[0;34m\u001b[0m\u001b[0;34m\u001b[0m\u001b[0m\n\u001b[0;32m---> 15\u001b[0;31m                     \u001b[0mretval_\u001b[0m \u001b[0;34m=\u001b[0m \u001b[0mag__\u001b[0m\u001b[0;34m.\u001b[0m\u001b[0mconverted_call\u001b[0m\u001b[0;34m(\u001b[0m\u001b[0mag__\u001b[0m\u001b[0;34m.\u001b[0m\u001b[0mld\u001b[0m\u001b[0;34m(\u001b[0m\u001b[0mstep_function\u001b[0m\u001b[0;34m)\u001b[0m\u001b[0;34m,\u001b[0m \u001b[0;34m(\u001b[0m\u001b[0mag__\u001b[0m\u001b[0;34m.\u001b[0m\u001b[0mld\u001b[0m\u001b[0;34m(\u001b[0m\u001b[0mself\u001b[0m\u001b[0;34m)\u001b[0m\u001b[0;34m,\u001b[0m \u001b[0mag__\u001b[0m\u001b[0;34m.\u001b[0m\u001b[0mld\u001b[0m\u001b[0;34m(\u001b[0m\u001b[0miterator\u001b[0m\u001b[0;34m)\u001b[0m\u001b[0;34m)\u001b[0m\u001b[0;34m,\u001b[0m \u001b[0;32mNone\u001b[0m\u001b[0;34m,\u001b[0m \u001b[0mfscope\u001b[0m\u001b[0;34m)\u001b[0m\u001b[0;34m\u001b[0m\u001b[0;34m\u001b[0m\u001b[0m\n\u001b[0m\u001b[1;32m     16\u001b[0m                 \u001b[0;32mexcept\u001b[0m\u001b[0;34m:\u001b[0m\u001b[0;34m\u001b[0m\u001b[0;34m\u001b[0m\u001b[0m\n\u001b[1;32m     17\u001b[0m                     \u001b[0mdo_return\u001b[0m \u001b[0;34m=\u001b[0m \u001b[0;32mFalse\u001b[0m\u001b[0;34m\u001b[0m\u001b[0;34m\u001b[0m\u001b[0m\n",
            "\u001b[0;32m<ipython-input-89-bc262e24c3c1>\u001b[0m in \u001b[0;36mtrain_step\u001b[0;34m(self, x_batch)\u001b[0m\n\u001b[1;32m     18\u001b[0m       \u001b[0my_pred\u001b[0m \u001b[0;34m=\u001b[0m \u001b[0mself\u001b[0m\u001b[0;34m.\u001b[0m\u001b[0mdecoder\u001b[0m\u001b[0;34m(\u001b[0m\u001b[0mz\u001b[0m\u001b[0;34m)\u001b[0m\u001b[0;34m\u001b[0m\u001b[0;34m\u001b[0m\u001b[0m\n\u001b[1;32m     19\u001b[0m       \u001b[0my_true\u001b[0m \u001b[0;34m=\u001b[0m \u001b[0mx_batch\u001b[0m\u001b[0;34m\u001b[0m\u001b[0;34m\u001b[0m\u001b[0m\n\u001b[0;32m---> 20\u001b[0;31m       \u001b[0mloss\u001b[0m \u001b[0;34m=\u001b[0m \u001b[0mself\u001b[0m\u001b[0;34m.\u001b[0m\u001b[0mloss\u001b[0m\u001b[0;34m(\u001b[0m\u001b[0my_true\u001b[0m\u001b[0;34m,\u001b[0m\u001b[0my_pred\u001b[0m\u001b[0;34m,\u001b[0m \u001b[0mmean\u001b[0m\u001b[0;34m,\u001b[0m \u001b[0mlog_var\u001b[0m\u001b[0;34m)\u001b[0m\u001b[0;34m\u001b[0m\u001b[0;34m\u001b[0m\u001b[0m\n\u001b[0m\u001b[1;32m     21\u001b[0m \u001b[0;34m\u001b[0m\u001b[0m\n\u001b[1;32m     22\u001b[0m     \u001b[0mpartial_derivatives\u001b[0m \u001b[0;34m=\u001b[0m \u001b[0mrecorder\u001b[0m\u001b[0;34m.\u001b[0m\u001b[0mgradient\u001b[0m\u001b[0;34m(\u001b[0m\u001b[0mloss\u001b[0m\u001b[0;34m,\u001b[0m\u001b[0mself\u001b[0m\u001b[0;34m.\u001b[0m\u001b[0mtrainable_weights\u001b[0m\u001b[0;34m)\u001b[0m\u001b[0;34m\u001b[0m\u001b[0;34m\u001b[0m\u001b[0m\n",
            "\u001b[0;31mTypeError\u001b[0m: in user code:\n\n    File \"/usr/local/lib/python3.10/dist-packages/keras/engine/training.py\", line 1284, in train_function  *\n        return step_function(self, iterator)\n    File \"/usr/local/lib/python3.10/dist-packages/keras/engine/training.py\", line 1268, in step_function  **\n        outputs = model.distribute_strategy.run(run_step, args=(data,))\n    File \"/usr/local/lib/python3.10/dist-packages/keras/engine/training.py\", line 1249, in run_step  **\n        outputs = model.train_step(data)\n    File \"<ipython-input-89-bc262e24c3c1>\", line 20, in train_step\n        loss = self.loss(y_true,y_pred, mean, log_var)\n\n    TypeError: '_DictWrapper' object is not callable\n"
          ]
        }
      ]
    },
    {
      "cell_type": "code",
      "source": [],
      "metadata": {
        "id": "BFBLw4gWaMjT"
      },
      "execution_count": null,
      "outputs": []
    }
  ]
}