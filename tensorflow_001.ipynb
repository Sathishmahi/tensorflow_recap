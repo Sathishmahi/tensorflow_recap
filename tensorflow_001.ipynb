{
  "nbformat": 4,
  "nbformat_minor": 0,
  "metadata": {
    "colab": {
      "provenance": [],
      "gpuType": "T4"
    },
    "kernelspec": {
      "name": "python3",
      "display_name": "Python 3"
    },
    "language_info": {
      "name": "python"
    },
    "accelerator": "GPU"
  },
  "cells": [
    {
      "cell_type": "code",
      "execution_count": 14,
      "metadata": {
        "id": "76k7G_o-JCEW"
      },
      "outputs": [],
      "source": [
        "import tensorflow as tf\n",
        "import numpy as np"
      ]
    },
    {
      "cell_type": "code",
      "source": [
        "tensor_zero_d=tf.constant(10,dtype=tf.float16)\n",
        "tensor_zero_d"
      ],
      "metadata": {
        "colab": {
          "base_uri": "https://localhost:8080/"
        },
        "id": "ItfK06RxKzyr",
        "outputId": "98e997b9-6952-4aa8-917b-953ad6aa2b25"
      },
      "execution_count": 25,
      "outputs": [
        {
          "output_type": "execute_result",
          "data": {
            "text/plain": [
              "<tf.Tensor: shape=(), dtype=float16, numpy=10.0>"
            ]
          },
          "metadata": {},
          "execution_count": 25
        }
      ]
    },
    {
      "cell_type": "code",
      "source": [
        "tensor_one_d=tf.constant([10,10])\n",
        "tensor_one_d"
      ],
      "metadata": {
        "colab": {
          "base_uri": "https://localhost:8080/"
        },
        "id": "ntAXDUKAK5LV",
        "outputId": "a902b960-29a3-437e-9ab4-80267969c629"
      },
      "execution_count": 4,
      "outputs": [
        {
          "output_type": "execute_result",
          "data": {
            "text/plain": [
              "<tf.Tensor: shape=(2,), dtype=int32, numpy=array([10, 10], dtype=int32)>"
            ]
          },
          "metadata": {},
          "execution_count": 4
        }
      ]
    },
    {
      "cell_type": "code",
      "source": [
        "tensor_two_d=tf.constant([[10,10],[10,9]])\n",
        "tensor_two_d"
      ],
      "metadata": {
        "colab": {
          "base_uri": "https://localhost:8080/"
        },
        "id": "4e6eOZ4pLNca",
        "outputId": "a8d4e718-6590-4f4f-bca1-d8f12df501d2"
      },
      "execution_count": 6,
      "outputs": [
        {
          "output_type": "execute_result",
          "data": {
            "text/plain": [
              "<tf.Tensor: shape=(2, 2), dtype=int32, numpy=\n",
              "array([[10, 10],\n",
              "       [10,  9]], dtype=int32)>"
            ]
          },
          "metadata": {},
          "execution_count": 6
        }
      ]
    },
    {
      "cell_type": "code",
      "source": [
        "tensor_three_d=tf.constant([[[10,10],[10,9]],[[10,10],[10,9]]])\n",
        "tensor_three_d"
      ],
      "metadata": {
        "colab": {
          "base_uri": "https://localhost:8080/"
        },
        "id": "frJuZ5UpLf0n",
        "outputId": "bd021cab-c717-4537-fe47-1adf555a4ba6"
      },
      "execution_count": 7,
      "outputs": [
        {
          "output_type": "execute_result",
          "data": {
            "text/plain": [
              "<tf.Tensor: shape=(2, 2, 2), dtype=int32, numpy=\n",
              "array([[[10, 10],\n",
              "        [10,  9]],\n",
              "\n",
              "       [[10, 10],\n",
              "        [10,  9]]], dtype=int32)>"
            ]
          },
          "metadata": {},
          "execution_count": 7
        }
      ]
    },
    {
      "cell_type": "code",
      "source": [
        "tensor_three_d.shape"
      ],
      "metadata": {
        "colab": {
          "base_uri": "https://localhost:8080/"
        },
        "id": "b0LVrI5hMCc_",
        "outputId": "4291f73d-ff3e-431e-ac11-7bc561232dbd"
      },
      "execution_count": 9,
      "outputs": [
        {
          "output_type": "execute_result",
          "data": {
            "text/plain": [
              "TensorShape([2, 2, 2])"
            ]
          },
          "metadata": {},
          "execution_count": 9
        }
      ]
    },
    {
      "cell_type": "code",
      "source": [
        "tensor_four_d=tf.constant(\n",
        "    [[\n",
        "        [[1,1,1]],\n",
        "        [[2,2,2]],\n",
        "    ],\n",
        "     [\n",
        "        [[1,1,1]],\n",
        "        [[2,2,2]],\n",
        "    ]]\n",
        ")\n",
        "tensor_four_d"
      ],
      "metadata": {
        "colab": {
          "base_uri": "https://localhost:8080/"
        },
        "id": "ZHYKYuYJMifu",
        "outputId": "f84545b6-28f0-4ac9-c88c-65153a14cce5"
      },
      "execution_count": 20,
      "outputs": [
        {
          "output_type": "execute_result",
          "data": {
            "text/plain": [
              "<tf.Tensor: shape=(2, 2, 1, 3), dtype=int32, numpy=\n",
              "array([[[[1, 1, 1]],\n",
              "\n",
              "        [[2, 2, 2]]],\n",
              "\n",
              "\n",
              "       [[[1, 1, 1]],\n",
              "\n",
              "        [[2, 2, 2]]]], dtype=int32)>"
            ]
          },
          "metadata": {},
          "execution_count": 20
        }
      ]
    },
    {
      "cell_type": "code",
      "source": [
        "tensor_four_d.shape"
      ],
      "metadata": {
        "colab": {
          "base_uri": "https://localhost:8080/"
        },
        "id": "P9IjmvFNM1Jh",
        "outputId": "8199f6d5-5f35-48b5-9a1d-cbbcd9bf5617"
      },
      "execution_count": 13,
      "outputs": [
        {
          "output_type": "execute_result",
          "data": {
            "text/plain": [
              "TensorShape([2, 2, 1, 3])"
            ]
          },
          "metadata": {},
          "execution_count": 13
        }
      ]
    },
    {
      "cell_type": "code",
      "source": [
        "tensor_four_d.numpy()"
      ],
      "metadata": {
        "colab": {
          "base_uri": "https://localhost:8080/"
        },
        "id": "Yoxdw2eSNHpQ",
        "outputId": "88e3344b-b829-490e-ddf5-8b147f1d6e34"
      },
      "execution_count": 17,
      "outputs": [
        {
          "output_type": "execute_result",
          "data": {
            "text/plain": [
              "array([[[[1, 1, 1]],\n",
              "\n",
              "        [[2, 2, 2]]],\n",
              "\n",
              "\n",
              "       [[[1, 1, 1]],\n",
              "\n",
              "        [[2, 2, 2]]]], dtype=int32)"
            ]
          },
          "metadata": {},
          "execution_count": 17
        }
      ]
    },
    {
      "cell_type": "code",
      "source": [
        "tensor_four_d.dtype"
      ],
      "metadata": {
        "colab": {
          "base_uri": "https://localhost:8080/"
        },
        "id": "wMD1PDK-NPOL",
        "outputId": "f7b294fc-e966-41de-d9da-27caaaefa0cc"
      },
      "execution_count": 18,
      "outputs": [
        {
          "output_type": "execute_result",
          "data": {
            "text/plain": [
              "tf.int32"
            ]
          },
          "metadata": {},
          "execution_count": 18
        }
      ]
    },
    {
      "cell_type": "code",
      "source": [
        "tensor_four_d.ndim"
      ],
      "metadata": {
        "colab": {
          "base_uri": "https://localhost:8080/"
        },
        "id": "ArGcoQyjNV_z",
        "outputId": "51c73897-7508-4f22-9c28-ba9213595936"
      },
      "execution_count": 21,
      "outputs": [
        {
          "output_type": "execute_result",
          "data": {
            "text/plain": [
              "4"
            ]
          },
          "metadata": {},
          "execution_count": 21
        }
      ]
    },
    {
      "cell_type": "code",
      "source": [
        "tensor_zero_d=tf.constant(10.8,dtype=tf.float16)\n",
        "tensor_zero_d"
      ],
      "metadata": {
        "colab": {
          "base_uri": "https://localhost:8080/"
        },
        "id": "OFB8DUHONr0o",
        "outputId": "982e26ac-9def-4bff-db40-33092c1f443e"
      },
      "execution_count": 30,
      "outputs": [
        {
          "output_type": "execute_result",
          "data": {
            "text/plain": [
              "<tf.Tensor: shape=(), dtype=float16, numpy=10.8>"
            ]
          },
          "metadata": {},
          "execution_count": 30
        }
      ]
    },
    {
      "cell_type": "code",
      "source": [
        "tf.cast(tensor_zero_d,dtype=tf.qint8)"
      ],
      "metadata": {
        "colab": {
          "base_uri": "https://localhost:8080/"
        },
        "id": "enNkgZGKNvQ6",
        "outputId": "cc4fddb1-0476-4fcb-b3d3-a0062df527f2"
      },
      "execution_count": 31,
      "outputs": [
        {
          "output_type": "execute_result",
          "data": {
            "text/plain": [
              "<tf.Tensor: shape=(), dtype=qint8, numpy=10>"
            ]
          },
          "metadata": {},
          "execution_count": 31
        }
      ]
    },
    {
      "cell_type": "code",
      "source": [
        "tensor_bool=tf.constant([True,False])\n",
        "tensor_bool"
      ],
      "metadata": {
        "colab": {
          "base_uri": "https://localhost:8080/"
        },
        "id": "rWUM4Io5PzkQ",
        "outputId": "32ab8795-91c2-4420-bbe1-252c89c1021d"
      },
      "execution_count": 32,
      "outputs": [
        {
          "output_type": "execute_result",
          "data": {
            "text/plain": [
              "<tf.Tensor: shape=(2,), dtype=bool, numpy=array([ True, False])>"
            ]
          },
          "metadata": {},
          "execution_count": 32
        }
      ]
    },
    {
      "cell_type": "code",
      "source": [
        "tensor_str=tf.constant([\"True\",\"False\"])\n",
        "tensor_str"
      ],
      "metadata": {
        "colab": {
          "base_uri": "https://localhost:8080/"
        },
        "id": "vc9Z9_cAQBPr",
        "outputId": "bb9af59a-ff69-4e23-a853-8b84606ca798"
      },
      "execution_count": 33,
      "outputs": [
        {
          "output_type": "execute_result",
          "data": {
            "text/plain": [
              "<tf.Tensor: shape=(2,), dtype=string, numpy=array([b'True', b'False'], dtype=object)>"
            ]
          },
          "metadata": {},
          "execution_count": 33
        }
      ]
    },
    {
      "cell_type": "code",
      "source": [
        "np_arr=np.array([1,2,2,2])\n",
        "tensor_arr=tf.convert_to_tensor(np_arr)\n",
        "print(type(np_arr),type(tensor_arr))"
      ],
      "metadata": {
        "colab": {
          "base_uri": "https://localhost:8080/"
        },
        "id": "OOhgVsOzQF3z",
        "outputId": "962b53ea-9dd8-4c7f-9599-aaeafd5d13fd"
      },
      "execution_count": 37,
      "outputs": [
        {
          "output_type": "stream",
          "name": "stdout",
          "text": [
            "<class 'numpy.ndarray'> <class 'tensorflow.python.framework.ops.EagerTensor'>\n"
          ]
        }
      ]
    },
    {
      "cell_type": "code",
      "source": [
        "eye_matrix=tf.eye(num_rows=2)\n",
        "eye_matrix"
      ],
      "metadata": {
        "colab": {
          "base_uri": "https://localhost:8080/"
        },
        "id": "eAW5PCKuQNcg",
        "outputId": "15728b82-0278-45a9-da0a-658ee3671361"
      },
      "execution_count": 44,
      "outputs": [
        {
          "output_type": "execute_result",
          "data": {
            "text/plain": [
              "<tf.Tensor: shape=(2, 2), dtype=float32, numpy=\n",
              "array([[1., 0.],\n",
              "       [0., 1.]], dtype=float32)>"
            ]
          },
          "metadata": {},
          "execution_count": 44
        }
      ]
    },
    {
      "cell_type": "code",
      "source": [
        "eye_matrix=tf.eye(num_rows=2,batch_shape=[2])\n",
        "eye_matrix"
      ],
      "metadata": {
        "colab": {
          "base_uri": "https://localhost:8080/"
        },
        "id": "5sUBGhW9Qf6i",
        "outputId": "ab734ce0-425e-4a28-de11-4c935716dd64"
      },
      "execution_count": 4,
      "outputs": [
        {
          "output_type": "execute_result",
          "data": {
            "text/plain": [
              "<tf.Tensor: shape=(2, 2, 2), dtype=float32, numpy=\n",
              "array([[[1., 0.],\n",
              "        [0., 1.]],\n",
              "\n",
              "       [[1., 0.],\n",
              "        [0., 1.]]], dtype=float32)>"
            ]
          },
          "metadata": {},
          "execution_count": 4
        }
      ]
    },
    {
      "cell_type": "code",
      "source": [
        "tf.fill((2,5),0)"
      ],
      "metadata": {
        "colab": {
          "base_uri": "https://localhost:8080/"
        },
        "id": "5Oi7eN-sXULg",
        "outputId": "c931b63c-ce3c-4bb5-df05-47e64bed03d6"
      },
      "execution_count": 5,
      "outputs": [
        {
          "output_type": "execute_result",
          "data": {
            "text/plain": [
              "<tf.Tensor: shape=(2, 5), dtype=int32, numpy=\n",
              "array([[0, 0, 0, 0, 0],\n",
              "       [0, 0, 0, 0, 0]], dtype=int32)>"
            ]
          },
          "metadata": {},
          "execution_count": 5
        }
      ]
    },
    {
      "cell_type": "code",
      "source": [
        "tensor_ones=tf.ones((2,2),dtype=tf.int8)"
      ],
      "metadata": {
        "id": "jKE0QIuGX3Ou"
      },
      "execution_count": 10,
      "outputs": []
    },
    {
      "cell_type": "code",
      "source": [
        "tf.ones_like(eye_matrix)"
      ],
      "metadata": {
        "colab": {
          "base_uri": "https://localhost:8080/"
        },
        "id": "NjrpsVhmYJQr",
        "outputId": "25d61255-ccfb-44b4-b7da-1fed311f87bf"
      },
      "execution_count": 11,
      "outputs": [
        {
          "output_type": "execute_result",
          "data": {
            "text/plain": [
              "<tf.Tensor: shape=(2, 2, 2), dtype=float32, numpy=\n",
              "array([[[1., 1.],\n",
              "        [1., 1.]],\n",
              "\n",
              "       [[1., 1.],\n",
              "        [1., 1.]]], dtype=float32)>"
            ]
          },
          "metadata": {},
          "execution_count": 11
        }
      ]
    },
    {
      "cell_type": "code",
      "source": [
        "zeros_tensor=tf.zeros((3,3))\n",
        "zeros_tensor"
      ],
      "metadata": {
        "colab": {
          "base_uri": "https://localhost:8080/"
        },
        "id": "zJTtY4YwYiiQ",
        "outputId": "0efd4a8d-957e-479e-bbe7-696d1910603a"
      },
      "execution_count": 13,
      "outputs": [
        {
          "output_type": "execute_result",
          "data": {
            "text/plain": [
              "<tf.Tensor: shape=(3, 3), dtype=float32, numpy=\n",
              "array([[0., 0., 0.],\n",
              "       [0., 0., 0.],\n",
              "       [0., 0., 0.]], dtype=float32)>"
            ]
          },
          "metadata": {},
          "execution_count": 13
        }
      ]
    },
    {
      "cell_type": "code",
      "source": [
        "zeros_like_tensor=tf.zeros_like(eye_matrix)\n",
        "zeros_like_tensor"
      ],
      "metadata": {
        "colab": {
          "base_uri": "https://localhost:8080/"
        },
        "id": "jp6vUD_fZPUO",
        "outputId": "77dd5221-2ea3-4701-f382-a2de9e1d958f"
      },
      "execution_count": 14,
      "outputs": [
        {
          "output_type": "execute_result",
          "data": {
            "text/plain": [
              "<tf.Tensor: shape=(2, 2, 2), dtype=float32, numpy=\n",
              "array([[[0., 0.],\n",
              "        [0., 0.]],\n",
              "\n",
              "       [[0., 0.],\n",
              "        [0., 0.]]], dtype=float32)>"
            ]
          },
          "metadata": {},
          "execution_count": 14
        }
      ]
    },
    {
      "cell_type": "code",
      "source": [
        "tf.shape(zeros_like_tensor)"
      ],
      "metadata": {
        "colab": {
          "base_uri": "https://localhost:8080/"
        },
        "id": "cTtVPck1Zpix",
        "outputId": "8451045d-59d4-423c-f1a7-0e278cd57bf5"
      },
      "execution_count": 15,
      "outputs": [
        {
          "output_type": "execute_result",
          "data": {
            "text/plain": [
              "<tf.Tensor: shape=(3,), dtype=int32, numpy=array([2, 2, 2], dtype=int32)>"
            ]
          },
          "metadata": {},
          "execution_count": 15
        }
      ]
    },
    {
      "cell_type": "code",
      "source": [
        "zeros_like_tensor.ndim"
      ],
      "metadata": {
        "colab": {
          "base_uri": "https://localhost:8080/"
        },
        "id": "nFTD65mMZr5V",
        "outputId": "d7d2130d-4216-4a88-99a8-1341159bec41"
      },
      "execution_count": 16,
      "outputs": [
        {
          "output_type": "execute_result",
          "data": {
            "text/plain": [
              "3"
            ]
          },
          "metadata": {},
          "execution_count": 16
        }
      ]
    },
    {
      "cell_type": "code",
      "source": [
        "tf.rank(zeros_like_tensor)"
      ],
      "metadata": {
        "colab": {
          "base_uri": "https://localhost:8080/"
        },
        "id": "vwWVNPsXaKIr",
        "outputId": "e7afd1e8-340c-4306-ae8f-38eac79aa69e"
      },
      "execution_count": 17,
      "outputs": [
        {
          "output_type": "execute_result",
          "data": {
            "text/plain": [
              "<tf.Tensor: shape=(), dtype=int32, numpy=3>"
            ]
          },
          "metadata": {},
          "execution_count": 17
        }
      ]
    },
    {
      "cell_type": "code",
      "source": [
        "tf.size(zeros_like_tensor)"
      ],
      "metadata": {
        "colab": {
          "base_uri": "https://localhost:8080/"
        },
        "id": "Afd1KORWaMl9",
        "outputId": "116c3ea6-e300-462d-f274-93ec122e1a79"
      },
      "execution_count": 18,
      "outputs": [
        {
          "output_type": "execute_result",
          "data": {
            "text/plain": [
              "<tf.Tensor: shape=(), dtype=int32, numpy=8>"
            ]
          },
          "metadata": {},
          "execution_count": 18
        }
      ]
    },
    {
      "cell_type": "code",
      "source": [],
      "metadata": {
        "id": "hzEQYODfaOtY"
      },
      "execution_count": 19,
      "outputs": []
    },
    {
      "cell_type": "code",
      "source": [
        "## to create random tensor in norm dist\n",
        "random_norm_tensor=tf.random.normal((100,))"
      ],
      "metadata": {
        "id": "7-JdCE6naTOo"
      },
      "execution_count": 21,
      "outputs": []
    },
    {
      "cell_type": "code",
      "source": [
        "random_norm_np=random_norm_tensor.numpy()"
      ],
      "metadata": {
        "id": "BT1q6-I8a9h6"
      },
      "execution_count": 23,
      "outputs": []
    },
    {
      "cell_type": "code",
      "source": [
        "import seaborn as sns\n",
        "sns.histplot(random_norm_np)"
      ],
      "metadata": {
        "colab": {
          "base_uri": "https://localhost:8080/",
          "height": 447
        },
        "id": "IuQMsGSwbE-l",
        "outputId": "c20d4dfa-e0c5-42f8-cea1-4afd109f37cf"
      },
      "execution_count": 24,
      "outputs": [
        {
          "output_type": "execute_result",
          "data": {
            "text/plain": [
              "<Axes: ylabel='Count'>"
            ]
          },
          "metadata": {},
          "execution_count": 24
        },
        {
          "output_type": "display_data",
          "data": {
            "text/plain": [
              "<Figure size 640x480 with 1 Axes>"
            ],
            "image/png": "[encoded data removed]"
          },
          "metadata": {}
        }
      ]
    },
    {
      "cell_type": "code",
      "source": [
        "random_uniform_tensor=tf.random.uniform([100,],minval=0,maxval=10)"
      ],
      "metadata": {
        "id": "aqaPlTIPbNkW"
      },
      "execution_count": 28,
      "outputs": []
    },
    {
      "cell_type": "code",
      "source": [
        "sns.histplot(random_uniform_tensor)"
      ],
      "metadata": {
        "colab": {
          "base_uri": "https://localhost:8080/",
          "height": 447
        },
        "id": "vKsii95WdWzt",
        "outputId": "c04f4887-c14c-4c93-8fae-520117584540"
      },
      "execution_count": 29,
      "outputs": [
        {
          "output_type": "execute_result",
          "data": {
            "text/plain": [
              "<Axes: ylabel='Count'>"
            ]
          },
          "metadata": {},
          "execution_count": 29
        },
        {
          "output_type": "display_data",
          "data": {
            "text/plain": [
              "<Figure size 640x480 with 1 Axes>"
            ],
            "image/png": "[encoded data removed]"
          },
          "metadata": {}
        }
      ]
    },
    {
      "cell_type": "code",
      "source": [
        "tf.random.set_seed(10)\n",
        "tf.random.uniform([5])"
      ],
      "metadata": {
        "colab": {
          "base_uri": "https://localhost:8080/"
        },
        "id": "lFa6immskjh6",
        "outputId": "420c5828-e3c9-4f2c-9925-c36084003d7a"
      },
      "execution_count": 31,
      "outputs": [
        {
          "output_type": "execute_result",
          "data": {
            "text/plain": [
              "<tf.Tensor: shape=(5,), dtype=float32, numpy=\n",
              "array([0.644151 , 0.8082472, 0.8976548, 0.6368902, 0.6270969],\n",
              "      dtype=float32)>"
            ]
          },
          "metadata": {},
          "execution_count": 31
        }
      ]
    },
    {
      "cell_type": "code",
      "source": [
        "constant_tensor=tf.constant([1,2,2,3,3,3,3,3,3,4,5])"
      ],
      "metadata": {
        "id": "NDemOblgl_L4"
      },
      "execution_count": 39,
      "outputs": []
    },
    {
      "cell_type": "code",
      "source": [
        "constant_tensor[::2]"
      ],
      "metadata": {
        "colab": {
          "base_uri": "https://localhost:8080/"
        },
        "id": "20hUszVfmC4x",
        "outputId": "7ed655f9-b2ef-4e96-85c8-ee09665e382c"
      },
      "execution_count": 40,
      "outputs": [
        {
          "output_type": "execute_result",
          "data": {
            "text/plain": [
              "<tf.Tensor: shape=(6,), dtype=int32, numpy=array([1, 2, 3, 3, 3, 5], dtype=int32)>"
            ]
          },
          "metadata": {},
          "execution_count": 40
        }
      ]
    },
    {
      "cell_type": "code",
      "source": [
        "constant_tensor[:-1:2]"
      ],
      "metadata": {
        "colab": {
          "base_uri": "https://localhost:8080/"
        },
        "id": "3s2ocbuGmZCd",
        "outputId": "ccdf6ad5-8bff-4fea-84f3-a520da0cb232"
      },
      "execution_count": 42,
      "outputs": [
        {
          "output_type": "execute_result",
          "data": {
            "text/plain": [
              "<tf.Tensor: shape=(5,), dtype=int32, numpy=array([1, 2, 3, 3, 3], dtype=int32)>"
            ]
          },
          "metadata": {},
          "execution_count": 42
        }
      ]
    },
    {
      "cell_type": "code",
      "source": [
        "constant_tensor[-2:]"
      ],
      "metadata": {
        "colab": {
          "base_uri": "https://localhost:8080/"
        },
        "id": "EtOBXr5Vm9kx",
        "outputId": "a351f7aa-71b2-4409-9ffe-6a0cd4eb1ed5"
      },
      "execution_count": 44,
      "outputs": [
        {
          "output_type": "execute_result",
          "data": {
            "text/plain": [
              "<tf.Tensor: shape=(2,), dtype=int32, numpy=array([4, 5], dtype=int32)>"
            ]
          },
          "metadata": {},
          "execution_count": 44
        }
      ]
    },
    {
      "cell_type": "code",
      "source": [
        "two_d_constant=tf.constant(\n",
        "    [[1,24,23],[11,21,20]]\n",
        ")"
      ],
      "metadata": {
        "id": "NTHZHrIKncLe"
      },
      "execution_count": 45,
      "outputs": []
    },
    {
      "cell_type": "code",
      "source": [
        "two_d_constant"
      ],
      "metadata": {
        "colab": {
          "base_uri": "https://localhost:8080/"
        },
        "id": "UwqBNZYLoIl_",
        "outputId": "03194743-c81c-40c5-f6a6-393abd0e842f"
      },
      "execution_count": 51,
      "outputs": [
        {
          "output_type": "execute_result",
          "data": {
            "text/plain": [
              "<tf.Tensor: shape=(2, 3), dtype=int32, numpy=\n",
              "array([[ 1, 24, 23],\n",
              "       [11, 21, 20]], dtype=int32)>"
            ]
          },
          "metadata": {},
          "execution_count": 51
        }
      ]
    },
    {
      "cell_type": "code",
      "source": [
        "two_d_constant[1:,1:]"
      ],
      "metadata": {
        "colab": {
          "base_uri": "https://localhost:8080/"
        },
        "id": "VN6Su-r-n1pa",
        "outputId": "faa9a75d-a821-4da5-d687-ae803f9b80be"
      },
      "execution_count": 55,
      "outputs": [
        {
          "output_type": "execute_result",
          "data": {
            "text/plain": [
              "<tf.Tensor: shape=(1, 2), dtype=int32, numpy=array([[21, 20]], dtype=int32)>"
            ]
          },
          "metadata": {},
          "execution_count": 55
        }
      ]
    },
    {
      "cell_type": "code",
      "source": [
        "three_d_constant=tf.constant(\n",
        "[\n",
        "    [[1,2,23],[1,2,2,]],\n",
        "    [[1,2,23],[1,2,2,]]\n",
        "]\n",
        ")"
      ],
      "metadata": {
        "id": "1DkuUof3n4Il"
      },
      "execution_count": 56,
      "outputs": []
    },
    {
      "cell_type": "code",
      "source": [
        "three_d_constant.shape"
      ],
      "metadata": {
        "colab": {
          "base_uri": "https://localhost:8080/"
        },
        "id": "-oqrmR4nqN7l",
        "outputId": "2b573ad7-6675-498b-a33f-b15af4d50c7c"
      },
      "execution_count": 57,
      "outputs": [
        {
          "output_type": "execute_result",
          "data": {
            "text/plain": [
              "TensorShape([2, 2, 3])"
            ]
          },
          "metadata": {},
          "execution_count": 57
        }
      ]
    },
    {
      "cell_type": "code",
      "source": [
        "three_d_constant[:,1,:]"
      ],
      "metadata": {
        "colab": {
          "base_uri": "https://localhost:8080/"
        },
        "id": "fzo-nB3NqPMP",
        "outputId": "a252d66b-c3bc-4486-ca85-1d1e5d567d58"
      },
      "execution_count": 59,
      "outputs": [
        {
          "output_type": "execute_result",
          "data": {
            "text/plain": [
              "<tf.Tensor: shape=(2, 3), dtype=int32, numpy=\n",
              "array([[1, 2, 2],\n",
              "       [1, 2, 2]], dtype=int32)>"
            ]
          },
          "metadata": {},
          "execution_count": 59
        }
      ]
    },
    {
      "cell_type": "code",
      "source": [
        "abs_tensor=tf.math.abs([-1,-9])\n",
        "abs_tensor"
      ],
      "metadata": {
        "colab": {
          "base_uri": "https://localhost:8080/"
        },
        "id": "9uEa9CiTqX-P",
        "outputId": "9e9cf9c7-6998-4e54-b71a-da745c63d7ee"
      },
      "execution_count": 61,
      "outputs": [
        {
          "output_type": "execute_result",
          "data": {
            "text/plain": [
              "<tf.Tensor: shape=(2,), dtype=int32, numpy=array([1, 9], dtype=int32)>"
            ]
          },
          "metadata": {},
          "execution_count": 61
        }
      ]
    },
    {
      "cell_type": "code",
      "source": [
        "abs_tensor_complex_num=tf.math.abs([-1+1j,8+9j])\n",
        "abs_tensor_complex_num"
      ],
      "metadata": {
        "colab": {
          "base_uri": "https://localhost:8080/"
        },
        "id": "5WBA3A-xroWO",
        "outputId": "e138afad-42e4-45e1-a200-d48eac60d7d4"
      },
      "execution_count": 65,
      "outputs": [
        {
          "output_type": "execute_result",
          "data": {
            "text/plain": [
              "<tf.Tensor: shape=(2,), dtype=float64, numpy=array([ 1.41421356, 12.04159458])>"
            ]
          },
          "metadata": {},
          "execution_count": 65
        }
      ]
    },
    {
      "cell_type": "code",
      "source": [
        "con_1=tf.constant([1,2,2])\n",
        "con_2=tf.constant([1,2,3])\n",
        "tf.math.add(con_1,con_2)"
      ],
      "metadata": {
        "colab": {
          "base_uri": "https://localhost:8080/"
        },
        "id": "OCJEuceAsFrZ",
        "outputId": "c4ba1f3a-25cc-4112-ad28-34f887075b70"
      },
      "execution_count": 68,
      "outputs": [
        {
          "output_type": "execute_result",
          "data": {
            "text/plain": [
              "<tf.Tensor: shape=(3,), dtype=int32, numpy=array([2, 4, 5], dtype=int32)>"
            ]
          },
          "metadata": {},
          "execution_count": 68
        }
      ]
    },
    {
      "cell_type": "code",
      "source": [
        "tf.math.multiply(con_1,con_2)"
      ],
      "metadata": {
        "colab": {
          "base_uri": "https://localhost:8080/"
        },
        "id": "dt9SPH5TsjND",
        "outputId": "171c8d86-8939-4251-98d5-041a3707da60"
      },
      "execution_count": 69,
      "outputs": [
        {
          "output_type": "execute_result",
          "data": {
            "text/plain": [
              "<tf.Tensor: shape=(3,), dtype=int32, numpy=array([1, 4, 6], dtype=int32)>"
            ]
          },
          "metadata": {},
          "execution_count": 69
        }
      ]
    },
    {
      "cell_type": "code",
      "source": [
        "tf.math.subtract(con_1,con_2)"
      ],
      "metadata": {
        "colab": {
          "base_uri": "https://localhost:8080/"
        },
        "id": "JMNmihQesxo7",
        "outputId": "547a865c-846a-4357-a4b7-dd7fa8de70d0"
      },
      "execution_count": 71,
      "outputs": [
        {
          "output_type": "execute_result",
          "data": {
            "text/plain": [
              "<tf.Tensor: shape=(3,), dtype=int32, numpy=array([ 0,  0, -1], dtype=int32)>"
            ]
          },
          "metadata": {},
          "execution_count": 71
        }
      ]
    },
    {
      "cell_type": "code",
      "source": [
        "con_1=tf.constant([1,2,2.])\n",
        "con_2=tf.constant([1,2,0.])\n",
        "tf.math.divide(con_1,con_2)"
      ],
      "metadata": {
        "colab": {
          "base_uri": "https://localhost:8080/"
        },
        "id": "LSnw7hW6s0St",
        "outputId": "e11e5dcc-abfa-4b8b-98eb-7df2c64cc698"
      },
      "execution_count": 74,
      "outputs": [
        {
          "output_type": "execute_result",
          "data": {
            "text/plain": [
              "<tf.Tensor: shape=(3,), dtype=float32, numpy=array([ 1.,  1., inf], dtype=float32)>"
            ]
          },
          "metadata": {},
          "execution_count": 74
        }
      ]
    },
    {
      "cell_type": "code",
      "source": [
        "tf.math.divide_no_nan(con_1,con_2)"
      ],
      "metadata": {
        "colab": {
          "base_uri": "https://localhost:8080/"
        },
        "id": "Ao28dydstKGj",
        "outputId": "1d22ce87-6be7-4fcd-da4f-1372faa1fe99"
      },
      "execution_count": 75,
      "outputs": [
        {
          "output_type": "execute_result",
          "data": {
            "text/plain": [
              "<tf.Tensor: shape=(3,), dtype=float32, numpy=array([1., 1., 0.], dtype=float32)>"
            ]
          },
          "metadata": {},
          "execution_count": 75
        }
      ]
    },
    {
      "cell_type": "code",
      "source": [
        "con_1=tf.constant([1,2,2,2,1,21])\n",
        "con_2=tf.constant([3])\n",
        "con_2_stracted=tf.constant([3,3,3,3,3,3])\n",
        "print(tf.math.add(con_1,con_2))\n",
        "print(tf.math.add(con_1,con_2_stracted))"
      ],
      "metadata": {
        "colab": {
          "base_uri": "https://localhost:8080/"
        },
        "id": "EtHU-gt8tNOs",
        "outputId": "d6bfbdbe-a299-46c0-d5be-f299c7393574"
      },
      "execution_count": 78,
      "outputs": [
        {
          "output_type": "stream",
          "name": "stdout",
          "text": [
            "tf.Tensor([ 4  5  5  5  4 24], shape=(6,), dtype=int32)\n",
            "tf.Tensor([ 4  5  5  5  4 24], shape=(6,), dtype=int32)\n"
          ]
        }
      ]
    },
    {
      "cell_type": "code",
      "source": [
        "con_1=tf.constant([1,2,2,2,1])\n",
        "con_2=tf.constant([[3],[4],[5]])\n",
        "print(tf.math.multiply(con_1,con_2))"
      ],
      "metadata": {
        "colab": {
          "base_uri": "https://localhost:8080/"
        },
        "id": "YOuHNBfDvCgG",
        "outputId": "419e4566-ed8b-4183-9ecc-06cdec980192"
      },
      "execution_count": 80,
      "outputs": [
        {
          "output_type": "stream",
          "name": "stdout",
          "text": [
            "tf.Tensor(\n",
            "[[ 3  6  6  6  3]\n",
            " [ 4  8  8  8  4]\n",
            " [ 5 10 10 10  5]], shape=(3, 5), dtype=int32)\n"
          ]
        }
      ]
    },
    {
      "cell_type": "code",
      "source": [
        "tf.math.argmax([[1,2,2,2,2,2,9],[1,2,2,2,2,2,91]])"
      ],
      "metadata": {
        "colab": {
          "base_uri": "https://localhost:8080/"
        },
        "id": "c7VBHNJdvgm-",
        "outputId": "6f62ac17-fae8-4303-e0a6-5109b74000c2"
      },
      "execution_count": 84,
      "outputs": [
        {
          "output_type": "execute_result",
          "data": {
            "text/plain": [
              "<tf.Tensor: shape=(7,), dtype=int64, numpy=array([0, 0, 0, 0, 0, 0, 1])>"
            ]
          },
          "metadata": {},
          "execution_count": 84
        }
      ]
    },
    {
      "cell_type": "code",
      "source": [
        "tf.math.minimum([1,2,1,2,1,2,0.2],[1,2,1,2,1,2,0.2])"
      ],
      "metadata": {
        "colab": {
          "base_uri": "https://localhost:8080/"
        },
        "id": "h1PQJyQ3v2F4",
        "outputId": "1bc42427-c42c-4384-9f62-df9711d941b7"
      },
      "execution_count": 91,
      "outputs": [
        {
          "output_type": "execute_result",
          "data": {
            "text/plain": [
              "<tf.Tensor: shape=(7,), dtype=float32, numpy=array([1. , 2. , 1. , 2. , 1. , 2. , 0.2], dtype=float32)>"
            ]
          },
          "metadata": {},
          "execution_count": 91
        }
      ]
    },
    {
      "cell_type": "code",
      "source": [
        "##  axis=1 row axis=0 column\n",
        "tf.math.argmax([[1,2,2,2,2,2,9],[1,2,2,2,2,2,91]],axis=1)"
      ],
      "metadata": {
        "colab": {
          "base_uri": "https://localhost:8080/"
        },
        "id": "upAzf2AMwV9W",
        "outputId": "9527fa73-8e10-4aad-f12e-fafc822b8cee"
      },
      "execution_count": 88,
      "outputs": [
        {
          "output_type": "execute_result",
          "data": {
            "text/plain": [
              "<tf.Tensor: shape=(2,), dtype=int64, numpy=array([6, 6])>"
            ]
          },
          "metadata": {},
          "execution_count": 88
        }
      ]
    },
    {
      "cell_type": "code",
      "source": [
        "tf.math.argmin([[1,2,2,2,2,2,9],[1,.1,2,2,2,2,91]],axis=1)"
      ],
      "metadata": {
        "colab": {
          "base_uri": "https://localhost:8080/"
        },
        "id": "1rntZwlIwypE",
        "outputId": "503f4aab-cc98-412b-b3ad-963f9cbfcd01"
      },
      "execution_count": 93,
      "outputs": [
        {
          "output_type": "execute_result",
          "data": {
            "text/plain": [
              "<tf.Tensor: shape=(2,), dtype=int64, numpy=array([0, 1])>"
            ]
          },
          "metadata": {},
          "execution_count": 93
        }
      ]
    },
    {
      "cell_type": "code",
      "source": [
        "tf.math.softmax([1.,2.,2.])"
      ],
      "metadata": {
        "colab": {
          "base_uri": "https://localhost:8080/"
        },
        "id": "BVo7hSa2xNYa",
        "outputId": "a7eb33a9-d7fa-4143-f40d-6d24755a2573"
      },
      "execution_count": 95,
      "outputs": [
        {
          "output_type": "execute_result",
          "data": {
            "text/plain": [
              "<tf.Tensor: shape=(3,), dtype=float32, numpy=array([0.15536243, 0.42231882, 0.42231882], dtype=float32)>"
            ]
          },
          "metadata": {},
          "execution_count": 95
        }
      ]
    },
    {
      "cell_type": "code",
      "source": [
        "tf.math.sigmoid([1.,2.,2.])"
      ],
      "metadata": {
        "colab": {
          "base_uri": "https://localhost:8080/"
        },
        "id": "JuQrUPpMyMyP",
        "outputId": "53d482cb-c835-4494-af31-97fa86eaabe9"
      },
      "execution_count": 96,
      "outputs": [
        {
          "output_type": "execute_result",
          "data": {
            "text/plain": [
              "<tf.Tensor: shape=(3,), dtype=float32, numpy=array([0.73105854, 0.880797  , 0.880797  ], dtype=float32)>"
            ]
          },
          "metadata": {},
          "execution_count": 96
        }
      ]
    },
    {
      "cell_type": "code",
      "source": [
        "tf.math.tanh([1.,2.,2.])"
      ],
      "metadata": {
        "colab": {
          "base_uri": "https://localhost:8080/"
        },
        "id": "zTXQjQHFyYnK",
        "outputId": "37a3292f-80cd-45a0-872b-ff482eb71b3e"
      },
      "execution_count": 97,
      "outputs": [
        {
          "output_type": "execute_result",
          "data": {
            "text/plain": [
              "<tf.Tensor: shape=(3,), dtype=float32, numpy=array([0.7615942, 0.9640276, 0.9640276], dtype=float32)>"
            ]
          },
          "metadata": {},
          "execution_count": 97
        }
      ]
    },
    {
      "cell_type": "code",
      "source": [
        "tf.math.equal([1,2,1,2,1],[1,2,1,2,1])"
      ],
      "metadata": {
        "colab": {
          "base_uri": "https://localhost:8080/"
        },
        "id": "gH5edkb_yeWg",
        "outputId": "a54778d4-ef83-4161-d30f-b2f6d57b0af9"
      },
      "execution_count": 103,
      "outputs": [
        {
          "output_type": "execute_result",
          "data": {
            "text/plain": [
              "<tf.Tensor: shape=(5,), dtype=bool, numpy=array([ True,  True,  True,  True,  True])>"
            ]
          },
          "metadata": {},
          "execution_count": 103
        }
      ]
    },
    {
      "cell_type": "code",
      "source": [
        "tf.math.pow([1,2,1,2,11],[1,2,1,2,2])"
      ],
      "metadata": {
        "colab": {
          "base_uri": "https://localhost:8080/"
        },
        "id": "0p_gnILozPKF",
        "outputId": "5ee5d0ce-50f3-42b8-d993-c7c10fea36f9"
      },
      "execution_count": 109,
      "outputs": [
        {
          "output_type": "execute_result",
          "data": {
            "text/plain": [
              "<tf.Tensor: shape=(5,), dtype=int32, numpy=array([  1,   4,   1,   4, 121], dtype=int32)>"
            ]
          },
          "metadata": {},
          "execution_count": 109
        }
      ]
    },
    {
      "cell_type": "code",
      "source": [
        "tf.math.pow([[1,2],[1,21]],[[2,2],[1,1]])\n"
      ],
      "metadata": {
        "colab": {
          "base_uri": "https://localhost:8080/"
        },
        "id": "YouRJ5vEzjx1",
        "outputId": "0e4b8eda-0a0a-4b26-975d-24062a0ca15f"
      },
      "execution_count": 110,
      "outputs": [
        {
          "output_type": "execute_result",
          "data": {
            "text/plain": [
              "<tf.Tensor: shape=(2, 2), dtype=int32, numpy=\n",
              "array([[ 1,  4],\n",
              "       [ 1, 21]], dtype=int32)>"
            ]
          },
          "metadata": {},
          "execution_count": 110
        }
      ]
    },
    {
      "cell_type": "code",
      "source": [
        "con_1=tf.constant([[1,2,2],[1,2,3]])\n",
        "tf.math.reduce_mean(con_1)"
      ],
      "metadata": {
        "colab": {
          "base_uri": "https://localhost:8080/"
        },
        "id": "XQy72HBc0P4T",
        "outputId": "dcfc6247-1be1-47fa-f061-574db0741f50"
      },
      "execution_count": 114,
      "outputs": [
        {
          "output_type": "execute_result",
          "data": {
            "text/plain": [
              "<tf.Tensor: shape=(), dtype=int32, numpy=1>"
            ]
          },
          "metadata": {},
          "execution_count": 114
        }
      ]
    },
    {
      "cell_type": "code",
      "source": [
        "con_1=tf.constant([[1,2,2],[1,2,3]])\n",
        "tf.math.reduce_max(con_1,axis=1)"
      ],
      "metadata": {
        "colab": {
          "base_uri": "https://localhost:8080/"
        },
        "id": "KlXZTm4h0765",
        "outputId": "f5779658-46df-41d6-b250-aa8f47f6222b"
      },
      "execution_count": 116,
      "outputs": [
        {
          "output_type": "execute_result",
          "data": {
            "text/plain": [
              "<tf.Tensor: shape=(2,), dtype=int32, numpy=array([2, 3], dtype=int32)>"
            ]
          },
          "metadata": {},
          "execution_count": 116
        }
      ]
    },
    {
      "cell_type": "code",
      "source": [
        "con_1=tf.constant([[1,2,2],[1,2,3]])\n",
        "tf.math.reduce_min(con_1,axis=1)"
      ],
      "metadata": {
        "colab": {
          "base_uri": "https://localhost:8080/"
        },
        "id": "etPT2V9a1Ebu",
        "outputId": "0b0edef2-2266-49e1-ade0-c2511d99d34d"
      },
      "execution_count": 117,
      "outputs": [
        {
          "output_type": "execute_result",
          "data": {
            "text/plain": [
              "<tf.Tensor: shape=(2,), dtype=int32, numpy=array([1, 1], dtype=int32)>"
            ]
          },
          "metadata": {},
          "execution_count": 117
        }
      ]
    },
    {
      "cell_type": "code",
      "source": [
        "con_1=tf.constant([[[1,2,2],[1,2,3]]])\n",
        "print(tf.math.reduce_sum(con_1,axis=1))\n",
        "print(tf.math.reduce_sum(con_1,axis=0,keepdims=True))"
      ],
      "metadata": {
        "colab": {
          "base_uri": "https://localhost:8080/"
        },
        "id": "yzShkbMe1atu",
        "outputId": "382c2c1a-2e04-47a9-d269-d8469fca0fdb"
      },
      "execution_count": 122,
      "outputs": [
        {
          "output_type": "stream",
          "name": "stdout",
          "text": [
            "tf.Tensor([[2 4 5]], shape=(1, 3), dtype=int32)\n",
            "tf.Tensor(\n",
            "[[[1 2 2]\n",
            "  [1 2 3]]], shape=(1, 2, 3), dtype=int32)\n"
          ]
        }
      ]
    },
    {
      "cell_type": "code",
      "source": [
        "tf.math.top_k([1,2,3,9,289,28,90,2322],k=4,sorted=False)"
      ],
      "metadata": {
        "colab": {
          "base_uri": "https://localhost:8080/"
        },
        "id": "jspaGjBP1gGZ",
        "outputId": "f00b073d-7133-4121-aa87-3468852580c6"
      },
      "execution_count": 129,
      "outputs": [
        {
          "output_type": "execute_result",
          "data": {
            "text/plain": [
              "TopKV2(values=<tf.Tensor: shape=(4,), dtype=int32, numpy=array([2322,  289,   90,   28], dtype=int32)>, indices=<tf.Tensor: shape=(4,), dtype=int32, numpy=array([7, 4, 6, 5], dtype=int32)>)"
            ]
          },
          "metadata": {},
          "execution_count": 129
        }
      ]
    },
    {
      "cell_type": "code",
      "source": [
        "### rule  ---   mat a no of columns mustbe same mat b no of row\n",
        "### absorvation  --- out mat shape is combination of no of rows of mat a and no of columns of mat b\n",
        "mat_1=tf.constant([[1,2,2],[1,2,3]])\n",
        "mat_2=tf.constant([[1,2,2],[1,2,3]])\n",
        "tf.linalg.matmul(mat_1,mat_2,transpose_b=True)"
      ],
      "metadata": {
        "colab": {
          "base_uri": "https://localhost:8080/"
        },
        "id": "pJRhcS5i3-Cv",
        "outputId": "d1e7a5a1-b161-4fcb-b82c-0d888983e2f3"
      },
      "execution_count": 134,
      "outputs": [
        {
          "output_type": "execute_result",
          "data": {
            "text/plain": [
              "<tf.Tensor: shape=(2, 2), dtype=int32, numpy=\n",
              "array([[ 9, 11],\n",
              "       [11, 14]], dtype=int32)>"
            ]
          },
          "metadata": {},
          "execution_count": 134
        }
      ]
    },
    {
      "cell_type": "code",
      "source": [
        "tran_mat=tf.linalg.matrix_transpose(mat_2)\n",
        "tf.linalg.matmul(mat_1,tran_mat)\n"
      ],
      "metadata": {
        "colab": {
          "base_uri": "https://localhost:8080/"
        },
        "id": "MDpTW09f5jaZ",
        "outputId": "2b92e149-c259-45d6-cede-89afec050f17"
      },
      "execution_count": 133,
      "outputs": [
        {
          "output_type": "execute_result",
          "data": {
            "text/plain": [
              "<tf.Tensor: shape=(2, 2), dtype=int32, numpy=\n",
              "array([[ 9, 11],\n",
              "       [11, 14]], dtype=int32)>"
            ]
          },
          "metadata": {},
          "execution_count": 133
        }
      ]
    },
    {
      "cell_type": "code",
      "source": [
        "## another way to implement matmul\n",
        "mat_1@tran_mat"
      ],
      "metadata": {
        "colab": {
          "base_uri": "https://localhost:8080/"
        },
        "id": "Pcq5Nnd85pgt",
        "outputId": "edbdef7c-1e82-469c-bc93-487bbbfd0c64"
      },
      "execution_count": 135,
      "outputs": [
        {
          "output_type": "execute_result",
          "data": {
            "text/plain": [
              "<tf.Tensor: shape=(2, 2), dtype=int32, numpy=\n",
              "array([[ 9, 11],\n",
              "       [11, 14]], dtype=int32)>"
            ]
          },
          "metadata": {},
          "execution_count": 135
        }
      ]
    },
    {
      "cell_type": "code",
      "source": [
        "con_3_d=tf.constant(\n",
        "  [\n",
        "      [[1,2,3],[1,2,4]],\n",
        "      [[1,2,3],[1,2,4]]\n",
        "]\n",
        ")\n",
        "\n",
        "con_3_d_2=tf.constant(\n",
        "  [\n",
        "      [[1,2,3],[1,2,4]],\n",
        "      [[1,2,3],[1,2,4]]\n",
        "]\n",
        ")"
      ],
      "metadata": {
        "id": "IHrm_fVG8Y7c"
      },
      "execution_count": 136,
      "outputs": []
    },
    {
      "cell_type": "code",
      "source": [
        "con_3_d.shape"
      ],
      "metadata": {
        "colab": {
          "base_uri": "https://localhost:8080/"
        },
        "id": "bTKplqDs9Zem",
        "outputId": "30de6b5f-4daf-4497-f2d3-ca495cdc07a7"
      },
      "execution_count": 137,
      "outputs": [
        {
          "output_type": "execute_result",
          "data": {
            "text/plain": [
              "TensorShape([2, 2, 3])"
            ]
          },
          "metadata": {},
          "execution_count": 137
        }
      ]
    },
    {
      "cell_type": "code",
      "source": [
        "con_3_d_2.shape"
      ],
      "metadata": {
        "colab": {
          "base_uri": "https://localhost:8080/"
        },
        "id": "5ppFHaie9nFc",
        "outputId": "ac2314c8-dd7e-4694-f2b7-de6c1ff0682e"
      },
      "execution_count": 139,
      "outputs": [
        {
          "output_type": "execute_result",
          "data": {
            "text/plain": [
              "TensorShape([2, 2, 3])"
            ]
          },
          "metadata": {},
          "execution_count": 139
        }
      ]
    },
    {
      "cell_type": "code",
      "source": [
        "con=tf.stack([tf.transpose(con_3_d_2[0]),tf.transpose(con_3_d_2[1])])"
      ],
      "metadata": {
        "id": "xPl5gLpj-PeD"
      },
      "execution_count": 151,
      "outputs": []
    },
    {
      "cell_type": "code",
      "source": [
        "con.shape"
      ],
      "metadata": {
        "colab": {
          "base_uri": "https://localhost:8080/"
        },
        "id": "SETyjnnQ-sUA",
        "outputId": "b10d63d0-500f-4c8a-c090-245c69fd6340"
      },
      "execution_count": 152,
      "outputs": [
        {
          "output_type": "execute_result",
          "data": {
            "text/plain": [
              "TensorShape([2, 3, 2])"
            ]
          },
          "metadata": {},
          "execution_count": 152
        }
      ]
    },
    {
      "cell_type": "code",
      "source": [
        "con_3_d@con"
      ],
      "metadata": {
        "colab": {
          "base_uri": "https://localhost:8080/"
        },
        "id": "I6pFa3aF-zZm",
        "outputId": "c9a50a06-4e01-4d4b-b0f0-6ca4dbff29de"
      },
      "execution_count": 153,
      "outputs": [
        {
          "output_type": "execute_result",
          "data": {
            "text/plain": [
              "<tf.Tensor: shape=(2, 2, 2), dtype=int32, numpy=\n",
              "array([[[14, 17],\n",
              "        [17, 21]],\n",
              "\n",
              "       [[14, 17],\n",
              "        [17, 21]]], dtype=int32)>"
            ]
          },
          "metadata": {},
          "execution_count": 153
        }
      ]
    },
    {
      "cell_type": "code",
      "source": [
        "tf.linalg.adjoint(tf.constant([[1,2,2,3],[1,2,2,31]]))"
      ],
      "metadata": {
        "colab": {
          "base_uri": "https://localhost:8080/"
        },
        "id": "DcDsO8lq-2pq",
        "outputId": "7d842b2d-0fcf-46b1-8b0b-4636663ee572"
      },
      "execution_count": 154,
      "outputs": [
        {
          "output_type": "execute_result",
          "data": {
            "text/plain": [
              "<tf.Tensor: shape=(4, 2), dtype=int32, numpy=\n",
              "array([[ 1,  1],\n",
              "       [ 2,  2],\n",
              "       [ 2,  2],\n",
              "       [ 3, 31]], dtype=int32)>"
            ]
          },
          "metadata": {},
          "execution_count": 154
        }
      ]
    },
    {
      "cell_type": "code",
      "source": [
        "tf.linalg.band_part(tf.constant([[1,2,3,4,4,44]]),num_lower=0,num_upper=0)"
      ],
      "metadata": {
        "colab": {
          "base_uri": "https://localhost:8080/"
        },
        "id": "2E_TZO4GAtft",
        "outputId": "44526f17-8451-4b55-acf4-30f51e9b2f59"
      },
      "execution_count": 158,
      "outputs": [
        {
          "output_type": "execute_result",
          "data": {
            "text/plain": [
              "<tf.Tensor: shape=(1, 6), dtype=int32, numpy=array([[1, 0, 0, 0, 0, 0]], dtype=int32)>"
            ]
          },
          "metadata": {},
          "execution_count": 158
        }
      ]
    },
    {
      "cell_type": "code",
      "source": [
        "tf.linalg.det(tf.constant([[1,2.],[1,3.]]))"
      ],
      "metadata": {
        "colab": {
          "base_uri": "https://localhost:8080/"
        },
        "id": "WyEOrPMFBLlS",
        "outputId": "925982a7-d15f-4d3d-d584-b600c20fe8a3"
      },
      "execution_count": 161,
      "outputs": [
        {
          "output_type": "execute_result",
          "data": {
            "text/plain": [
              "<tf.Tensor: shape=(), dtype=float32, numpy=1.0>"
            ]
          },
          "metadata": {},
          "execution_count": 161
        }
      ]
    },
    {
      "cell_type": "code",
      "source": [
        "### rule of inverse mat mat must be a square mat(2,2)\n",
        "### observation a@a^-1=identity matrxi shape of a or a^-1\n",
        "\n",
        "con=tf.constant([[1,2],[2,3]],dtype=tf.float32)\n",
        "inv_con=tf.linalg.inv(con)\n",
        "con@inv_con"
      ],
      "metadata": {
        "colab": {
          "base_uri": "https://localhost:8080/"
        },
        "id": "4dmL3XxSCzpE",
        "outputId": "987e5fb9-3c0d-42f0-e2ee-ed6a72b94c0f"
      },
      "execution_count": 171,
      "outputs": [
        {
          "output_type": "execute_result",
          "data": {
            "text/plain": [
              "<tf.Tensor: shape=(2, 2), dtype=float32, numpy=\n",
              "array([[1., 0.],\n",
              "       [0., 1.]], dtype=float32)>"
            ]
          },
          "metadata": {},
          "execution_count": 171
        }
      ]
    },
    {
      "cell_type": "code",
      "source": [
        "## mat multiplication using einsum\n",
        "\n",
        "con_1=tf.constant([[1,2],[1,2]])\n",
        "con_2=tf.constant([[1,2],[1,2]])\n",
        "tf.einsum(\"ij,jk -> ik\",con_1,con_2)"
      ],
      "metadata": {
        "colab": {
          "base_uri": "https://localhost:8080/"
        },
        "id": "f4cHwMesFo9D",
        "outputId": "7f60e2ea-e785-4886-a11a-f8573d199bc1"
      },
      "execution_count": 172,
      "outputs": [
        {
          "output_type": "execute_result",
          "data": {
            "text/plain": [
              "<tf.Tensor: shape=(2, 2), dtype=int32, numpy=\n",
              "array([[3, 6],\n",
              "       [3, 6]], dtype=int32)>"
            ]
          },
          "metadata": {},
          "execution_count": 172
        }
      ]
    },
    {
      "cell_type": "code",
      "source": [
        "## dot product\n",
        "\n",
        "con_1=tf.constant([1,2,2,2,2])\n",
        "con_2=tf.constant([1,2,2,2,2])\n",
        "tf.einsum(\"i,i->\",con_1,con_2)"
      ],
      "metadata": {
        "colab": {
          "base_uri": "https://localhost:8080/"
        },
        "id": "Gj6Qo0jtDkrS",
        "outputId": "e631e6e4-eb1a-409e-b05d-df677a65e61c"
      },
      "execution_count": 174,
      "outputs": [
        {
          "output_type": "execute_result",
          "data": {
            "text/plain": [
              "<tf.Tensor: shape=(), dtype=int32, numpy=17>"
            ]
          },
          "metadata": {},
          "execution_count": 174
        }
      ]
    },
    {
      "cell_type": "code",
      "source": [
        "## elementwise multiplication  product\n",
        "\n",
        "con_1=tf.constant([1,2,2,2,2])\n",
        "con_2=tf.constant([1,2,2,2,2])\n",
        "tf.einsum(\"i,i->i\",con_1,con_2)"
      ],
      "metadata": {
        "colab": {
          "base_uri": "https://localhost:8080/"
        },
        "id": "ZnJYW_xIEECL",
        "outputId": "72f640c0-65ee-4f6d-a3f6-56a698f3a72c"
      },
      "execution_count": 176,
      "outputs": [
        {
          "output_type": "execute_result",
          "data": {
            "text/plain": [
              "<tf.Tensor: shape=(5,), dtype=int32, numpy=array([1, 4, 4, 4, 4], dtype=int32)>"
            ]
          },
          "metadata": {},
          "execution_count": 176
        }
      ]
    },
    {
      "cell_type": "code",
      "source": [
        "## matrix transpose\n",
        "\n",
        "con_1=tf.constant([[1,2,2,2,2]])\n",
        "con_2=tf.constant([1,2,2,2,2])\n",
        "tf.einsum(\"ij->ji\",con_1)"
      ],
      "metadata": {
        "colab": {
          "base_uri": "https://localhost:8080/"
        },
        "id": "jCevxzX4FHXc",
        "outputId": "80becbc7-54ac-4593-976b-c2c89e2e335e"
      },
      "execution_count": 178,
      "outputs": [
        {
          "output_type": "execute_result",
          "data": {
            "text/plain": [
              "<tf.Tensor: shape=(5, 1), dtype=int32, numpy=\n",
              "array([[1],\n",
              "       [2],\n",
              "       [2],\n",
              "       [2],\n",
              "       [2]], dtype=int32)>"
            ]
          },
          "metadata": {},
          "execution_count": 178
        }
      ]
    },
    {
      "cell_type": "code",
      "source": [
        "## three diamension mat multiplication or batch mat multiplication\n",
        "\n",
        "con_3_d=tf.constant(\n",
        "    [\n",
        "        [[1,2],[2,3]],\n",
        "        [[1,2],[2,3]]\n",
        "\n",
        "    ]\n",
        "    )\n",
        "con_3_d_2=tf.constant(\n",
        "    [\n",
        "        [[1,2,3],[2,3,3]],\n",
        "        [[1,2,3],[2,3,3]]\n",
        "\n",
        "    ]\n",
        "    )\n",
        "\n",
        "tf.einsum(\"ijk,ikh->ijh\",con_3_d,con_3_d_2)"
      ],
      "metadata": {
        "colab": {
          "base_uri": "https://localhost:8080/"
        },
        "id": "QZdHQfz1KohO",
        "outputId": "8acd1571-aa0e-43c8-a3e3-ecfcacc83348"
      },
      "execution_count": 186,
      "outputs": [
        {
          "output_type": "execute_result",
          "data": {
            "text/plain": [
              "<tf.Tensor: shape=(2, 2, 3), dtype=int32, numpy=\n",
              "array([[[ 5,  8,  9],\n",
              "        [ 8, 13, 15]],\n",
              "\n",
              "       [[ 5,  8,  9],\n",
              "        [ 8, 13, 15]]], dtype=int32)>"
            ]
          },
          "metadata": {},
          "execution_count": 186
        }
      ]
    },
    {
      "cell_type": "code",
      "source": [
        "### sum of all eleement\n",
        "\n",
        "con=tf.constant(\n",
        "    [[1,2,3],[1,1,1]]\n",
        ")\n",
        "\n",
        "tf.einsum(\"ij->\",con)"
      ],
      "metadata": {
        "colab": {
          "base_uri": "https://localhost:8080/"
        },
        "id": "Ct1E1RfvLkBH",
        "outputId": "c7d45de7-c486-4ada-c550-e24493833603"
      },
      "execution_count": 189,
      "outputs": [
        {
          "output_type": "execute_result",
          "data": {
            "text/plain": [
              "<tf.Tensor: shape=(), dtype=int32, numpy=9>"
            ]
          },
          "metadata": {},
          "execution_count": 189
        }
      ]
    },
    {
      "cell_type": "code",
      "source": [
        "### row wise sum of all eleement\n",
        "\n",
        "con=tf.constant(\n",
        "    [[1,2,3],[1,1,1]]\n",
        ")\n",
        "\n",
        "tf.einsum(\"ij->i\",con)"
      ],
      "metadata": {
        "colab": {
          "base_uri": "https://localhost:8080/"
        },
        "id": "y4v3l9E4NwaK",
        "outputId": "f99f66c2-f23a-45ef-e357-87aa31408662"
      },
      "execution_count": 190,
      "outputs": [
        {
          "output_type": "execute_result",
          "data": {
            "text/plain": [
              "<tf.Tensor: shape=(2,), dtype=int32, numpy=array([6, 3], dtype=int32)>"
            ]
          },
          "metadata": {},
          "execution_count": 190
        }
      ]
    },
    {
      "cell_type": "code",
      "source": [
        "### col wise sum of all eleement\n",
        "\n",
        "con=tf.constant(\n",
        "    [[1,2,3],[1,1,1]]\n",
        ")\n",
        "\n",
        "tf.einsum(\"ij->j\",con)"
      ],
      "metadata": {
        "colab": {
          "base_uri": "https://localhost:8080/"
        },
        "id": "OHo6O1CVOMO3",
        "outputId": "88aacaf1-f9f2-4100-bff2-c41188ff0004"
      },
      "execution_count": 191,
      "outputs": [
        {
          "output_type": "execute_result",
          "data": {
            "text/plain": [
              "<tf.Tensor: shape=(3,), dtype=int32, numpy=array([2, 3, 4], dtype=int32)>"
            ]
          },
          "metadata": {},
          "execution_count": 191
        }
      ]
    },
    {
      "cell_type": "code",
      "source": [
        "tf.transpose(con_3_d,(1,2,0))"
      ],
      "metadata": {
        "colab": {
          "base_uri": "https://localhost:8080/"
        },
        "id": "eS9zlVCzOP8w",
        "outputId": "67b5e201-7873-47bd-8dfe-c75e5d946c30"
      },
      "execution_count": 194,
      "outputs": [
        {
          "output_type": "execute_result",
          "data": {
            "text/plain": [
              "<tf.Tensor: shape=(2, 2, 2), dtype=int32, numpy=\n",
              "array([[[1, 1],\n",
              "        [2, 2]],\n",
              "\n",
              "       [[2, 2],\n",
              "        [3, 3]]], dtype=int32)>"
            ]
          },
          "metadata": {},
          "execution_count": 194
        }
      ]
    },
    {
      "cell_type": "code",
      "source": [
        "rand_uniform_tensor=tf.random.uniform((3,3,3))"
      ],
      "metadata": {
        "id": "7EpQF9vHQphC"
      },
      "execution_count": 3,
      "outputs": []
    },
    {
      "cell_type": "code",
      "source": [
        "expand_tensor=tf.expand_dims(rand_uniform_tensor,axis=0)"
      ],
      "metadata": {
        "id": "dAlZ7uiQg2j1"
      },
      "execution_count": 4,
      "outputs": []
    },
    {
      "cell_type": "code",
      "source": [
        "rand_uniform_tensor.shape,expand_tensor.shape"
      ],
      "metadata": {
        "colab": {
          "base_uri": "https://localhost:8080/"
        },
        "id": "jarbJF27hCLV",
        "outputId": "0f8a9431-90a8-40af-edf4-ee37ffd36467"
      },
      "execution_count": 5,
      "outputs": [
        {
          "output_type": "execute_result",
          "data": {
            "text/plain": [
              "(TensorShape([3, 3, 3]), TensorShape([1, 3, 3, 3]))"
            ]
          },
          "metadata": {},
          "execution_count": 5
        }
      ]
    },
    {
      "cell_type": "code",
      "source": [
        "squeeze_tensor=tf.squeeze(expand_tensor,axis=0)"
      ],
      "metadata": {
        "id": "aAqDSeyMhFKo"
      },
      "execution_count": 7,
      "outputs": []
    },
    {
      "cell_type": "code",
      "source": [
        "rand_uniform_tensor.shape,expand_tensor.shape,squeeze_tensor.shape"
      ],
      "metadata": {
        "colab": {
          "base_uri": "https://localhost:8080/"
        },
        "id": "j12Fo7pfh4SW",
        "outputId": "58ae301f-f834-4399-8e9b-c10a4be6b1af"
      },
      "execution_count": 8,
      "outputs": [
        {
          "output_type": "execute_result",
          "data": {
            "text/plain": [
              "(TensorShape([3, 3, 3]), TensorShape([1, 3, 3, 3]), TensorShape([3, 3, 3]))"
            ]
          },
          "metadata": {},
          "execution_count": 8
        }
      ]
    },
    {
      "cell_type": "code",
      "source": [
        "con_1=tf.constant([1,2,2,1,1,2,1,1])\n",
        "reshaped_con=tf.reshape(con_1,shape=(2,4))\n",
        "print(con_1.shape,reshaped_con.shape)"
      ],
      "metadata": {
        "colab": {
          "base_uri": "https://localhost:8080/"
        },
        "id": "zf_6KgC_h_dK",
        "outputId": "f58b159a-bf49-4f70-8b0a-3e54fb224b3a"
      },
      "execution_count": 10,
      "outputs": [
        {
          "output_type": "stream",
          "name": "stdout",
          "text": [
            "(8,) (2, 4)\n"
          ]
        }
      ]
    },
    {
      "cell_type": "code",
      "source": [
        "con_1=tf.constant([[1,2,2],[1,2,2]])\n",
        "reshaped_con=tf.reshape(con_1,shape=(3,1,-1))\n",
        "print(con_1.shape,reshaped_con.shape)"
      ],
      "metadata": {
        "colab": {
          "base_uri": "https://localhost:8080/"
        },
        "id": "t0xQkH-Ti6AK",
        "outputId": "5a7466e9-265b-48fd-f6c6-a5f6f041c1d5"
      },
      "execution_count": 4,
      "outputs": [
        {
          "output_type": "stream",
          "name": "stdout",
          "text": [
            "(2, 3) (3, 1, 2)\n"
          ]
        }
      ]
    },
    {
      "cell_type": "code",
      "source": [
        "con_1=tf.constant([[1,2,3,4]])\n",
        "con_2=tf.constant([[1,2,3,4]])\n",
        "tf.concat([con_1,con_2],1)"
      ],
      "metadata": {
        "colab": {
          "base_uri": "https://localhost:8080/"
        },
        "id": "dMC2zDR98JNc",
        "outputId": "7b0ebee4-b878-4aeb-de97-b1ea8349e79a"
      },
      "execution_count": 9,
      "outputs": [
        {
          "output_type": "execute_result",
          "data": {
            "text/plain": [
              "<tf.Tensor: shape=(1, 8), dtype=int32, numpy=array([[1, 2, 3, 4, 1, 2, 3, 4]], dtype=int32)>"
            ]
          },
          "metadata": {},
          "execution_count": 9
        }
      ]
    },
    {
      "cell_type": "code",
      "source": [
        "### concat three d array\n",
        "con_1=tf.constant(\n",
        "    [\n",
        "        [[1,2,3],[1,2,3]]\n",
        "    ]\n",
        "    )\n",
        "con_2=tf.constant(\n",
        "    [\n",
        "        [[1,2,3],[1,2,3]]\n",
        "    ]\n",
        "    )"
      ],
      "metadata": {
        "id": "EUFpQ-ui89aZ"
      },
      "execution_count": 11,
      "outputs": []
    },
    {
      "cell_type": "code",
      "source": [
        "con_1.shape,con_2.shape"
      ],
      "metadata": {
        "colab": {
          "base_uri": "https://localhost:8080/"
        },
        "id": "Z6RmGZJL-0FL",
        "outputId": "ee4fbeb3-5145-4654-9f32-9ba114396001"
      },
      "execution_count": 12,
      "outputs": [
        {
          "output_type": "execute_result",
          "data": {
            "text/plain": [
              "(TensorShape([1, 2, 3]), TensorShape([1, 2, 3]))"
            ]
          },
          "metadata": {},
          "execution_count": 12
        }
      ]
    },
    {
      "cell_type": "code",
      "source": [
        "tf.concat([con_1,con_2],axis=0)"
      ],
      "metadata": {
        "colab": {
          "base_uri": "https://localhost:8080/"
        },
        "id": "SDUV-EJl-sM4",
        "outputId": "670bc0f3-bbbb-40a0-e887-b25bb8747468"
      },
      "execution_count": 13,
      "outputs": [
        {
          "output_type": "execute_result",
          "data": {
            "text/plain": [
              "<tf.Tensor: shape=(2, 2, 3), dtype=int32, numpy=\n",
              "array([[[1, 2, 3],\n",
              "        [1, 2, 3]],\n",
              "\n",
              "       [[1, 2, 3],\n",
              "        [1, 2, 3]]], dtype=int32)>"
            ]
          },
          "metadata": {},
          "execution_count": 13
        }
      ]
    },
    {
      "cell_type": "code",
      "source": [
        "tf.concat([con_1,con_2],axis=1)"
      ],
      "metadata": {
        "colab": {
          "base_uri": "https://localhost:8080/"
        },
        "id": "DZi0-oa7-4og",
        "outputId": "d9dd1669-77bf-4d01-fe54-113a0d9eae44"
      },
      "execution_count": 14,
      "outputs": [
        {
          "output_type": "execute_result",
          "data": {
            "text/plain": [
              "<tf.Tensor: shape=(1, 4, 3), dtype=int32, numpy=\n",
              "array([[[1, 2, 3],\n",
              "        [1, 2, 3],\n",
              "        [1, 2, 3],\n",
              "        [1, 2, 3]]], dtype=int32)>"
            ]
          },
          "metadata": {},
          "execution_count": 14
        }
      ]
    },
    {
      "cell_type": "code",
      "source": [
        "tf.concat([con_1,con_2],axis=2)"
      ],
      "metadata": {
        "colab": {
          "base_uri": "https://localhost:8080/"
        },
        "id": "DpcGPj5y-6z2",
        "outputId": "00e89f13-61bb-4ee7-a506-67932cbd3473"
      },
      "execution_count": 15,
      "outputs": [
        {
          "output_type": "execute_result",
          "data": {
            "text/plain": [
              "<tf.Tensor: shape=(1, 2, 6), dtype=int32, numpy=\n",
              "array([[[1, 2, 3, 1, 2, 3],\n",
              "        [1, 2, 3, 1, 2, 3]]], dtype=int32)>"
            ]
          },
          "metadata": {},
          "execution_count": 15
        }
      ]
    },
    {
      "cell_type": "code",
      "source": [
        "tf.stack([con_1,con_2],axis=0)"
      ],
      "metadata": {
        "colab": {
          "base_uri": "https://localhost:8080/"
        },
        "id": "W5IYxuJi-9nQ",
        "outputId": "b016eaef-9afc-41a2-c6b9-fc9f75d33b81"
      },
      "execution_count": 17,
      "outputs": [
        {
          "output_type": "execute_result",
          "data": {
            "text/plain": [
              "<tf.Tensor: shape=(2, 1, 2, 3), dtype=int32, numpy=\n",
              "array([[[[1, 2, 3],\n",
              "         [1, 2, 3]]],\n",
              "\n",
              "\n",
              "       [[[1, 2, 3],\n",
              "         [1, 2, 3]]]], dtype=int32)>"
            ]
          },
          "metadata": {},
          "execution_count": 17
        }
      ]
    },
    {
      "cell_type": "code",
      "source": [
        "con_1=tf.constant(\n",
        "    [\n",
        "        [1,2,3,4],\n",
        "        [1,2,3,4],\n",
        "        [1,2,3,4]\n",
        "    ]\n",
        ")\n",
        "con_2=tf.constant(\n",
        "    [\n",
        "        [1,2,3,4],\n",
        "        [1,2,3,4],\n",
        "        [1,2,3,4]\n",
        "    ]\n",
        ")"
      ],
      "metadata": {
        "id": "kWIriLmj_g2Y"
      },
      "execution_count": 28,
      "outputs": []
    },
    {
      "cell_type": "code",
      "source": [
        "con_1.shape"
      ],
      "metadata": {
        "colab": {
          "base_uri": "https://localhost:8080/"
        },
        "id": "9cteIu5KA9sw",
        "outputId": "d951a1fd-3d71-4fcc-f3b7-c16dfc787060"
      },
      "execution_count": 32,
      "outputs": [
        {
          "output_type": "execute_result",
          "data": {
            "text/plain": [
              "TensorShape([3, 4])"
            ]
          },
          "metadata": {},
          "execution_count": 32
        }
      ]
    },
    {
      "cell_type": "code",
      "source": [
        "tf.stack([con_1,con_2],axis=0)"
      ],
      "metadata": {
        "colab": {
          "base_uri": "https://localhost:8080/"
        },
        "id": "R2iJqs5f_kEF",
        "outputId": "4e6e59e5-07ff-4344-90d9-fa6c8794796a"
      },
      "execution_count": 40,
      "outputs": [
        {
          "output_type": "execute_result",
          "data": {
            "text/plain": [
              "<tf.Tensor: shape=(2, 3, 4), dtype=int32, numpy=\n",
              "array([[[1, 2, 3, 4],\n",
              "        [1, 2, 3, 4],\n",
              "        [1, 2, 3, 4]],\n",
              "\n",
              "       [[1, 2, 3, 4],\n",
              "        [1, 2, 3, 4],\n",
              "        [1, 2, 3, 4]]], dtype=int32)>"
            ]
          },
          "metadata": {},
          "execution_count": 40
        }
      ]
    },
    {
      "cell_type": "code",
      "source": [
        "tf.stack([con_1,con_2],axis=1)"
      ],
      "metadata": {
        "colab": {
          "base_uri": "https://localhost:8080/"
        },
        "id": "kx8RWuEHALBN",
        "outputId": "fe64438d-8e0d-44f3-f982-56d3ae0778c6"
      },
      "execution_count": 41,
      "outputs": [
        {
          "output_type": "execute_result",
          "data": {
            "text/plain": [
              "<tf.Tensor: shape=(3, 2, 4), dtype=int32, numpy=\n",
              "array([[[1, 2, 3, 4],\n",
              "        [1, 2, 3, 4]],\n",
              "\n",
              "       [[1, 2, 3, 4],\n",
              "        [1, 2, 3, 4]],\n",
              "\n",
              "       [[1, 2, 3, 4],\n",
              "        [1, 2, 3, 4]]], dtype=int32)>"
            ]
          },
          "metadata": {},
          "execution_count": 41
        }
      ]
    },
    {
      "cell_type": "code",
      "source": [
        "tf.stack([con_1,con_2],axis=2)"
      ],
      "metadata": {
        "colab": {
          "base_uri": "https://localhost:8080/"
        },
        "id": "KdsdGMd_ByaU",
        "outputId": "b12bc64f-c77f-4336-86e8-594ec4e24a5f"
      },
      "execution_count": 42,
      "outputs": [
        {
          "output_type": "execute_result",
          "data": {
            "text/plain": [
              "<tf.Tensor: shape=(3, 4, 2), dtype=int32, numpy=\n",
              "array([[[1, 1],\n",
              "        [2, 2],\n",
              "        [3, 3],\n",
              "        [4, 4]],\n",
              "\n",
              "       [[1, 1],\n",
              "        [2, 2],\n",
              "        [3, 3],\n",
              "        [4, 4]],\n",
              "\n",
              "       [[1, 1],\n",
              "        [2, 2],\n",
              "        [3, 3],\n",
              "        [4, 4]]], dtype=int32)>"
            ]
          },
          "metadata": {},
          "execution_count": 42
        }
      ]
    },
    {
      "cell_type": "code",
      "source": [
        "con_1.shape,con_2.shape"
      ],
      "metadata": {
        "colab": {
          "base_uri": "https://localhost:8080/"
        },
        "id": "BHMxZ3F6ETwW",
        "outputId": "879180eb-b6b9-46e9-c9d9-36c0c07fe0fc"
      },
      "execution_count": 43,
      "outputs": [
        {
          "output_type": "execute_result",
          "data": {
            "text/plain": [
              "(TensorShape([3, 4]), TensorShape([3, 4]))"
            ]
          },
          "metadata": {},
          "execution_count": 43
        }
      ]
    },
    {
      "cell_type": "code",
      "source": [
        "\n",
        "tf.expand_dims(tf.concat([con_1,con_2],0),0)"
      ],
      "metadata": {
        "colab": {
          "base_uri": "https://localhost:8080/"
        },
        "id": "RK3lc01XCikn",
        "outputId": "06c4c1dd-145f-4bfa-be06-0af88f33518c"
      },
      "execution_count": 46,
      "outputs": [
        {
          "output_type": "execute_result",
          "data": {
            "text/plain": [
              "<tf.Tensor: shape=(1, 6, 4), dtype=int32, numpy=\n",
              "array([[[1, 2, 3, 4],\n",
              "        [1, 2, 3, 4],\n",
              "        [1, 2, 3, 4],\n",
              "        [1, 2, 3, 4],\n",
              "        [1, 2, 3, 4],\n",
              "        [1, 2, 3, 4]]], dtype=int32)>"
            ]
          },
          "metadata": {},
          "execution_count": 46
        }
      ]
    },
    {
      "cell_type": "code",
      "source": [
        "tf.stack([con_1,con_2],axis=1).shape"
      ],
      "metadata": {
        "colab": {
          "base_uri": "https://localhost:8080/"
        },
        "id": "2IYgD1sDEaOW",
        "outputId": "a3d68a0a-d1b7-48dd-f6df-cfc567334906"
      },
      "execution_count": 49,
      "outputs": [
        {
          "output_type": "execute_result",
          "data": {
            "text/plain": [
              "TensorShape([3, 2, 4])"
            ]
          },
          "metadata": {},
          "execution_count": 49
        }
      ]
    },
    {
      "cell_type": "code",
      "source": [
        "t = tf.constant([[1, 2, 3], [4, 5, 6]])\n",
        "paddings = tf.constant([[1, 1,], [2, 2]])"
      ],
      "metadata": {
        "id": "QGrUncBcEnB2"
      },
      "execution_count": 53,
      "outputs": []
    },
    {
      "cell_type": "code",
      "source": [
        "t.shape,paddings.shape"
      ],
      "metadata": {
        "colab": {
          "base_uri": "https://localhost:8080/"
        },
        "id": "eqo9-x8LGMXj",
        "outputId": "124da163-73f5-464c-f1d2-82c588de0d8d"
      },
      "execution_count": 55,
      "outputs": [
        {
          "output_type": "execute_result",
          "data": {
            "text/plain": [
              "(TensorShape([2, 3]), TensorShape([2, 2]))"
            ]
          },
          "metadata": {},
          "execution_count": 55
        }
      ]
    },
    {
      "cell_type": "code",
      "source": [
        "tf.pad(t,paddings,constant_values=9)"
      ],
      "metadata": {
        "colab": {
          "base_uri": "https://localhost:8080/"
        },
        "id": "m2AyBo5gFNNX",
        "outputId": "2c673a10-2b85-495e-9ca3-f602ed180ffc"
      },
      "execution_count": 56,
      "outputs": [
        {
          "output_type": "execute_result",
          "data": {
            "text/plain": [
              "<tf.Tensor: shape=(4, 7), dtype=int32, numpy=\n",
              "array([[9, 9, 9, 9, 9, 9, 9],\n",
              "       [9, 9, 1, 2, 3, 9, 9],\n",
              "       [9, 9, 4, 5, 6, 9, 9],\n",
              "       [9, 9, 9, 9, 9, 9, 9]], dtype=int32)>"
            ]
          },
          "metadata": {},
          "execution_count": 56
        }
      ]
    },
    {
      "cell_type": "code",
      "source": [
        "tf.pad(t,tf.constant([[2,2],[3,4]]),constant_values=0)## above nad below [2,2],left and right [3,4]"
      ],
      "metadata": {
        "colab": {
          "base_uri": "https://localhost:8080/"
        },
        "id": "qLp-8w8ZGKJN",
        "outputId": "5c26c024-f34f-4416-df70-23a4a2010f93"
      },
      "execution_count": 59,
      "outputs": [
        {
          "output_type": "execute_result",
          "data": {
            "text/plain": [
              "<tf.Tensor: shape=(6, 10), dtype=int32, numpy=\n",
              "array([[0, 0, 0, 0, 0, 0, 0, 0, 0, 0],\n",
              "       [0, 0, 0, 0, 0, 0, 0, 0, 0, 0],\n",
              "       [0, 0, 0, 1, 2, 3, 0, 0, 0, 0],\n",
              "       [0, 0, 0, 4, 5, 6, 0, 0, 0, 0],\n",
              "       [0, 0, 0, 0, 0, 0, 0, 0, 0, 0],\n",
              "       [0, 0, 0, 0, 0, 0, 0, 0, 0, 0]], dtype=int32)>"
            ]
          },
          "metadata": {},
          "execution_count": 59
        }
      ]
    },
    {
      "cell_type": "code",
      "source": [
        "con_1=tf.constant(\n",
        "    [\n",
        "        [1,2,3],\n",
        "        [1,2,3],\n",
        "    ]\n",
        ")"
      ],
      "metadata": {
        "id": "dxSkVD9zGkhR"
      },
      "execution_count": 61,
      "outputs": []
    },
    {
      "cell_type": "code",
      "source": [
        "tf.gather(con_1,tf.constant([0,2]))"
      ],
      "metadata": {
        "colab": {
          "base_uri": "https://localhost:8080/"
        },
        "id": "D5dsx7SOHU1e",
        "outputId": "6e14edac-3556-44af-c3b2-ebf56ddc8b1c"
      },
      "execution_count": 74,
      "outputs": [
        {
          "output_type": "execute_result",
          "data": {
            "text/plain": [
              "<tf.Tensor: shape=(2, 3), dtype=int32, numpy=\n",
              "array([[1, 2, 3],\n",
              "       [0, 0, 0]], dtype=int32)>"
            ]
          },
          "metadata": {},
          "execution_count": 74
        }
      ]
    },
    {
      "cell_type": "code",
      "source": [
        "tf.gather(con_1,tf.constant([0,2]),axis=1)"
      ],
      "metadata": {
        "colab": {
          "base_uri": "https://localhost:8080/"
        },
        "id": "pm3f37CiHZy6",
        "outputId": "baa89220-67b0-47ed-ac21-841d94784a32"
      },
      "execution_count": 75,
      "outputs": [
        {
          "output_type": "execute_result",
          "data": {
            "text/plain": [
              "<tf.Tensor: shape=(2, 2), dtype=int32, numpy=\n",
              "array([[1, 3],\n",
              "       [1, 3]], dtype=int32)>"
            ]
          },
          "metadata": {},
          "execution_count": 75
        }
      ]
    },
    {
      "cell_type": "code",
      "source": [
        "con_1=tf.constant(\n",
        "    [\n",
        "        [[1,23,1],[1,2,2]]\n",
        "     ]\n",
        ")"
      ],
      "metadata": {
        "id": "J6Qpcaq1J5OO"
      },
      "execution_count": 2,
      "outputs": []
    },
    {
      "cell_type": "code",
      "source": [
        "tf.gather(con_1,tf.constant([0]),axis=2)"
      ],
      "metadata": {
        "colab": {
          "base_uri": "https://localhost:8080/"
        },
        "id": "rr8nYx5VKg7H",
        "outputId": "fc043134-bfe0-41f7-fddf-83e6c80a72d6"
      },
      "execution_count": 6,
      "outputs": [
        {
          "output_type": "execute_result",
          "data": {
            "text/plain": [
              "<tf.Tensor: shape=(1, 2, 1), dtype=int32, numpy=\n",
              "array([[[1],\n",
              "        [1]]], dtype=int32)>"
            ]
          },
          "metadata": {},
          "execution_count": 6
        }
      ]
    },
    {
      "cell_type": "code",
      "source": [
        "con_1.shape"
      ],
      "metadata": {
        "colab": {
          "base_uri": "https://localhost:8080/"
        },
        "id": "u-rUDPxgKkLp",
        "outputId": "b073c64b-99a6-463d-814f-feee4b9111df"
      },
      "execution_count": 82,
      "outputs": [
        {
          "output_type": "execute_result",
          "data": {
            "text/plain": [
              "TensorShape([2, 2, 3])"
            ]
          },
          "metadata": {},
          "execution_count": 82
        }
      ]
    },
    {
      "cell_type": "code",
      "source": [
        "con_1=tf.constant(\n",
        "    [\n",
        "        [[1,2,4],[1,2,3]]\n",
        "    ]\n",
        "    )\n",
        "indicies=[[0,1,1]]\n",
        "tf.gather_nd(con_1,indicies)"
      ],
      "metadata": {
        "colab": {
          "base_uri": "https://localhost:8080/"
        },
        "id": "muuEBfrwKz5V",
        "outputId": "073bc958-9f7c-4480-8133-a710a93066ee"
      },
      "execution_count": 13,
      "outputs": [
        {
          "output_type": "execute_result",
          "data": {
            "text/plain": [
              "<tf.Tensor: shape=(1,), dtype=int32, numpy=array([2], dtype=int32)>"
            ]
          },
          "metadata": {},
          "execution_count": 13
        }
      ]
    },
    {
      "cell_type": "code",
      "source": [
        "con_1=tf.constant(\n",
        "    [\n",
        "        [1,2,4],[1,2,3]\n",
        "    ]\n",
        "    )\n",
        "indicies=[[0,1]]\n",
        "tf.gather_nd(con_1,indicies)"
      ],
      "metadata": {
        "colab": {
          "base_uri": "https://localhost:8080/"
        },
        "id": "ILgANpmYZdMu",
        "outputId": "965d2810-1461-4c2b-a2d9-9d871abc982f"
      },
      "execution_count": 12,
      "outputs": [
        {
          "output_type": "execute_result",
          "data": {
            "text/plain": [
              "<tf.Tensor: shape=(1,), dtype=int32, numpy=array([2], dtype=int32)>"
            ]
          },
          "metadata": {},
          "execution_count": 12
        }
      ]
    },
    {
      "cell_type": "code",
      "source": [
        "con_1=tf.constant(\n",
        "    [\n",
        "        [[1,2,3],[4,5,6]],\n",
        "        [[7,8,9],[10,11,12]]\n",
        "    ]\n",
        ")\n",
        "indices=[\n",
        "    [[1,1],[0,1]],[[1,1],[0,1]]\n",
        "]\n",
        "tf.gather_nd(con_1,indices,batch_dims=1)"
      ],
      "metadata": {
        "colab": {
          "base_uri": "https://localhost:8080/"
        },
        "id": "tGvoAGI-Zwyg",
        "outputId": "d9d80e6f-e4a3-4ff2-a121-dbb5ed7955eb"
      },
      "execution_count": 25,
      "outputs": [
        {
          "output_type": "execute_result",
          "data": {
            "text/plain": [
              "<tf.Tensor: shape=(2, 2), dtype=int32, numpy=\n",
              "array([[ 5,  2],\n",
              "       [11,  8]], dtype=int32)>"
            ]
          },
          "metadata": {},
          "execution_count": 25
        }
      ]
    },
    {
      "cell_type": "code",
      "source": [
        "### ragged tensor convert non rectangular mat to tensor\n",
        "data=[[1,2],[1,2],[1,2,2]]\n",
        "tensor_ragged=tf.ragged.constant(data)"
      ],
      "metadata": {
        "id": "E-QFzsTN1e8i"
      },
      "execution_count": 30,
      "outputs": []
    },
    {
      "cell_type": "code",
      "source": [
        "tensor_ragged.shape"
      ],
      "metadata": {
        "colab": {
          "base_uri": "https://localhost:8080/"
        },
        "id": "OEUaUiL34nb_",
        "outputId": "56f4799e-507a-4430-fad9-ed24e36ac040"
      },
      "execution_count": 37,
      "outputs": [
        {
          "output_type": "execute_result",
          "data": {
            "text/plain": [
              "TensorShape([3, None])"
            ]
          },
          "metadata": {},
          "execution_count": 37
        }
      ]
    },
    {
      "cell_type": "code",
      "source": [
        "### to off the particular element or row\n",
        "tf.ragged.boolean_mask(tensor_ragged,mask=[True,False,True])"
      ],
      "metadata": {
        "colab": {
          "base_uri": "https://localhost:8080/"
        },
        "id": "WCeYGzFx4vaj",
        "outputId": "fb5c6ef7-96a5-4f52-ac5c-f12d7030f703"
      },
      "execution_count": 34,
      "outputs": [
        {
          "output_type": "execute_result",
          "data": {
            "text/plain": [
              "<tf.RaggedTensor [[1, 2], [1, 2, 2]]>"
            ]
          },
          "metadata": {},
          "execution_count": 34
        }
      ]
    },
    {
      "cell_type": "code",
      "source": [
        "tf.ragged.boolean_mask(tensor_ragged,mask=tf.ragged.constant([[True,False],[False,False],[True,False,True]]))"
      ],
      "metadata": {
        "colab": {
          "base_uri": "https://localhost:8080/"
        },
        "id": "vbMLLcaH5aKd",
        "outputId": "01d7c81e-6978-419a-f0d9-dd5fe86e175a"
      },
      "execution_count": 42,
      "outputs": [
        {
          "output_type": "execute_result",
          "data": {
            "text/plain": [
              "<tf.RaggedTensor [[1], [], [1, 2]]>"
            ]
          },
          "metadata": {},
          "execution_count": 42
        }
      ]
    },
    {
      "cell_type": "code",
      "source": [
        "tf.RaggedTensor.from_row_lengths(values=[1,2,3,4,5,6,7],row_lengths=[2,2,3])"
      ],
      "metadata": {
        "colab": {
          "base_uri": "https://localhost:8080/"
        },
        "id": "tvThqDRf5w42",
        "outputId": "5332deb8-418e-42ad-9df2-5ff583131be1"
      },
      "execution_count": 45,
      "outputs": [
        {
          "output_type": "execute_result",
          "data": {
            "text/plain": [
              "<tf.RaggedTensor [[1, 2], [3, 4], [5, 6, 7]]>"
            ]
          },
          "metadata": {},
          "execution_count": 45
        }
      ]
    },
    {
      "cell_type": "code",
      "source": [
        "tf.RaggedTensor.from_row_limits([1,2,3,4,5,6,7],[0,5,6,7])"
      ],
      "metadata": {
        "colab": {
          "base_uri": "https://localhost:8080/"
        },
        "id": "Ga6qmxKk69QJ",
        "outputId": "6bf6caf8-7f0b-4b06-d077-d887abefadd0"
      },
      "execution_count": 47,
      "outputs": [
        {
          "output_type": "execute_result",
          "data": {
            "text/plain": [
              "<tf.RaggedTensor [[], [1, 2, 3, 4, 5], [6], [7]]>"
            ]
          },
          "metadata": {},
          "execution_count": 47
        }
      ]
    },
    {
      "cell_type": "code",
      "source": [
        "nomal_tensor=tf.constant(\n",
        "    [[1,2,3,4,4,3],[1,2,3,4,4,3],[1,2,3,4,4,3]]\n",
        ")\n",
        "ragged_tensor=tf.RaggedTensor.from_tensor(nomal_tensor,[1,1,2])"
      ],
      "metadata": {
        "id": "4AfwI5hq77p1"
      },
      "execution_count": 51,
      "outputs": []
    },
    {
      "cell_type": "code",
      "source": [
        "ragged_tensor"
      ],
      "metadata": {
        "colab": {
          "base_uri": "https://localhost:8080/"
        },
        "id": "maXp96LF8l3y",
        "outputId": "f9887254-0bef-4383-b8e2-56358a40dbd5"
      },
      "execution_count": 53,
      "outputs": [
        {
          "output_type": "execute_result",
          "data": {
            "text/plain": [
              "<tf.RaggedTensor [[1], [1], [1, 2]]>"
            ]
          },
          "metadata": {},
          "execution_count": 53
        }
      ]
    },
    {
      "cell_type": "code",
      "source": [
        "sparse_tensor=tf.sparse.SparseTensor(indices=[[0,0],[1,1],[2,2]],values=[10,20,2],dense_shape=(3,3))"
      ],
      "metadata": {
        "id": "jKa4OVit8ob8"
      },
      "execution_count": 57,
      "outputs": []
    },
    {
      "cell_type": "code",
      "source": [
        "sparse_tensor"
      ],
      "metadata": {
        "colab": {
          "base_uri": "https://localhost:8080/"
        },
        "id": "THfEsIIV9oK1",
        "outputId": "34843abe-5a34-4f1e-9e53-02045984bbf3"
      },
      "execution_count": 58,
      "outputs": [
        {
          "output_type": "execute_result",
          "data": {
            "text/plain": [
              "SparseTensor(indices=tf.Tensor(\n",
              "[[0 0]\n",
              " [1 1]\n",
              " [2 2]], shape=(3, 2), dtype=int64), values=tf.Tensor([10 20  2], shape=(3,), dtype=int32), dense_shape=tf.Tensor([3 3], shape=(2,), dtype=int64))"
            ]
          },
          "metadata": {},
          "execution_count": 58
        }
      ]
    },
    {
      "cell_type": "code",
      "source": [
        "tf.sparse.to_dense(sparse_tensor)"
      ],
      "metadata": {
        "colab": {
          "base_uri": "https://localhost:8080/"
        },
        "id": "PVMPGVYR9pfZ",
        "outputId": "f67b23b2-db29-481c-cd1e-625523ea6b7f"
      },
      "execution_count": 59,
      "outputs": [
        {
          "output_type": "execute_result",
          "data": {
            "text/plain": [
              "<tf.Tensor: shape=(3, 3), dtype=int32, numpy=\n",
              "array([[10,  0,  0],\n",
              "       [ 0, 20,  0],\n",
              "       [ 0,  0,  2]], dtype=int32)>"
            ]
          },
          "metadata": {},
          "execution_count": 59
        }
      ]
    },
    {
      "cell_type": "code",
      "source": [
        "str_tensor=tf.constant([\"Hello\",\"i am\",\"sathish\"])\n",
        "tf.strings.lower(str_tensor)"
      ],
      "metadata": {
        "colab": {
          "base_uri": "https://localhost:8080/"
        },
        "id": "3HCSPKkg9ySQ",
        "outputId": "c731cd6f-de19-4130-8fc5-af715535b577"
      },
      "execution_count": 60,
      "outputs": [
        {
          "output_type": "execute_result",
          "data": {
            "text/plain": [
              "<tf.Tensor: shape=(3,), dtype=string, numpy=array([b'hello', b'i am', b'sathish'], dtype=object)>"
            ]
          },
          "metadata": {},
          "execution_count": 60
        }
      ]
    },
    {
      "cell_type": "code",
      "source": [
        "tf.strings.join(str_tensor,separator=\"_\")"
      ],
      "metadata": {
        "colab": {
          "base_uri": "https://localhost:8080/"
        },
        "id": "ukY1QD2v_Eey",
        "outputId": "b8764c12-bcfd-4284-fbdf-c2c17640af90"
      },
      "execution_count": 62,
      "outputs": [
        {
          "output_type": "execute_result",
          "data": {
            "text/plain": [
              "<tf.Tensor: shape=(), dtype=string, numpy=b'Hello_i am_sathish'>"
            ]
          },
          "metadata": {},
          "execution_count": 62
        }
      ]
    },
    {
      "cell_type": "code",
      "source": [
        "#### Variable\n",
        "\n",
        "var=tf.Variable(initial_value=[1,2,3,4,5,6])"
      ],
      "metadata": {
        "id": "eotn_NnW_LMS"
      },
      "execution_count": 64,
      "outputs": []
    },
    {
      "cell_type": "code",
      "source": [
        "var.assign_add(tf.constant([1,2,3,4,5,6]))"
      ],
      "metadata": {
        "colab": {
          "base_uri": "https://localhost:8080/"
        },
        "id": "0CCFRfelEQz8",
        "outputId": "f3d1b5c0-fc15-45aa-c014-9812d48cdab3"
      },
      "execution_count": 68,
      "outputs": [
        {
          "output_type": "execute_result",
          "data": {
            "text/plain": [
              "<tf.Variable 'UnreadVariable' shape=(6,) dtype=int32, numpy=array([ 3,  6,  9, 12, 15, 18], dtype=int32)>"
            ]
          },
          "metadata": {},
          "execution_count": 68
        }
      ]
    },
    {
      "cell_type": "code",
      "source": [
        "var.assign_sub(tf.constant([1,2,3,4,5,6]))\n"
      ],
      "metadata": {
        "colab": {
          "base_uri": "https://localhost:8080/"
        },
        "id": "hQY3seCqEagv",
        "outputId": "9b9cd007-7383-454c-b56f-f5cd07d2a4d4"
      },
      "execution_count": 69,
      "outputs": [
        {
          "output_type": "execute_result",
          "data": {
            "text/plain": [
              "<tf.Variable 'UnreadVariable' shape=(6,) dtype=int32, numpy=array([ 2,  4,  6,  8, 10, 12], dtype=int32)>"
            ]
          },
          "metadata": {},
          "execution_count": 69
        }
      ]
    },
    {
      "cell_type": "code",
      "source": [
        "var.assign(tf.constant([1,2,3,4,5,6]))"
      ],
      "metadata": {
        "colab": {
          "base_uri": "https://localhost:8080/"
        },
        "id": "BLCg9ic3EmcA",
        "outputId": "d5804203-0c8c-42d6-dfd6-ef933370533b"
      },
      "execution_count": 70,
      "outputs": [
        {
          "output_type": "execute_result",
          "data": {
            "text/plain": [
              "<tf.Variable 'UnreadVariable' shape=(6,) dtype=int32, numpy=array([1, 2, 3, 4, 5, 6], dtype=int32)>"
            ]
          },
          "metadata": {},
          "execution_count": 70
        }
      ]
    },
    {
      "cell_type": "code",
      "source": [
        "with tf.device(\"CPU:0\"):\n",
        "  x=tf.constant([1,2,2,2,1])\n",
        "print(x,x.device)"
      ],
      "metadata": {
        "colab": {
          "base_uri": "https://localhost:8080/"
        },
        "id": "iWX6Y-VlEqN4",
        "outputId": "09ad1750-df95-4cf1-fd32-122f90979560"
      },
      "execution_count": 71,
      "outputs": [
        {
          "output_type": "stream",
          "name": "stdout",
          "text": [
            "tf.Tensor([1 2 2 2 1], shape=(5,), dtype=int32) /job:localhost/replica:0/task:0/device:CPU:0\n"
          ]
        }
      ]
    },
    {
      "cell_type": "code",
      "source": [],
      "metadata": {
        "id": "dVEOwzkMF4Uz"
      },
      "execution_count": null,
      "outputs": []
    }
  ]
}