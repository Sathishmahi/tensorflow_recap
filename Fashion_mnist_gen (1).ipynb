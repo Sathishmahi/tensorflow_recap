{
  "nbformat": 4,
  "nbformat_minor": 0,
  "metadata": {
    "colab": {
      "provenance": [],
      "gpuType": "T4"
    },
    "kernelspec": {
      "name": "python3",
      "display_name": "Python 3"
    },
    "language_info": {
      "name": "python"
    },
    "accelerator": "GPU"
  },
  "cells": [
    {
      "cell_type": "code",
      "execution_count": null,
      "metadata": {
        "id": "iXMiLo4pDZtt"
      },
      "outputs": [],
      "source": [
        "import tensorflow as tf\n",
        "import tensorflow_datasets as tf_ds\n",
        "import numpy as np\n",
        "import matplotlib.pyplot as plt\n",
        "from tensorflow.keras.models import Model\n",
        "from tensorflow.keras.layers import Layer\n",
        "from tensorflow.keras.layers import (Reshape, Conv2DTranspose, Add, Conv2D, MaxPool2D, Dense,\n",
        "                                     Flatten, InputLayer, BatchNormalization, Input, )\n",
        "from tensorflow.keras.optimizers import Adam"
      ]
    },
    {
      "cell_type": "code",
      "source": [
        "data=tf_ds.load(name=\"fashion_mnist\",as_supervised=True)"
      ],
      "metadata": {
        "id": "HGtHxhvTDlKB"
      },
      "execution_count": null,
      "outputs": []
    },
    {
      "cell_type": "code",
      "source": [
        "train_data=data[\"train\"]\n",
        "test_data=data[\"test\"]\n",
        "def rescaling(img,lab):\n",
        "  return tf.cast(img,dtype=tf.float32)/255.\n",
        "train_data=train_data.map(rescaling).shuffle(1024).batch(64).prefetch(tf.data.AUTOTUNE)\n",
        "test_data=test_data.map(rescaling).shuffle(1024).batch(64).prefetch(tf.data.AUTOTUNE)"
      ],
      "metadata": {
        "id": "CSZ86vLzDva-"
      },
      "execution_count": null,
      "outputs": []
    },
    {
      "cell_type": "code",
      "source": [
        "class Sampling(Layer):\n",
        "  def call(self, inputs):\n",
        "    mean, log_var = inputs\n",
        "    return mean + tf.math.exp(0.5*log_var)*tf.random.normal(shape = (tf.shape(mean)[0], tf.shape(mean)[1]))"
      ],
      "metadata": {
        "id": "48bRUQivEy1B"
      },
      "execution_count": null,
      "outputs": []
    },
    {
      "cell_type": "code",
      "source": [
        "LATENT_DIM=2\n",
        "encoder_inputs = Input(shape=(28,28,1))\n",
        "\n",
        "x = Conv2D(32, 3, activation='relu', strides=2, padding='same')(encoder_inputs)\n",
        "x = Conv2D(64, 3, activation='relu', strides=2, padding='same')(x)\n",
        "\n",
        "x = Flatten()(x)\n",
        "x = Dense(16, activation='relu')(x)\n",
        "\n",
        "mean = Dense(LATENT_DIM,)(x)\n",
        "log_var = Dense(LATENT_DIM,)(x)\n",
        "\n",
        "z = Sampling()([mean,log_var])\n",
        "\n",
        "encoder_model = Model(encoder_inputs,[z,mean,log_var], name='encoder')\n",
        "encoder_model.summary()"
      ],
      "metadata": {
        "colab": {
          "base_uri": "https://localhost:8080/"
        },
        "id": "ZB-2c5YAEX4D",
        "outputId": "9757845b-9d9c-4887-947c-ddecee5a3103"
      },
      "execution_count": null,
      "outputs": [
        {
          "output_type": "stream",
          "name": "stdout",
          "text": [
            "Model: \"encoder\"\n",
            "__________________________________________________________________________________________________\n",
            " Layer (type)                   Output Shape         Param #     Connected to                     \n",
            "==================================================================================================\n",
            " input_3 (InputLayer)           [(None, 28, 28, 1)]  0           []                               \n",
            "                                                                                                  \n",
            " conv2d_2 (Conv2D)              (None, 14, 14, 32)   320         ['input_3[0][0]']                \n",
            "                                                                                                  \n",
            " conv2d_3 (Conv2D)              (None, 7, 7, 64)     18496       ['conv2d_2[0][0]']               \n",
            "                                                                                                  \n",
            " flatten_1 (Flatten)            (None, 3136)         0           ['conv2d_3[0][0]']               \n",
            "                                                                                                  \n",
            " dense_4 (Dense)                (None, 16)           50192       ['flatten_1[0][0]']              \n",
            "                                                                                                  \n",
            " dense_5 (Dense)                (None, 2)            34          ['dense_4[0][0]']                \n",
            "                                                                                                  \n",
            " dense_6 (Dense)                (None, 2)            34          ['dense_4[0][0]']                \n",
            "                                                                                                  \n",
            " sampling_1 (Sampling)          (None, 2)            0           ['dense_5[0][0]',                \n",
            "                                                                  'dense_6[0][0]']                \n",
            "                                                                                                  \n",
            "==================================================================================================\n",
            "Total params: 69,076\n",
            "Trainable params: 69,076\n",
            "Non-trainable params: 0\n",
            "__________________________________________________________________________________________________\n"
          ]
        }
      ]
    },
    {
      "cell_type": "code",
      "source": [
        "latent_inputs = Input(shape=(LATENT_DIM,))\n",
        "\n",
        "\n",
        "x = Dense(7*7*64, activation='relu')(latent_inputs)\n",
        "x = Reshape((7,7,64))(x)\n",
        "\n",
        "x = Conv2DTranspose(64, 3, activation='relu', strides=2, padding='same')(x)\n",
        "x = Conv2DTranspose(32, 3, activation='relu', strides=2, padding='same')(x)\n",
        "\n",
        "decoder_output = Conv2DTranspose(1, 3, activation='sigmoid', padding='same')(x)\n",
        "decoder_model = Model(latent_inputs,decoder_output,name='decoder')\n",
        "decoder_model.summary()"
      ],
      "metadata": {
        "colab": {
          "base_uri": "https://localhost:8080/"
        },
        "id": "mQf_kFF_Evq9",
        "outputId": "af77117d-b004-453e-aba3-521b07da7a47"
      },
      "execution_count": null,
      "outputs": [
        {
          "output_type": "stream",
          "name": "stdout",
          "text": [
            "Model: \"decoder\"\n",
            "_________________________________________________________________\n",
            " Layer (type)                Output Shape              Param #   \n",
            "=================================================================\n",
            " input_4 (InputLayer)        [(None, 2)]               0         \n",
            "                                                                 \n",
            " dense_7 (Dense)             (None, 3136)              9408      \n",
            "                                                                 \n",
            " reshape_1 (Reshape)         (None, 7, 7, 64)          0         \n",
            "                                                                 \n",
            " conv2d_transpose_3 (Conv2DT  (None, 14, 14, 64)       36928     \n",
            " ranspose)                                                       \n",
            "                                                                 \n",
            " conv2d_transpose_4 (Conv2DT  (None, 28, 28, 32)       18464     \n",
            " ranspose)                                                       \n",
            "                                                                 \n",
            " conv2d_transpose_5 (Conv2DT  (None, 28, 28, 1)        289       \n",
            " ranspose)                                                       \n",
            "                                                                 \n",
            "=================================================================\n",
            "Total params: 65,089\n",
            "Trainable params: 65,089\n",
            "Non-trainable params: 0\n",
            "_________________________________________________________________\n"
          ]
        }
      ]
    },
    {
      "cell_type": "code",
      "source": [
        "vae_input = Input(shape=(28,28,1), name=\"vae_input\")\n",
        "z,_,_ = encoder_model(vae_input)\n",
        "output = decoder_model(z)\n",
        "vae = Model(vae_input, output, name=\"vae\")\n",
        "vae.summary()"
      ],
      "metadata": {
        "colab": {
          "base_uri": "https://localhost:8080/"
        },
        "id": "aZ04empHE6cp",
        "outputId": "8ff13a69-ecdf-4bf9-c9a3-6e4981fc7ab4"
      },
      "execution_count": null,
      "outputs": [
        {
          "output_type": "stream",
          "name": "stdout",
          "text": [
            "Model: \"vae\"\n",
            "_________________________________________________________________\n",
            " Layer (type)                Output Shape              Param #   \n",
            "=================================================================\n",
            " vae_input (InputLayer)      [(None, 28, 28, 1)]       0         \n",
            "                                                                 \n",
            " encoder (Functional)        [(None, 2),               69076     \n",
            "                              (None, 2),                         \n",
            "                              (None, 2)]                         \n",
            "                                                                 \n",
            " decoder (Functional)        (None, 28, 28, 1)         65089     \n",
            "                                                                 \n",
            "=================================================================\n",
            "Total params: 134,165\n",
            "Trainable params: 134,165\n",
            "Non-trainable params: 0\n",
            "_________________________________________________________________\n"
          ]
        }
      ]
    },
    {
      "cell_type": "code",
      "source": [
        "OPTIMIZER = tf.keras.optimizers.SGD(learning_rate = 0.01)\n",
        "EPOCHS = 20"
      ],
      "metadata": {
        "id": "bN_fVSkbFBAf"
      },
      "execution_count": null,
      "outputs": []
    },
    {
      "cell_type": "code",
      "source": [
        "def custom_loss(y_true,y_pred,mean,log_var):\n",
        "\n",
        "  loss_rec = tf.reduce_mean(tf.reduce_sum(tf.keras.losses.binary_crossentropy(y_true,y_pred), axis = (1,2)))\n",
        "\n",
        "  loss_reg = -0.5 * (1 + log_var - tf.square(mean) - tf.exp(log_var))\n",
        "\n",
        "  return loss_rec+tf.reduce_mean(tf.reduce_sum(loss_reg, axis=1))"
      ],
      "metadata": {
        "id": "Mvkk1OxNFWv_"
      },
      "execution_count": null,
      "outputs": []
    },
    {
      "cell_type": "code",
      "source": [
        "@tf.function\n",
        "def training_block(x_batch):\n",
        "  with tf.GradientTape() as recorder:\n",
        "    z,mean,log_var = encoder_model(x_batch)\n",
        "    y_pred = decoder_model(z)\n",
        "    y_true = x_batch\n",
        "    loss = custom_loss(y_true,y_pred, mean, log_var)\n",
        "\n",
        "  partial_derivatives = recorder.gradient(loss,vae.trainable_weights)\n",
        "  OPTIMIZER.apply_gradients(zip(partial_derivatives, vae.trainable_weights))\n",
        "  return loss"
      ],
      "metadata": {
        "id": "CBaaADI3FXSt"
      },
      "execution_count": null,
      "outputs": []
    },
    {
      "cell_type": "code",
      "source": [
        "import os\n",
        "def custom_model_ckpt(epoch,ckpt_path,model=vae,save_weights_only=True):\n",
        "  os.makedirs(ckpt_path,exist_ok=True)\n",
        "  fp=os.path.join(f'{ckpt_path}',f'epoch_{epoch}.h5')\n",
        "  model.save_weights(fp)"
      ],
      "metadata": {
        "id": "IJxJ75bAGJ6y"
      },
      "execution_count": null,
      "outputs": []
    },
    {
      "cell_type": "code",
      "source": [],
      "metadata": {
        "id": "K5mgImARHOPP"
      },
      "execution_count": null,
      "outputs": []
    },
    {
      "cell_type": "code",
      "source": [
        "def neuralearn(epochs):\n",
        "  total_loss={}\n",
        "  for epoch in range(1,epochs+1):\n",
        "    print('Training starts for epoch number {}'.format(epoch))\n",
        "\n",
        "    for step, x_batch in enumerate(train_data):\n",
        "      loss = training_block(x_batch)\n",
        "    custom_model_ckpt(epoch,\"ckpt\")\n",
        "    total_loss.update({epoch:loss})\n",
        "    print('Training Loss is: ', loss)\n",
        "  print('Training Complete!!!')\n",
        "  return total_loss"
      ],
      "metadata": {
        "id": "QsucZKTZFam4"
      },
      "execution_count": null,
      "outputs": []
    },
    {
      "cell_type": "code",
      "source": [
        "total_loss=neuralearn(200)"
      ],
      "metadata": {
        "colab": {
          "base_uri": "https://localhost:8080/"
        },
        "id": "k52du6iTFkdl",
        "outputId": "08106f7c-9106-4198-8742-cd01da11703b"
      },
      "execution_count": null,
      "outputs": [
        {
          "output_type": "stream",
          "name": "stdout",
          "text": [
            "Training starts for epoch number 1\n",
            "Training Loss is:  tf.Tensor(469.8823, shape=(), dtype=float32)\n",
            "Training starts for epoch number 2\n",
            "Training Loss is:  tf.Tensor(493.89154, shape=(), dtype=float32)\n",
            "Training starts for epoch number 3\n",
            "Training Loss is:  tf.Tensor(473.3352, shape=(), dtype=float32)\n",
            "Training starts for epoch number 4\n",
            "Training Loss is:  tf.Tensor(465.63242, shape=(), dtype=float32)\n",
            "Training starts for epoch number 5\n",
            "Training Loss is:  tf.Tensor(451.50946, shape=(), dtype=float32)\n",
            "Training starts for epoch number 6\n",
            "Training Loss is:  tf.Tensor(477.50662, shape=(), dtype=float32)\n",
            "Training starts for epoch number 7\n",
            "Training Loss is:  tf.Tensor(473.8729, shape=(), dtype=float32)\n",
            "Training starts for epoch number 8\n",
            "Training Loss is:  tf.Tensor(496.61157, shape=(), dtype=float32)\n",
            "Training starts for epoch number 9\n",
            "Training Loss is:  tf.Tensor(478.51462, shape=(), dtype=float32)\n",
            "Training starts for epoch number 10\n",
            "Training Loss is:  tf.Tensor(474.89404, shape=(), dtype=float32)\n",
            "Training starts for epoch number 11\n",
            "Training Loss is:  tf.Tensor(466.80206, shape=(), dtype=float32)\n",
            "Training starts for epoch number 12\n",
            "Training Loss is:  tf.Tensor(485.7663, shape=(), dtype=float32)\n",
            "Training starts for epoch number 13\n",
            "Training Loss is:  tf.Tensor(466.10034, shape=(), dtype=float32)\n",
            "Training starts for epoch number 14\n",
            "Training Loss is:  tf.Tensor(471.97223, shape=(), dtype=float32)\n",
            "Training starts for epoch number 15\n",
            "Training Loss is:  tf.Tensor(490.2792, shape=(), dtype=float32)\n",
            "Training starts for epoch number 16\n",
            "Training Loss is:  tf.Tensor(477.2374, shape=(), dtype=float32)\n",
            "Training starts for epoch number 17\n",
            "Training Loss is:  tf.Tensor(453.8657, shape=(), dtype=float32)\n",
            "Training starts for epoch number 18\n",
            "Training Loss is:  tf.Tensor(474.34225, shape=(), dtype=float32)\n",
            "Training starts for epoch number 19\n",
            "Training Loss is:  tf.Tensor(471.44492, shape=(), dtype=float32)\n",
            "Training starts for epoch number 20\n",
            "Training Loss is:  tf.Tensor(486.96603, shape=(), dtype=float32)\n",
            "Training starts for epoch number 21\n",
            "Training Loss is:  tf.Tensor(480.14752, shape=(), dtype=float32)\n",
            "Training starts for epoch number 22\n",
            "Training Loss is:  tf.Tensor(486.33325, shape=(), dtype=float32)\n",
            "Training starts for epoch number 23\n",
            "Training Loss is:  tf.Tensor(489.38, shape=(), dtype=float32)\n",
            "Training starts for epoch number 24\n",
            "Training Loss is:  tf.Tensor(490.8106, shape=(), dtype=float32)\n",
            "Training starts for epoch number 25\n",
            "Training Loss is:  tf.Tensor(455.4812, shape=(), dtype=float32)\n",
            "Training starts for epoch number 26\n",
            "Training Loss is:  tf.Tensor(459.15845, shape=(), dtype=float32)\n",
            "Training starts for epoch number 27\n",
            "Training Loss is:  tf.Tensor(502.63626, shape=(), dtype=float32)\n",
            "Training starts for epoch number 28\n",
            "Training Loss is:  tf.Tensor(481.65707, shape=(), dtype=float32)\n",
            "Training starts for epoch number 29\n",
            "Training Loss is:  tf.Tensor(477.855, shape=(), dtype=float32)\n",
            "Training starts for epoch number 30\n",
            "Training Loss is:  tf.Tensor(484.14978, shape=(), dtype=float32)\n",
            "Training starts for epoch number 31\n",
            "Training Loss is:  tf.Tensor(457.594, shape=(), dtype=float32)\n",
            "Training starts for epoch number 32\n",
            "Training Loss is:  tf.Tensor(479.83313, shape=(), dtype=float32)\n",
            "Training starts for epoch number 33\n",
            "Training Loss is:  tf.Tensor(469.1294, shape=(), dtype=float32)\n",
            "Training starts for epoch number 34\n",
            "Training Loss is:  tf.Tensor(447.62878, shape=(), dtype=float32)\n",
            "Training starts for epoch number 35\n",
            "Training Loss is:  tf.Tensor(475.76117, shape=(), dtype=float32)\n",
            "Training starts for epoch number 36\n",
            "Training Loss is:  tf.Tensor(480.41238, shape=(), dtype=float32)\n",
            "Training starts for epoch number 37\n",
            "Training Loss is:  tf.Tensor(455.9137, shape=(), dtype=float32)\n",
            "Training starts for epoch number 38\n",
            "Training Loss is:  tf.Tensor(454.52667, shape=(), dtype=float32)\n",
            "Training starts for epoch number 39\n",
            "Training Loss is:  tf.Tensor(458.44617, shape=(), dtype=float32)\n",
            "Training starts for epoch number 40\n",
            "Training Loss is:  tf.Tensor(470.86182, shape=(), dtype=float32)\n",
            "Training starts for epoch number 41\n",
            "Training Loss is:  tf.Tensor(476.90387, shape=(), dtype=float32)\n",
            "Training starts for epoch number 42\n",
            "Training Loss is:  tf.Tensor(484.54877, shape=(), dtype=float32)\n",
            "Training starts for epoch number 43\n",
            "Training Loss is:  tf.Tensor(470.9306, shape=(), dtype=float32)\n",
            "Training starts for epoch number 44\n",
            "Training Loss is:  tf.Tensor(435.26166, shape=(), dtype=float32)\n",
            "Training starts for epoch number 45\n",
            "Training Loss is:  tf.Tensor(456.31726, shape=(), dtype=float32)\n",
            "Training starts for epoch number 46\n",
            "Training Loss is:  tf.Tensor(453.75348, shape=(), dtype=float32)\n",
            "Training starts for epoch number 47\n",
            "Training Loss is:  tf.Tensor(483.99036, shape=(), dtype=float32)\n",
            "Training starts for epoch number 48\n",
            "Training Loss is:  tf.Tensor(473.67447, shape=(), dtype=float32)\n",
            "Training starts for epoch number 49\n",
            "Training Loss is:  tf.Tensor(465.3084, shape=(), dtype=float32)\n",
            "Training starts for epoch number 50\n",
            "Training Loss is:  tf.Tensor(477.84387, shape=(), dtype=float32)\n",
            "Training starts for epoch number 51\n",
            "Training Loss is:  tf.Tensor(472.10474, shape=(), dtype=float32)\n",
            "Training starts for epoch number 52\n",
            "Training Loss is:  tf.Tensor(459.08896, shape=(), dtype=float32)\n",
            "Training starts for epoch number 53\n",
            "Training Loss is:  tf.Tensor(487.05414, shape=(), dtype=float32)\n",
            "Training starts for epoch number 54\n",
            "Training Loss is:  tf.Tensor(471.8933, shape=(), dtype=float32)\n",
            "Training starts for epoch number 55\n",
            "Training Loss is:  tf.Tensor(471.34534, shape=(), dtype=float32)\n",
            "Training starts for epoch number 56\n",
            "Training Loss is:  tf.Tensor(476.2088, shape=(), dtype=float32)\n",
            "Training starts for epoch number 57\n",
            "Training Loss is:  tf.Tensor(479.67593, shape=(), dtype=float32)\n",
            "Training starts for epoch number 58\n",
            "Training Loss is:  tf.Tensor(465.78204, shape=(), dtype=float32)\n",
            "Training starts for epoch number 59\n",
            "Training Loss is:  tf.Tensor(463.02936, shape=(), dtype=float32)\n",
            "Training starts for epoch number 60\n",
            "Training Loss is:  tf.Tensor(463.47086, shape=(), dtype=float32)\n",
            "Training starts for epoch number 61\n",
            "Training Loss is:  tf.Tensor(475.7071, shape=(), dtype=float32)\n",
            "Training starts for epoch number 62\n",
            "Training Loss is:  tf.Tensor(497.31174, shape=(), dtype=float32)\n",
            "Training starts for epoch number 63\n",
            "Training Loss is:  tf.Tensor(473.80573, shape=(), dtype=float32)\n",
            "Training starts for epoch number 64\n",
            "Training Loss is:  tf.Tensor(475.43066, shape=(), dtype=float32)\n",
            "Training starts for epoch number 65\n",
            "Training Loss is:  tf.Tensor(464.1146, shape=(), dtype=float32)\n",
            "Training starts for epoch number 66\n",
            "Training Loss is:  tf.Tensor(432.5154, shape=(), dtype=float32)\n",
            "Training starts for epoch number 67\n",
            "Training Loss is:  tf.Tensor(445.74637, shape=(), dtype=float32)\n",
            "Training starts for epoch number 68\n",
            "Training Loss is:  tf.Tensor(443.12372, shape=(), dtype=float32)\n",
            "Training starts for epoch number 69\n",
            "Training Loss is:  tf.Tensor(476.85535, shape=(), dtype=float32)\n",
            "Training starts for epoch number 70\n",
            "Training Loss is:  tf.Tensor(484.9656, shape=(), dtype=float32)\n",
            "Training starts for epoch number 71\n",
            "Training Loss is:  tf.Tensor(443.77832, shape=(), dtype=float32)\n",
            "Training starts for epoch number 72\n",
            "Training Loss is:  tf.Tensor(449.49774, shape=(), dtype=float32)\n",
            "Training starts for epoch number 73\n",
            "Training Loss is:  tf.Tensor(482.17447, shape=(), dtype=float32)\n",
            "Training starts for epoch number 74\n",
            "Training Loss is:  tf.Tensor(476.47644, shape=(), dtype=float32)\n",
            "Training starts for epoch number 75\n",
            "Training Loss is:  tf.Tensor(472.86728, shape=(), dtype=float32)\n",
            "Training starts for epoch number 76\n",
            "Training Loss is:  tf.Tensor(493.51157, shape=(), dtype=float32)\n",
            "Training starts for epoch number 77\n",
            "Training Loss is:  tf.Tensor(475.45288, shape=(), dtype=float32)\n",
            "Training starts for epoch number 78\n",
            "Training Loss is:  tf.Tensor(475.61572, shape=(), dtype=float32)\n",
            "Training starts for epoch number 79\n",
            "Training Loss is:  tf.Tensor(471.1496, shape=(), dtype=float32)\n",
            "Training starts for epoch number 80\n",
            "Training Loss is:  tf.Tensor(478.6882, shape=(), dtype=float32)\n",
            "Training starts for epoch number 81\n",
            "Training Loss is:  tf.Tensor(499.98547, shape=(), dtype=float32)\n",
            "Training starts for epoch number 82\n",
            "Training Loss is:  tf.Tensor(495.72583, shape=(), dtype=float32)\n",
            "Training starts for epoch number 83\n",
            "Training Loss is:  tf.Tensor(487.79956, shape=(), dtype=float32)\n",
            "Training starts for epoch number 84\n",
            "Training Loss is:  tf.Tensor(469.7782, shape=(), dtype=float32)\n",
            "Training starts for epoch number 85\n",
            "Training Loss is:  tf.Tensor(462.5921, shape=(), dtype=float32)\n",
            "Training starts for epoch number 86\n",
            "Training Loss is:  tf.Tensor(447.08847, shape=(), dtype=float32)\n",
            "Training starts for epoch number 87\n",
            "Training Loss is:  tf.Tensor(460.1706, shape=(), dtype=float32)\n",
            "Training starts for epoch number 88\n",
            "Training Loss is:  tf.Tensor(461.43936, shape=(), dtype=float32)\n",
            "Training starts for epoch number 89\n",
            "Training Loss is:  tf.Tensor(471.5525, shape=(), dtype=float32)\n",
            "Training starts for epoch number 90\n",
            "Training Loss is:  tf.Tensor(485.7875, shape=(), dtype=float32)\n",
            "Training starts for epoch number 91\n",
            "Training Loss is:  tf.Tensor(455.08383, shape=(), dtype=float32)\n",
            "Training starts for epoch number 92\n",
            "Training Loss is:  tf.Tensor(451.84906, shape=(), dtype=float32)\n",
            "Training starts for epoch number 93\n",
            "Training Loss is:  tf.Tensor(486.43088, shape=(), dtype=float32)\n",
            "Training starts for epoch number 94\n",
            "Training Loss is:  tf.Tensor(493.107, shape=(), dtype=float32)\n",
            "Training starts for epoch number 95\n",
            "Training Loss is:  tf.Tensor(460.57108, shape=(), dtype=float32)\n",
            "Training starts for epoch number 96\n",
            "Training Loss is:  tf.Tensor(447.7478, shape=(), dtype=float32)\n",
            "Training starts for epoch number 97\n",
            "Training Loss is:  tf.Tensor(495.39215, shape=(), dtype=float32)\n",
            "Training starts for epoch number 98\n",
            "Training Loss is:  tf.Tensor(454.58167, shape=(), dtype=float32)\n",
            "Training starts for epoch number 99\n",
            "Training Loss is:  tf.Tensor(460.49777, shape=(), dtype=float32)\n",
            "Training starts for epoch number 100\n",
            "Training Loss is:  tf.Tensor(438.92224, shape=(), dtype=float32)\n",
            "Training starts for epoch number 101\n",
            "Training Loss is:  tf.Tensor(460.98682, shape=(), dtype=float32)\n",
            "Training starts for epoch number 102\n",
            "Training Loss is:  tf.Tensor(481.32275, shape=(), dtype=float32)\n",
            "Training starts for epoch number 103\n",
            "Training Loss is:  tf.Tensor(476.74298, shape=(), dtype=float32)\n",
            "Training starts for epoch number 104\n",
            "Training Loss is:  tf.Tensor(481.92346, shape=(), dtype=float32)\n",
            "Training starts for epoch number 105\n",
            "Training Loss is:  tf.Tensor(494.05524, shape=(), dtype=float32)\n",
            "Training starts for epoch number 106\n",
            "Training Loss is:  tf.Tensor(474.92743, shape=(), dtype=float32)\n",
            "Training starts for epoch number 107\n",
            "Training Loss is:  tf.Tensor(486.9485, shape=(), dtype=float32)\n",
            "Training starts for epoch number 108\n",
            "Training Loss is:  tf.Tensor(447.55505, shape=(), dtype=float32)\n",
            "Training starts for epoch number 109\n",
            "Training Loss is:  tf.Tensor(478.22025, shape=(), dtype=float32)\n",
            "Training starts for epoch number 110\n",
            "Training Loss is:  tf.Tensor(480.1751, shape=(), dtype=float32)\n",
            "Training starts for epoch number 111\n",
            "Training Loss is:  tf.Tensor(476.5138, shape=(), dtype=float32)\n",
            "Training starts for epoch number 112\n",
            "Training Loss is:  tf.Tensor(471.4723, shape=(), dtype=float32)\n",
            "Training starts for epoch number 113\n",
            "Training Loss is:  tf.Tensor(453.41998, shape=(), dtype=float32)\n",
            "Training starts for epoch number 114\n",
            "Training Loss is:  tf.Tensor(472.1673, shape=(), dtype=float32)\n",
            "Training starts for epoch number 115\n",
            "Training Loss is:  tf.Tensor(473.75363, shape=(), dtype=float32)\n",
            "Training starts for epoch number 116\n",
            "Training Loss is:  tf.Tensor(464.31848, shape=(), dtype=float32)\n",
            "Training starts for epoch number 117\n",
            "Training Loss is:  tf.Tensor(436.502, shape=(), dtype=float32)\n",
            "Training starts for epoch number 118\n",
            "Training Loss is:  tf.Tensor(480.84674, shape=(), dtype=float32)\n",
            "Training starts for epoch number 119\n",
            "Training Loss is:  tf.Tensor(444.85303, shape=(), dtype=float32)\n",
            "Training starts for epoch number 120\n",
            "Training Loss is:  tf.Tensor(453.23105, shape=(), dtype=float32)\n",
            "Training starts for epoch number 121\n",
            "Training Loss is:  tf.Tensor(478.80594, shape=(), dtype=float32)\n",
            "Training starts for epoch number 122\n",
            "Training Loss is:  tf.Tensor(473.8783, shape=(), dtype=float32)\n",
            "Training starts for epoch number 123\n",
            "Training Loss is:  tf.Tensor(453.17822, shape=(), dtype=float32)\n",
            "Training starts for epoch number 124\n",
            "Training Loss is:  tf.Tensor(462.26044, shape=(), dtype=float32)\n",
            "Training starts for epoch number 125\n",
            "Training Loss is:  tf.Tensor(461.27524, shape=(), dtype=float32)\n",
            "Training starts for epoch number 126\n",
            "Training Loss is:  tf.Tensor(466.15533, shape=(), dtype=float32)\n",
            "Training starts for epoch number 127\n",
            "Training Loss is:  tf.Tensor(478.03607, shape=(), dtype=float32)\n",
            "Training starts for epoch number 128\n",
            "Training Loss is:  tf.Tensor(446.39465, shape=(), dtype=float32)\n",
            "Training starts for epoch number 129\n",
            "Training Loss is:  tf.Tensor(476.45346, shape=(), dtype=float32)\n",
            "Training starts for epoch number 130\n",
            "Training Loss is:  tf.Tensor(482.79248, shape=(), dtype=float32)\n",
            "Training starts for epoch number 131\n",
            "Training Loss is:  tf.Tensor(489.17743, shape=(), dtype=float32)\n",
            "Training starts for epoch number 132\n",
            "Training Loss is:  tf.Tensor(500.5331, shape=(), dtype=float32)\n",
            "Training starts for epoch number 133\n",
            "Training Loss is:  tf.Tensor(470.0965, shape=(), dtype=float32)\n",
            "Training starts for epoch number 134\n",
            "Training Loss is:  tf.Tensor(450.313, shape=(), dtype=float32)\n",
            "Training starts for epoch number 135\n",
            "Training Loss is:  tf.Tensor(460.91473, shape=(), dtype=float32)\n",
            "Training starts for epoch number 136\n",
            "Training Loss is:  tf.Tensor(464.17526, shape=(), dtype=float32)\n",
            "Training starts for epoch number 137\n",
            "Training Loss is:  tf.Tensor(485.88458, shape=(), dtype=float32)\n",
            "Training starts for epoch number 138\n",
            "Training Loss is:  tf.Tensor(464.26157, shape=(), dtype=float32)\n",
            "Training starts for epoch number 139\n",
            "Training Loss is:  tf.Tensor(460.6035, shape=(), dtype=float32)\n",
            "Training starts for epoch number 140\n",
            "Training Loss is:  tf.Tensor(462.36328, shape=(), dtype=float32)\n",
            "Training starts for epoch number 141\n",
            "Training Loss is:  tf.Tensor(464.55994, shape=(), dtype=float32)\n",
            "Training starts for epoch number 142\n",
            "Training Loss is:  tf.Tensor(463.10104, shape=(), dtype=float32)\n",
            "Training starts for epoch number 143\n",
            "Training Loss is:  tf.Tensor(500.81, shape=(), dtype=float32)\n",
            "Training starts for epoch number 144\n",
            "Training Loss is:  tf.Tensor(458.0827, shape=(), dtype=float32)\n",
            "Training starts for epoch number 145\n",
            "Training Loss is:  tf.Tensor(466.50018, shape=(), dtype=float32)\n",
            "Training starts for epoch number 146\n",
            "Training Loss is:  tf.Tensor(490.95108, shape=(), dtype=float32)\n",
            "Training starts for epoch number 147\n",
            "Training Loss is:  tf.Tensor(485.31915, shape=(), dtype=float32)\n",
            "Training starts for epoch number 148\n",
            "Training Loss is:  tf.Tensor(484.22186, shape=(), dtype=float32)\n",
            "Training starts for epoch number 149\n",
            "Training Loss is:  tf.Tensor(434.37, shape=(), dtype=float32)\n",
            "Training starts for epoch number 150\n",
            "Training Loss is:  tf.Tensor(498.64005, shape=(), dtype=float32)\n",
            "Training starts for epoch number 151\n",
            "Training Loss is:  tf.Tensor(459.7154, shape=(), dtype=float32)\n",
            "Training starts for epoch number 152\n",
            "Training Loss is:  tf.Tensor(447.83344, shape=(), dtype=float32)\n",
            "Training starts for epoch number 153\n",
            "Training Loss is:  tf.Tensor(462.85754, shape=(), dtype=float32)\n",
            "Training starts for epoch number 154\n",
            "Training Loss is:  tf.Tensor(437.98386, shape=(), dtype=float32)\n",
            "Training starts for epoch number 155\n",
            "Training Loss is:  tf.Tensor(440.02606, shape=(), dtype=float32)\n",
            "Training starts for epoch number 156\n",
            "Training Loss is:  tf.Tensor(468.8976, shape=(), dtype=float32)\n",
            "Training starts for epoch number 157\n",
            "Training Loss is:  tf.Tensor(462.14417, shape=(), dtype=float32)\n",
            "Training starts for epoch number 158\n",
            "Training Loss is:  tf.Tensor(465.37726, shape=(), dtype=float32)\n",
            "Training starts for epoch number 159\n",
            "Training Loss is:  tf.Tensor(477.56583, shape=(), dtype=float32)\n",
            "Training starts for epoch number 160\n",
            "Training Loss is:  tf.Tensor(471.25925, shape=(), dtype=float32)\n",
            "Training starts for epoch number 161\n",
            "Training Loss is:  tf.Tensor(468.5207, shape=(), dtype=float32)\n",
            "Training starts for epoch number 162\n",
            "Training Loss is:  tf.Tensor(441.3844, shape=(), dtype=float32)\n",
            "Training starts for epoch number 163\n",
            "Training Loss is:  tf.Tensor(444.45374, shape=(), dtype=float32)\n",
            "Training starts for epoch number 164\n",
            "Training Loss is:  tf.Tensor(466.66113, shape=(), dtype=float32)\n",
            "Training starts for epoch number 165\n",
            "Training Loss is:  tf.Tensor(476.8473, shape=(), dtype=float32)\n",
            "Training starts for epoch number 166\n",
            "Training Loss is:  tf.Tensor(462.79666, shape=(), dtype=float32)\n",
            "Training starts for epoch number 167\n",
            "Training Loss is:  tf.Tensor(473.60254, shape=(), dtype=float32)\n",
            "Training starts for epoch number 168\n",
            "Training Loss is:  tf.Tensor(487.53864, shape=(), dtype=float32)\n",
            "Training starts for epoch number 169\n",
            "Training Loss is:  tf.Tensor(508.29016, shape=(), dtype=float32)\n",
            "Training starts for epoch number 170\n",
            "Training Loss is:  tf.Tensor(490.1826, shape=(), dtype=float32)\n",
            "Training starts for epoch number 171\n",
            "Training Loss is:  tf.Tensor(466.78003, shape=(), dtype=float32)\n",
            "Training starts for epoch number 172\n",
            "Training Loss is:  tf.Tensor(479.12558, shape=(), dtype=float32)\n",
            "Training starts for epoch number 173\n",
            "Training Loss is:  tf.Tensor(462.5586, shape=(), dtype=float32)\n",
            "Training starts for epoch number 174\n",
            "Training Loss is:  tf.Tensor(481.42365, shape=(), dtype=float32)\n",
            "Training starts for epoch number 175\n",
            "Training Loss is:  tf.Tensor(487.71588, shape=(), dtype=float32)\n",
            "Training starts for epoch number 176\n",
            "Training Loss is:  tf.Tensor(473.5987, shape=(), dtype=float32)\n",
            "Training starts for epoch number 177\n",
            "Training Loss is:  tf.Tensor(472.35657, shape=(), dtype=float32)\n",
            "Training starts for epoch number 178\n",
            "Training Loss is:  tf.Tensor(492.15283, shape=(), dtype=float32)\n",
            "Training starts for epoch number 179\n",
            "Training Loss is:  tf.Tensor(478.88275, shape=(), dtype=float32)\n",
            "Training starts for epoch number 180\n",
            "Training Loss is:  tf.Tensor(479.32507, shape=(), dtype=float32)\n",
            "Training starts for epoch number 181\n",
            "Training Loss is:  tf.Tensor(466.6173, shape=(), dtype=float32)\n",
            "Training starts for epoch number 182\n",
            "Training Loss is:  tf.Tensor(459.13937, shape=(), dtype=float32)\n",
            "Training starts for epoch number 183\n",
            "Training Loss is:  tf.Tensor(496.22754, shape=(), dtype=float32)\n",
            "Training starts for epoch number 184\n",
            "Training Loss is:  tf.Tensor(479.54953, shape=(), dtype=float32)\n",
            "Training starts for epoch number 185\n",
            "Training Loss is:  tf.Tensor(458.7176, shape=(), dtype=float32)\n",
            "Training starts for epoch number 186\n",
            "Training Loss is:  tf.Tensor(449.37976, shape=(), dtype=float32)\n",
            "Training starts for epoch number 187\n",
            "Training Loss is:  tf.Tensor(485.18674, shape=(), dtype=float32)\n",
            "Training starts for epoch number 188\n",
            "Training Loss is:  tf.Tensor(452.92365, shape=(), dtype=float32)\n",
            "Training starts for epoch number 189\n",
            "Training Loss is:  tf.Tensor(458.15826, shape=(), dtype=float32)\n",
            "Training starts for epoch number 190\n",
            "Training Loss is:  tf.Tensor(465.65778, shape=(), dtype=float32)\n",
            "Training starts for epoch number 191\n",
            "Training Loss is:  tf.Tensor(474.80994, shape=(), dtype=float32)\n",
            "Training starts for epoch number 192\n",
            "Training Loss is:  tf.Tensor(479.2619, shape=(), dtype=float32)\n",
            "Training starts for epoch number 193\n",
            "Training Loss is:  tf.Tensor(493.57214, shape=(), dtype=float32)\n",
            "Training starts for epoch number 194\n",
            "Training Loss is:  tf.Tensor(463.81644, shape=(), dtype=float32)\n",
            "Training starts for epoch number 195\n",
            "Training Loss is:  tf.Tensor(512.314, shape=(), dtype=float32)\n",
            "Training starts for epoch number 196\n",
            "Training Loss is:  tf.Tensor(482.07767, shape=(), dtype=float32)\n",
            "Training starts for epoch number 197\n",
            "Training Loss is:  tf.Tensor(473.5996, shape=(), dtype=float32)\n",
            "Training starts for epoch number 198\n",
            "Training Loss is:  tf.Tensor(488.2776, shape=(), dtype=float32)\n",
            "Training starts for epoch number 199\n",
            "Training Loss is:  tf.Tensor(463.46014, shape=(), dtype=float32)\n",
            "Training starts for epoch number 200\n",
            "Training Loss is:  tf.Tensor(467.05426, shape=(), dtype=float32)\n",
            "Training Complete!!!\n"
          ]
        }
      ]
    },
    {
      "cell_type": "code",
      "source": [
        "plt.imshow(vae.layers[-1].predict([[1,1]])[0])"
      ],
      "metadata": {
        "id": "-7aO4NATFpGe"
      },
      "execution_count": null,
      "outputs": []
    },
    {
      "cell_type": "code",
      "source": [
        "y_out=vae.layers[1].predict(test_data)"
      ],
      "metadata": {
        "colab": {
          "base_uri": "https://localhost:8080/"
        },
        "id": "wAVrAJMVLSwS",
        "outputId": "e68ca303-f0b2-4e5f-dd79-cb9e7cee8d98"
      },
      "execution_count": null,
      "outputs": [
        {
          "output_type": "stream",
          "name": "stdout",
          "text": [
            "157/157 [==============================] - 1s 3ms/step\n"
          ]
        }
      ]
    },
    {
      "cell_type": "code",
      "source": [
        "all_img=vae.layers[-1].predict(y_out[0])"
      ],
      "metadata": {
        "colab": {
          "base_uri": "https://localhost:8080/"
        },
        "id": "L7CzpsxLL6Kc",
        "outputId": "e505d6e3-df6c-45fc-f88a-346caa442296"
      },
      "execution_count": null,
      "outputs": [
        {
          "output_type": "stream",
          "name": "stdout",
          "text": [
            "313/313 [==============================] - 1s 2ms/step\n"
          ]
        }
      ]
    },
    {
      "cell_type": "code",
      "source": [
        "plt.imshow(all_img[10])"
      ],
      "metadata": {
        "id": "M-BMqM7zL8Kh"
      },
      "execution_count": null,
      "outputs": []
    },
    {
      "cell_type": "code",
      "source": [],
      "metadata": {
        "id": "emAzk8rOMEU5"
      },
      "execution_count": null,
      "outputs": []
    }
  ]
}