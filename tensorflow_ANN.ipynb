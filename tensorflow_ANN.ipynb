{
  "nbformat": 4,
  "nbformat_minor": 0,
  "metadata": {
    "colab": {
      "provenance": []
    },
    "kernelspec": {
      "name": "python3",
      "display_name": "Python 3"
    },
    "language_info": {
      "name": "python"
    },
    "accelerator": "GPU",
    "gpuClass": "standard"
  },
  "cells": [
    {
      "cell_type": "code",
      "execution_count": null,
      "metadata": {
        "colab": {
          "base_uri": "https://localhost:8080/"
        },
        "id": "ZKuFtjp057g9",
        "outputId": "0aa3f12e-2d44-4440-acdf-00174c2a61e7"
      },
      "outputs": [
        {
          "output_type": "stream",
          "name": "stdout",
          "text": [
            "2.12.0\n"
          ]
        }
      ],
      "source": [
        "import tensorflow as tf\n",
        "print(tf.__version__)\n",
        "import pandas as pd\n",
        "import numpy as np\n",
        "import matplotlib.pyplot as plt\n",
        "import seaborn as sns\n",
        "pd.set_option('display.max_columns', None)\n",
        "from sklearn.model_selection import train_test_split\n",
        "from sklearn.preprocessing import StandardScaler"
      ]
    },
    {
      "cell_type": "code",
      "source": [
        "df=pd.read_csv('/content/WA_Fn-UseC_-Telco-Customer-Churn.csv')"
      ],
      "metadata": {
        "id": "fc_Di7Kg7cqi"
      },
      "execution_count": null,
      "outputs": []
    },
    {
      "cell_type": "code",
      "source": [
        "df.head()"
      ],
      "metadata": {
        "colab": {
          "base_uri": "https://localhost:8080/",
          "height": 357
        },
        "id": "y1TbF2H582ra",
        "outputId": "dec1b8ad-1478-4403-847a-32e21f89616a"
      },
      "execution_count": null,
      "outputs": [
        {
          "output_type": "execute_result",
          "data": {
            "text/plain": [
              "   customerID  gender  SeniorCitizen Partner Dependents  tenure PhoneService  \\\n",
              "0  7590-VHVEG  Female              0     Yes         No       1           No   \n",
              "1  5575-GNVDE    Male              0      No         No      34          Yes   \n",
              "2  3668-QPYBK    Male              0      No         No       2          Yes   \n",
              "3  7795-CFOCW    Male              0      No         No      45           No   \n",
              "4  9237-HQITU  Female              0      No         No       2          Yes   \n",
              "\n",
              "      MultipleLines InternetService OnlineSecurity OnlineBackup  \\\n",
              "0  No phone service             DSL             No          Yes   \n",
              "1                No             DSL            Yes           No   \n",
              "2                No             DSL            Yes          Yes   \n",
              "3  No phone service             DSL            Yes           No   \n",
              "4                No     Fiber optic             No           No   \n",
              "\n",
              "  DeviceProtection TechSupport StreamingTV StreamingMovies        Contract  \\\n",
              "0               No          No          No              No  Month-to-month   \n",
              "1              Yes          No          No              No        One year   \n",
              "2               No          No          No              No  Month-to-month   \n",
              "3              Yes         Yes          No              No        One year   \n",
              "4               No          No          No              No  Month-to-month   \n",
              "\n",
              "  PaperlessBilling              PaymentMethod  MonthlyCharges TotalCharges  \\\n",
              "0              Yes           Electronic check           29.85        29.85   \n",
              "1               No               Mailed check           56.95       1889.5   \n",
              "2              Yes               Mailed check           53.85       108.15   \n",
              "3               No  Bank transfer (automatic)           42.30      1840.75   \n",
              "4              Yes           Electronic check           70.70       151.65   \n",
              "\n",
              "  Churn  \n",
              "0    No  \n",
              "1    No  \n",
              "2   Yes  \n",
              "3    No  \n",
              "4   Yes  "
            ],
            "text/html": [
              "\n",
              "  <div id=\"df-818cb895-7956-4266-976b-1112e2492ea5\">\n",
              "    <div class=\"colab-df-container\">\n",
              "      <div>\n",
              "<style scoped>\n",
              "    .dataframe tbody tr th:only-of-type {\n",
              "        vertical-align: middle;\n",
              "    }\n",
              "\n",
              "    .dataframe tbody tr th {\n",
              "        vertical-align: top;\n",
              "    }\n",
              "\n",
              "    .dataframe thead th {\n",
              "        text-align: right;\n",
              "    }\n",
              "</style>\n",
              "<table border=\"1\" class=\"dataframe\">\n",
              "  <thead>\n",
              "    <tr style=\"text-align: right;\">\n",
              "      <th></th>\n",
              "      <th>customerID</th>\n",
              "      <th>gender</th>\n",
              "      <th>SeniorCitizen</th>\n",
              "      <th>Partner</th>\n",
              "      <th>Dependents</th>\n",
              "      <th>tenure</th>\n",
              "      <th>PhoneService</th>\n",
              "      <th>MultipleLines</th>\n",
              "      <th>InternetService</th>\n",
              "      <th>OnlineSecurity</th>\n",
              "      <th>OnlineBackup</th>\n",
              "      <th>DeviceProtection</th>\n",
              "      <th>TechSupport</th>\n",
              "      <th>StreamingTV</th>\n",
              "      <th>StreamingMovies</th>\n",
              "      <th>Contract</th>\n",
              "      <th>PaperlessBilling</th>\n",
              "      <th>PaymentMethod</th>\n",
              "      <th>MonthlyCharges</th>\n",
              "      <th>TotalCharges</th>\n",
              "      <th>Churn</th>\n",
              "    </tr>\n",
              "  </thead>\n",
              "  <tbody>\n",
              "    <tr>\n",
              "      <th>0</th>\n",
              "      <td>7590-VHVEG</td>\n",
              "      <td>Female</td>\n",
              "      <td>0</td>\n",
              "      <td>Yes</td>\n",
              "      <td>No</td>\n",
              "      <td>1</td>\n",
              "      <td>No</td>\n",
              "      <td>No phone service</td>\n",
              "      <td>DSL</td>\n",
              "      <td>No</td>\n",
              "      <td>Yes</td>\n",
              "      <td>No</td>\n",
              "      <td>No</td>\n",
              "      <td>No</td>\n",
              "      <td>No</td>\n",
              "      <td>Month-to-month</td>\n",
              "      <td>Yes</td>\n",
              "      <td>Electronic check</td>\n",
              "      <td>29.85</td>\n",
              "      <td>29.85</td>\n",
              "      <td>No</td>\n",
              "    </tr>\n",
              "    <tr>\n",
              "      <th>1</th>\n",
              "      <td>5575-GNVDE</td>\n",
              "      <td>Male</td>\n",
              "      <td>0</td>\n",
              "      <td>No</td>\n",
              "      <td>No</td>\n",
              "      <td>34</td>\n",
              "      <td>Yes</td>\n",
              "      <td>No</td>\n",
              "      <td>DSL</td>\n",
              "      <td>Yes</td>\n",
              "      <td>No</td>\n",
              "      <td>Yes</td>\n",
              "      <td>No</td>\n",
              "      <td>No</td>\n",
              "      <td>No</td>\n",
              "      <td>One year</td>\n",
              "      <td>No</td>\n",
              "      <td>Mailed check</td>\n",
              "      <td>56.95</td>\n",
              "      <td>1889.5</td>\n",
              "      <td>No</td>\n",
              "    </tr>\n",
              "    <tr>\n",
              "      <th>2</th>\n",
              "      <td>3668-QPYBK</td>\n",
              "      <td>Male</td>\n",
              "      <td>0</td>\n",
              "      <td>No</td>\n",
              "      <td>No</td>\n",
              "      <td>2</td>\n",
              "      <td>Yes</td>\n",
              "      <td>No</td>\n",
              "      <td>DSL</td>\n",
              "      <td>Yes</td>\n",
              "      <td>Yes</td>\n",
              "      <td>No</td>\n",
              "      <td>No</td>\n",
              "      <td>No</td>\n",
              "      <td>No</td>\n",
              "      <td>Month-to-month</td>\n",
              "      <td>Yes</td>\n",
              "      <td>Mailed check</td>\n",
              "      <td>53.85</td>\n",
              "      <td>108.15</td>\n",
              "      <td>Yes</td>\n",
              "    </tr>\n",
              "    <tr>\n",
              "      <th>3</th>\n",
              "      <td>7795-CFOCW</td>\n",
              "      <td>Male</td>\n",
              "      <td>0</td>\n",
              "      <td>No</td>\n",
              "      <td>No</td>\n",
              "      <td>45</td>\n",
              "      <td>No</td>\n",
              "      <td>No phone service</td>\n",
              "      <td>DSL</td>\n",
              "      <td>Yes</td>\n",
              "      <td>No</td>\n",
              "      <td>Yes</td>\n",
              "      <td>Yes</td>\n",
              "      <td>No</td>\n",
              "      <td>No</td>\n",
              "      <td>One year</td>\n",
              "      <td>No</td>\n",
              "      <td>Bank transfer (automatic)</td>\n",
              "      <td>42.30</td>\n",
              "      <td>1840.75</td>\n",
              "      <td>No</td>\n",
              "    </tr>\n",
              "    <tr>\n",
              "      <th>4</th>\n",
              "      <td>9237-HQITU</td>\n",
              "      <td>Female</td>\n",
              "      <td>0</td>\n",
              "      <td>No</td>\n",
              "      <td>No</td>\n",
              "      <td>2</td>\n",
              "      <td>Yes</td>\n",
              "      <td>No</td>\n",
              "      <td>Fiber optic</td>\n",
              "      <td>No</td>\n",
              "      <td>No</td>\n",
              "      <td>No</td>\n",
              "      <td>No</td>\n",
              "      <td>No</td>\n",
              "      <td>No</td>\n",
              "      <td>Month-to-month</td>\n",
              "      <td>Yes</td>\n",
              "      <td>Electronic check</td>\n",
              "      <td>70.70</td>\n",
              "      <td>151.65</td>\n",
              "      <td>Yes</td>\n",
              "    </tr>\n",
              "  </tbody>\n",
              "</table>\n",
              "</div>\n",
              "      <button class=\"colab-df-convert\" onclick=\"convertToInteractive('df-818cb895-7956-4266-976b-1112e2492ea5')\"\n",
              "              title=\"Convert this dataframe to an interactive table.\"\n",
              "              style=\"display:none;\">\n",
              "        \n",
              "  <svg xmlns=\"http://www.w3.org/2000/svg\" height=\"24px\"viewBox=\"0 0 24 24\"\n",
              "       width=\"24px\">\n",
              "    <path d=\"M0 0h24v24H0V0z\" fill=\"none\"/>\n",
              "    <path d=\"M18.56 5.44l.94 2.06.94-2.06 2.06-.94-2.06-.94-.94-2.06-.94 2.06-2.06.94zm-11 1L8.5 8.5l.94-2.06 2.06-.94-2.06-.94L8.5 2.5l-.94 2.06-2.06.94zm10 10l.94 2.06.94-2.06 2.06-.94-2.06-.94-.94-2.06-.94 2.06-2.06.94z\"/><path d=\"M17.41 7.96l-1.37-1.37c-.4-.4-.92-.59-1.43-.59-.52 0-1.04.2-1.43.59L10.3 9.45l-7.72 7.72c-.78.78-.78 2.05 0 2.83L4 21.41c.39.39.9.59 1.41.59.51 0 1.02-.2 1.41-.59l7.78-7.78 2.81-2.81c.8-.78.8-2.07 0-2.86zM5.41 20L4 18.59l7.72-7.72 1.47 1.35L5.41 20z\"/>\n",
              "  </svg>\n",
              "      </button>\n",
              "      \n",
              "  <style>\n",
              "    .colab-df-container {\n",
              "      display:flex;\n",
              "      flex-wrap:wrap;\n",
              "      gap: 12px;\n",
              "    }\n",
              "\n",
              "    .colab-df-convert {\n",
              "      background-color: #E8F0FE;\n",
              "      border: none;\n",
              "      border-radius: 50%;\n",
              "      cursor: pointer;\n",
              "      display: none;\n",
              "      fill: #1967D2;\n",
              "      height: 32px;\n",
              "      padding: 0 0 0 0;\n",
              "      width: 32px;\n",
              "    }\n",
              "\n",
              "    .colab-df-convert:hover {\n",
              "      background-color: #E2EBFA;\n",
              "      box-shadow: 0px 1px 2px rgba(60, 64, 67, 0.3), 0px 1px 3px 1px rgba(60, 64, 67, 0.15);\n",
              "      fill: #174EA6;\n",
              "    }\n",
              "\n",
              "    [theme=dark] .colab-df-convert {\n",
              "      background-color: #3B4455;\n",
              "      fill: #D2E3FC;\n",
              "    }\n",
              "\n",
              "    [theme=dark] .colab-df-convert:hover {\n",
              "      background-color: #434B5C;\n",
              "      box-shadow: 0px 1px 3px 1px rgba(0, 0, 0, 0.15);\n",
              "      filter: drop-shadow(0px 1px 2px rgba(0, 0, 0, 0.3));\n",
              "      fill: #FFFFFF;\n",
              "    }\n",
              "  </style>\n",
              "\n",
              "      <script>\n",
              "        const buttonEl =\n",
              "          document.querySelector('#df-818cb895-7956-4266-976b-1112e2492ea5 button.colab-df-convert');\n",
              "        buttonEl.style.display =\n",
              "          google.colab.kernel.accessAllowed ? 'block' : 'none';\n",
              "\n",
              "        async function convertToInteractive(key) {\n",
              "          const element = document.querySelector('#df-818cb895-7956-4266-976b-1112e2492ea5');\n",
              "          const dataTable =\n",
              "            await google.colab.kernel.invokeFunction('convertToInteractive',\n",
              "                                                     [key], {});\n",
              "          if (!dataTable) return;\n",
              "\n",
              "          const docLinkHtml = 'Like what you see? Visit the ' +\n",
              "            '<a target=\"_blank\" href=https://colab.research.google.com/notebooks/data_table.ipynb>data table notebook</a>'\n",
              "            + ' to learn more about interactive tables.';\n",
              "          element.innerHTML = '';\n",
              "          dataTable['output_type'] = 'display_data';\n",
              "          await google.colab.output.renderOutput(dataTable, element);\n",
              "          const docLink = document.createElement('div');\n",
              "          docLink.innerHTML = docLinkHtml;\n",
              "          element.appendChild(docLink);\n",
              "        }\n",
              "      </script>\n",
              "    </div>\n",
              "  </div>\n",
              "  "
            ]
          },
          "metadata": {},
          "execution_count": 56
        }
      ]
    },
    {
      "cell_type": "code",
      "source": [
        "df.shape"
      ],
      "metadata": {
        "colab": {
          "base_uri": "https://localhost:8080/"
        },
        "id": "F3Ngq25i83ii",
        "outputId": "a6903ca1-f10d-4128-b8cc-c42edd090217"
      },
      "execution_count": null,
      "outputs": [
        {
          "output_type": "execute_result",
          "data": {
            "text/plain": [
              "(7043, 21)"
            ]
          },
          "metadata": {},
          "execution_count": 57
        }
      ]
    },
    {
      "cell_type": "code",
      "source": [
        "x=df.iloc[:,1:-1]\n",
        "y=df.iloc[:,-1]"
      ],
      "metadata": {
        "id": "UoMrglBu8-po"
      },
      "execution_count": null,
      "outputs": []
    },
    {
      "cell_type": "code",
      "source": [
        "all_obj_columns=x.dtypes[x.dtypes=='O'].index"
      ],
      "metadata": {
        "id": "Lo03o1Sx-Vzx"
      },
      "execution_count": null,
      "outputs": []
    },
    {
      "cell_type": "code",
      "source": [
        "x[all_obj_columns].nunique()"
      ],
      "metadata": {
        "colab": {
          "base_uri": "https://localhost:8080/"
        },
        "id": "ZS6TY7NC-ZLX",
        "outputId": "2cdc2456-ee6f-405a-c12a-0aa7e41c9c74"
      },
      "execution_count": null,
      "outputs": [
        {
          "output_type": "execute_result",
          "data": {
            "text/plain": [
              "gender                 2\n",
              "Partner                2\n",
              "Dependents             2\n",
              "PhoneService           2\n",
              "MultipleLines          3\n",
              "InternetService        3\n",
              "OnlineSecurity         3\n",
              "OnlineBackup           3\n",
              "DeviceProtection       3\n",
              "TechSupport            3\n",
              "StreamingTV            3\n",
              "StreamingMovies        3\n",
              "Contract               3\n",
              "PaperlessBilling       2\n",
              "PaymentMethod          4\n",
              "TotalCharges        6531\n",
              "dtype: int64"
            ]
          },
          "metadata": {},
          "execution_count": 60
        }
      ]
    },
    {
      "cell_type": "code",
      "source": [
        "x.TotalCharges=np.where(x.TotalCharges==' ',np.nan,x.TotalCharges)"
      ],
      "metadata": {
        "id": "xMoF3kldRtFD"
      },
      "execution_count": null,
      "outputs": []
    },
    {
      "cell_type": "code",
      "source": [],
      "metadata": {
        "id": "6uGVyjFkRfgx"
      },
      "execution_count": null,
      "outputs": []
    },
    {
      "cell_type": "code",
      "source": [
        "x['TotalCharges']=x.TotalCharges.astype('float32')"
      ],
      "metadata": {
        "id": "lbfnfOkB-84C"
      },
      "execution_count": null,
      "outputs": []
    },
    {
      "cell_type": "code",
      "source": [
        "x['TotalCharges'].fillna(np.mean(x.TotalCharges),inplace=True)"
      ],
      "metadata": {
        "id": "UVnOMNsi_Fqh"
      },
      "execution_count": null,
      "outputs": []
    },
    {
      "cell_type": "code",
      "source": [
        "x[all_obj_columns].head()"
      ],
      "metadata": {
        "colab": {
          "base_uri": "https://localhost:8080/",
          "height": 340
        },
        "id": "f-yfpjfy_Rrz",
        "outputId": "b27fc3ea-a8d7-467f-aac3-e21a406a84d0"
      },
      "execution_count": null,
      "outputs": [
        {
          "output_type": "execute_result",
          "data": {
            "text/plain": [
              "   gender Partner Dependents PhoneService     MultipleLines InternetService  \\\n",
              "0  Female     Yes         No           No  No phone service             DSL   \n",
              "1    Male      No         No          Yes                No             DSL   \n",
              "2    Male      No         No          Yes                No             DSL   \n",
              "3    Male      No         No           No  No phone service             DSL   \n",
              "4  Female      No         No          Yes                No     Fiber optic   \n",
              "\n",
              "  OnlineSecurity OnlineBackup DeviceProtection TechSupport StreamingTV  \\\n",
              "0             No          Yes               No          No          No   \n",
              "1            Yes           No              Yes          No          No   \n",
              "2            Yes          Yes               No          No          No   \n",
              "3            Yes           No              Yes         Yes          No   \n",
              "4             No           No               No          No          No   \n",
              "\n",
              "  StreamingMovies        Contract PaperlessBilling              PaymentMethod  \\\n",
              "0              No  Month-to-month              Yes           Electronic check   \n",
              "1              No        One year               No               Mailed check   \n",
              "2              No  Month-to-month              Yes               Mailed check   \n",
              "3              No        One year               No  Bank transfer (automatic)   \n",
              "4              No  Month-to-month              Yes           Electronic check   \n",
              "\n",
              "   TotalCharges  \n",
              "0     29.850000  \n",
              "1   1889.500000  \n",
              "2    108.150002  \n",
              "3   1840.750000  \n",
              "4    151.649994  "
            ],
            "text/html": [
              "\n",
              "  <div id=\"df-44842184-2338-4ef1-bb3c-33a62de98a80\">\n",
              "    <div class=\"colab-df-container\">\n",
              "      <div>\n",
              "<style scoped>\n",
              "    .dataframe tbody tr th:only-of-type {\n",
              "        vertical-align: middle;\n",
              "    }\n",
              "\n",
              "    .dataframe tbody tr th {\n",
              "        vertical-align: top;\n",
              "    }\n",
              "\n",
              "    .dataframe thead th {\n",
              "        text-align: right;\n",
              "    }\n",
              "</style>\n",
              "<table border=\"1\" class=\"dataframe\">\n",
              "  <thead>\n",
              "    <tr style=\"text-align: right;\">\n",
              "      <th></th>\n",
              "      <th>gender</th>\n",
              "      <th>Partner</th>\n",
              "      <th>Dependents</th>\n",
              "      <th>PhoneService</th>\n",
              "      <th>MultipleLines</th>\n",
              "      <th>InternetService</th>\n",
              "      <th>OnlineSecurity</th>\n",
              "      <th>OnlineBackup</th>\n",
              "      <th>DeviceProtection</th>\n",
              "      <th>TechSupport</th>\n",
              "      <th>StreamingTV</th>\n",
              "      <th>StreamingMovies</th>\n",
              "      <th>Contract</th>\n",
              "      <th>PaperlessBilling</th>\n",
              "      <th>PaymentMethod</th>\n",
              "      <th>TotalCharges</th>\n",
              "    </tr>\n",
              "  </thead>\n",
              "  <tbody>\n",
              "    <tr>\n",
              "      <th>0</th>\n",
              "      <td>Female</td>\n",
              "      <td>Yes</td>\n",
              "      <td>No</td>\n",
              "      <td>No</td>\n",
              "      <td>No phone service</td>\n",
              "      <td>DSL</td>\n",
              "      <td>No</td>\n",
              "      <td>Yes</td>\n",
              "      <td>No</td>\n",
              "      <td>No</td>\n",
              "      <td>No</td>\n",
              "      <td>No</td>\n",
              "      <td>Month-to-month</td>\n",
              "      <td>Yes</td>\n",
              "      <td>Electronic check</td>\n",
              "      <td>29.850000</td>\n",
              "    </tr>\n",
              "    <tr>\n",
              "      <th>1</th>\n",
              "      <td>Male</td>\n",
              "      <td>No</td>\n",
              "      <td>No</td>\n",
              "      <td>Yes</td>\n",
              "      <td>No</td>\n",
              "      <td>DSL</td>\n",
              "      <td>Yes</td>\n",
              "      <td>No</td>\n",
              "      <td>Yes</td>\n",
              "      <td>No</td>\n",
              "      <td>No</td>\n",
              "      <td>No</td>\n",
              "      <td>One year</td>\n",
              "      <td>No</td>\n",
              "      <td>Mailed check</td>\n",
              "      <td>1889.500000</td>\n",
              "    </tr>\n",
              "    <tr>\n",
              "      <th>2</th>\n",
              "      <td>Male</td>\n",
              "      <td>No</td>\n",
              "      <td>No</td>\n",
              "      <td>Yes</td>\n",
              "      <td>No</td>\n",
              "      <td>DSL</td>\n",
              "      <td>Yes</td>\n",
              "      <td>Yes</td>\n",
              "      <td>No</td>\n",
              "      <td>No</td>\n",
              "      <td>No</td>\n",
              "      <td>No</td>\n",
              "      <td>Month-to-month</td>\n",
              "      <td>Yes</td>\n",
              "      <td>Mailed check</td>\n",
              "      <td>108.150002</td>\n",
              "    </tr>\n",
              "    <tr>\n",
              "      <th>3</th>\n",
              "      <td>Male</td>\n",
              "      <td>No</td>\n",
              "      <td>No</td>\n",
              "      <td>No</td>\n",
              "      <td>No phone service</td>\n",
              "      <td>DSL</td>\n",
              "      <td>Yes</td>\n",
              "      <td>No</td>\n",
              "      <td>Yes</td>\n",
              "      <td>Yes</td>\n",
              "      <td>No</td>\n",
              "      <td>No</td>\n",
              "      <td>One year</td>\n",
              "      <td>No</td>\n",
              "      <td>Bank transfer (automatic)</td>\n",
              "      <td>1840.750000</td>\n",
              "    </tr>\n",
              "    <tr>\n",
              "      <th>4</th>\n",
              "      <td>Female</td>\n",
              "      <td>No</td>\n",
              "      <td>No</td>\n",
              "      <td>Yes</td>\n",
              "      <td>No</td>\n",
              "      <td>Fiber optic</td>\n",
              "      <td>No</td>\n",
              "      <td>No</td>\n",
              "      <td>No</td>\n",
              "      <td>No</td>\n",
              "      <td>No</td>\n",
              "      <td>No</td>\n",
              "      <td>Month-to-month</td>\n",
              "      <td>Yes</td>\n",
              "      <td>Electronic check</td>\n",
              "      <td>151.649994</td>\n",
              "    </tr>\n",
              "  </tbody>\n",
              "</table>\n",
              "</div>\n",
              "      <button class=\"colab-df-convert\" onclick=\"convertToInteractive('df-44842184-2338-4ef1-bb3c-33a62de98a80')\"\n",
              "              title=\"Convert this dataframe to an interactive table.\"\n",
              "              style=\"display:none;\">\n",
              "        \n",
              "  <svg xmlns=\"http://www.w3.org/2000/svg\" height=\"24px\"viewBox=\"0 0 24 24\"\n",
              "       width=\"24px\">\n",
              "    <path d=\"M0 0h24v24H0V0z\" fill=\"none\"/>\n",
              "    <path d=\"M18.56 5.44l.94 2.06.94-2.06 2.06-.94-2.06-.94-.94-2.06-.94 2.06-2.06.94zm-11 1L8.5 8.5l.94-2.06 2.06-.94-2.06-.94L8.5 2.5l-.94 2.06-2.06.94zm10 10l.94 2.06.94-2.06 2.06-.94-2.06-.94-.94-2.06-.94 2.06-2.06.94z\"/><path d=\"M17.41 7.96l-1.37-1.37c-.4-.4-.92-.59-1.43-.59-.52 0-1.04.2-1.43.59L10.3 9.45l-7.72 7.72c-.78.78-.78 2.05 0 2.83L4 21.41c.39.39.9.59 1.41.59.51 0 1.02-.2 1.41-.59l7.78-7.78 2.81-2.81c.8-.78.8-2.07 0-2.86zM5.41 20L4 18.59l7.72-7.72 1.47 1.35L5.41 20z\"/>\n",
              "  </svg>\n",
              "      </button>\n",
              "      \n",
              "  <style>\n",
              "    .colab-df-container {\n",
              "      display:flex;\n",
              "      flex-wrap:wrap;\n",
              "      gap: 12px;\n",
              "    }\n",
              "\n",
              "    .colab-df-convert {\n",
              "      background-color: #E8F0FE;\n",
              "      border: none;\n",
              "      border-radius: 50%;\n",
              "      cursor: pointer;\n",
              "      display: none;\n",
              "      fill: #1967D2;\n",
              "      height: 32px;\n",
              "      padding: 0 0 0 0;\n",
              "      width: 32px;\n",
              "    }\n",
              "\n",
              "    .colab-df-convert:hover {\n",
              "      background-color: #E2EBFA;\n",
              "      box-shadow: 0px 1px 2px rgba(60, 64, 67, 0.3), 0px 1px 3px 1px rgba(60, 64, 67, 0.15);\n",
              "      fill: #174EA6;\n",
              "    }\n",
              "\n",
              "    [theme=dark] .colab-df-convert {\n",
              "      background-color: #3B4455;\n",
              "      fill: #D2E3FC;\n",
              "    }\n",
              "\n",
              "    [theme=dark] .colab-df-convert:hover {\n",
              "      background-color: #434B5C;\n",
              "      box-shadow: 0px 1px 3px 1px rgba(0, 0, 0, 0.15);\n",
              "      filter: drop-shadow(0px 1px 2px rgba(0, 0, 0, 0.3));\n",
              "      fill: #FFFFFF;\n",
              "    }\n",
              "  </style>\n",
              "\n",
              "      <script>\n",
              "        const buttonEl =\n",
              "          document.querySelector('#df-44842184-2338-4ef1-bb3c-33a62de98a80 button.colab-df-convert');\n",
              "        buttonEl.style.display =\n",
              "          google.colab.kernel.accessAllowed ? 'block' : 'none';\n",
              "\n",
              "        async function convertToInteractive(key) {\n",
              "          const element = document.querySelector('#df-44842184-2338-4ef1-bb3c-33a62de98a80');\n",
              "          const dataTable =\n",
              "            await google.colab.kernel.invokeFunction('convertToInteractive',\n",
              "                                                     [key], {});\n",
              "          if (!dataTable) return;\n",
              "\n",
              "          const docLinkHtml = 'Like what you see? Visit the ' +\n",
              "            '<a target=\"_blank\" href=https://colab.research.google.com/notebooks/data_table.ipynb>data table notebook</a>'\n",
              "            + ' to learn more about interactive tables.';\n",
              "          element.innerHTML = '';\n",
              "          dataTable['output_type'] = 'display_data';\n",
              "          await google.colab.output.renderOutput(dataTable, element);\n",
              "          const docLink = document.createElement('div');\n",
              "          docLink.innerHTML = docLinkHtml;\n",
              "          element.appendChild(docLink);\n",
              "        }\n",
              "      </script>\n",
              "    </div>\n",
              "  </div>\n",
              "  "
            ]
          },
          "metadata": {},
          "execution_count": 64
        }
      ]
    },
    {
      "cell_type": "code",
      "source": [
        "for col in all_obj_columns:\n",
        "  uniques=x[col].unique()\n",
        "  x[col]=x[col].map({ key:val for key,val in zip(uniques,range(1,len(uniques)+1))  })"
      ],
      "metadata": {
        "id": "6BwUBIke_pX1"
      },
      "execution_count": null,
      "outputs": []
    },
    {
      "cell_type": "code",
      "source": [
        "x.head(1)"
      ],
      "metadata": {
        "colab": {
          "base_uri": "https://localhost:8080/",
          "height": 145
        },
        "id": "X58ffFRGBo-Z",
        "outputId": "a7017cab-28f1-456c-ae0f-f14c359d451d"
      },
      "execution_count": null,
      "outputs": [
        {
          "output_type": "execute_result",
          "data": {
            "text/plain": [
              "   gender  SeniorCitizen  Partner  Dependents  tenure  PhoneService  \\\n",
              "0       1              0        1           1       1             1   \n",
              "\n",
              "   MultipleLines  InternetService  OnlineSecurity  OnlineBackup  \\\n",
              "0              1                1               1             1   \n",
              "\n",
              "   DeviceProtection  TechSupport  StreamingTV  StreamingMovies  Contract  \\\n",
              "0                 1            1            1                1         1   \n",
              "\n",
              "   PaperlessBilling  PaymentMethod  MonthlyCharges  TotalCharges  \n",
              "0                 1              1           29.85             1  "
            ],
            "text/html": [
              "\n",
              "  <div id=\"df-e1bf9e90-a4b5-4e67-9268-0e37d118fc7d\">\n",
              "    <div class=\"colab-df-container\">\n",
              "      <div>\n",
              "<style scoped>\n",
              "    .dataframe tbody tr th:only-of-type {\n",
              "        vertical-align: middle;\n",
              "    }\n",
              "\n",
              "    .dataframe tbody tr th {\n",
              "        vertical-align: top;\n",
              "    }\n",
              "\n",
              "    .dataframe thead th {\n",
              "        text-align: right;\n",
              "    }\n",
              "</style>\n",
              "<table border=\"1\" class=\"dataframe\">\n",
              "  <thead>\n",
              "    <tr style=\"text-align: right;\">\n",
              "      <th></th>\n",
              "      <th>gender</th>\n",
              "      <th>SeniorCitizen</th>\n",
              "      <th>Partner</th>\n",
              "      <th>Dependents</th>\n",
              "      <th>tenure</th>\n",
              "      <th>PhoneService</th>\n",
              "      <th>MultipleLines</th>\n",
              "      <th>InternetService</th>\n",
              "      <th>OnlineSecurity</th>\n",
              "      <th>OnlineBackup</th>\n",
              "      <th>DeviceProtection</th>\n",
              "      <th>TechSupport</th>\n",
              "      <th>StreamingTV</th>\n",
              "      <th>StreamingMovies</th>\n",
              "      <th>Contract</th>\n",
              "      <th>PaperlessBilling</th>\n",
              "      <th>PaymentMethod</th>\n",
              "      <th>MonthlyCharges</th>\n",
              "      <th>TotalCharges</th>\n",
              "    </tr>\n",
              "  </thead>\n",
              "  <tbody>\n",
              "    <tr>\n",
              "      <th>0</th>\n",
              "      <td>1</td>\n",
              "      <td>0</td>\n",
              "      <td>1</td>\n",
              "      <td>1</td>\n",
              "      <td>1</td>\n",
              "      <td>1</td>\n",
              "      <td>1</td>\n",
              "      <td>1</td>\n",
              "      <td>1</td>\n",
              "      <td>1</td>\n",
              "      <td>1</td>\n",
              "      <td>1</td>\n",
              "      <td>1</td>\n",
              "      <td>1</td>\n",
              "      <td>1</td>\n",
              "      <td>1</td>\n",
              "      <td>1</td>\n",
              "      <td>29.85</td>\n",
              "      <td>1</td>\n",
              "    </tr>\n",
              "  </tbody>\n",
              "</table>\n",
              "</div>\n",
              "      <button class=\"colab-df-convert\" onclick=\"convertToInteractive('df-e1bf9e90-a4b5-4e67-9268-0e37d118fc7d')\"\n",
              "              title=\"Convert this dataframe to an interactive table.\"\n",
              "              style=\"display:none;\">\n",
              "        \n",
              "  <svg xmlns=\"http://www.w3.org/2000/svg\" height=\"24px\"viewBox=\"0 0 24 24\"\n",
              "       width=\"24px\">\n",
              "    <path d=\"M0 0h24v24H0V0z\" fill=\"none\"/>\n",
              "    <path d=\"M18.56 5.44l.94 2.06.94-2.06 2.06-.94-2.06-.94-.94-2.06-.94 2.06-2.06.94zm-11 1L8.5 8.5l.94-2.06 2.06-.94-2.06-.94L8.5 2.5l-.94 2.06-2.06.94zm10 10l.94 2.06.94-2.06 2.06-.94-2.06-.94-.94-2.06-.94 2.06-2.06.94z\"/><path d=\"M17.41 7.96l-1.37-1.37c-.4-.4-.92-.59-1.43-.59-.52 0-1.04.2-1.43.59L10.3 9.45l-7.72 7.72c-.78.78-.78 2.05 0 2.83L4 21.41c.39.39.9.59 1.41.59.51 0 1.02-.2 1.41-.59l7.78-7.78 2.81-2.81c.8-.78.8-2.07 0-2.86zM5.41 20L4 18.59l7.72-7.72 1.47 1.35L5.41 20z\"/>\n",
              "  </svg>\n",
              "      </button>\n",
              "      \n",
              "  <style>\n",
              "    .colab-df-container {\n",
              "      display:flex;\n",
              "      flex-wrap:wrap;\n",
              "      gap: 12px;\n",
              "    }\n",
              "\n",
              "    .colab-df-convert {\n",
              "      background-color: #E8F0FE;\n",
              "      border: none;\n",
              "      border-radius: 50%;\n",
              "      cursor: pointer;\n",
              "      display: none;\n",
              "      fill: #1967D2;\n",
              "      height: 32px;\n",
              "      padding: 0 0 0 0;\n",
              "      width: 32px;\n",
              "    }\n",
              "\n",
              "    .colab-df-convert:hover {\n",
              "      background-color: #E2EBFA;\n",
              "      box-shadow: 0px 1px 2px rgba(60, 64, 67, 0.3), 0px 1px 3px 1px rgba(60, 64, 67, 0.15);\n",
              "      fill: #174EA6;\n",
              "    }\n",
              "\n",
              "    [theme=dark] .colab-df-convert {\n",
              "      background-color: #3B4455;\n",
              "      fill: #D2E3FC;\n",
              "    }\n",
              "\n",
              "    [theme=dark] .colab-df-convert:hover {\n",
              "      background-color: #434B5C;\n",
              "      box-shadow: 0px 1px 3px 1px rgba(0, 0, 0, 0.15);\n",
              "      filter: drop-shadow(0px 1px 2px rgba(0, 0, 0, 0.3));\n",
              "      fill: #FFFFFF;\n",
              "    }\n",
              "  </style>\n",
              "\n",
              "      <script>\n",
              "        const buttonEl =\n",
              "          document.querySelector('#df-e1bf9e90-a4b5-4e67-9268-0e37d118fc7d button.colab-df-convert');\n",
              "        buttonEl.style.display =\n",
              "          google.colab.kernel.accessAllowed ? 'block' : 'none';\n",
              "\n",
              "        async function convertToInteractive(key) {\n",
              "          const element = document.querySelector('#df-e1bf9e90-a4b5-4e67-9268-0e37d118fc7d');\n",
              "          const dataTable =\n",
              "            await google.colab.kernel.invokeFunction('convertToInteractive',\n",
              "                                                     [key], {});\n",
              "          if (!dataTable) return;\n",
              "\n",
              "          const docLinkHtml = 'Like what you see? Visit the ' +\n",
              "            '<a target=\"_blank\" href=https://colab.research.google.com/notebooks/data_table.ipynb>data table notebook</a>'\n",
              "            + ' to learn more about interactive tables.';\n",
              "          element.innerHTML = '';\n",
              "          dataTable['output_type'] = 'display_data';\n",
              "          await google.colab.output.renderOutput(dataTable, element);\n",
              "          const docLink = document.createElement('div');\n",
              "          docLink.innerHTML = docLinkHtml;\n",
              "          element.appendChild(docLink);\n",
              "        }\n",
              "      </script>\n",
              "    </div>\n",
              "  </div>\n",
              "  "
            ]
          },
          "metadata": {},
          "execution_count": 66
        }
      ]
    },
    {
      "cell_type": "code",
      "source": [
        "x_train,x_test,y_train,y_test=train_test_split(x,y,test_size=0.2,random_state=100)"
      ],
      "metadata": {
        "id": "aJojb13uBw8F"
      },
      "execution_count": null,
      "outputs": []
    },
    {
      "cell_type": "code",
      "source": [
        "x_train.head(1)\n",
        "y_train=y_train.map( {'Yes':0,'No':1} )\n",
        "y_test=y_test.map( {'Yes':0,'No':1} )"
      ],
      "metadata": {
        "colab": {
          "base_uri": "https://localhost:8080/",
          "height": 145
        },
        "id": "uNaXTs3wCgEA",
        "outputId": "4145cf00-b892-42cd-de0b-dc53ce2693a7"
      },
      "execution_count": null,
      "outputs": [
        {
          "output_type": "execute_result",
          "data": {
            "text/plain": [
              "      gender  SeniorCitizen  Partner  Dependents  tenure  PhoneService  \\\n",
              "5066       2              0        1           1      44             1   \n",
              "\n",
              "      MultipleLines  InternetService  OnlineSecurity  OnlineBackup  \\\n",
              "5066              1                1               1             1   \n",
              "\n",
              "      DeviceProtection  TechSupport  StreamingTV  StreamingMovies  Contract  \\\n",
              "5066                 2            1            2                2         3   \n",
              "\n",
              "      PaperlessBilling  PaymentMethod  MonthlyCharges  TotalCharges  \n",
              "5066                 2              3            54.3          4772  "
            ],
            "text/html": [
              "\n",
              "  <div id=\"df-24e179ac-03b4-4aad-8749-657c7ad9a25e\">\n",
              "    <div class=\"colab-df-container\">\n",
              "      <div>\n",
              "<style scoped>\n",
              "    .dataframe tbody tr th:only-of-type {\n",
              "        vertical-align: middle;\n",
              "    }\n",
              "\n",
              "    .dataframe tbody tr th {\n",
              "        vertical-align: top;\n",
              "    }\n",
              "\n",
              "    .dataframe thead th {\n",
              "        text-align: right;\n",
              "    }\n",
              "</style>\n",
              "<table border=\"1\" class=\"dataframe\">\n",
              "  <thead>\n",
              "    <tr style=\"text-align: right;\">\n",
              "      <th></th>\n",
              "      <th>gender</th>\n",
              "      <th>SeniorCitizen</th>\n",
              "      <th>Partner</th>\n",
              "      <th>Dependents</th>\n",
              "      <th>tenure</th>\n",
              "      <th>PhoneService</th>\n",
              "      <th>MultipleLines</th>\n",
              "      <th>InternetService</th>\n",
              "      <th>OnlineSecurity</th>\n",
              "      <th>OnlineBackup</th>\n",
              "      <th>DeviceProtection</th>\n",
              "      <th>TechSupport</th>\n",
              "      <th>StreamingTV</th>\n",
              "      <th>StreamingMovies</th>\n",
              "      <th>Contract</th>\n",
              "      <th>PaperlessBilling</th>\n",
              "      <th>PaymentMethod</th>\n",
              "      <th>MonthlyCharges</th>\n",
              "      <th>TotalCharges</th>\n",
              "    </tr>\n",
              "  </thead>\n",
              "  <tbody>\n",
              "    <tr>\n",
              "      <th>5066</th>\n",
              "      <td>2</td>\n",
              "      <td>0</td>\n",
              "      <td>1</td>\n",
              "      <td>1</td>\n",
              "      <td>44</td>\n",
              "      <td>1</td>\n",
              "      <td>1</td>\n",
              "      <td>1</td>\n",
              "      <td>1</td>\n",
              "      <td>1</td>\n",
              "      <td>2</td>\n",
              "      <td>1</td>\n",
              "      <td>2</td>\n",
              "      <td>2</td>\n",
              "      <td>3</td>\n",
              "      <td>2</td>\n",
              "      <td>3</td>\n",
              "      <td>54.3</td>\n",
              "      <td>4772</td>\n",
              "    </tr>\n",
              "  </tbody>\n",
              "</table>\n",
              "</div>\n",
              "      <button class=\"colab-df-convert\" onclick=\"convertToInteractive('df-24e179ac-03b4-4aad-8749-657c7ad9a25e')\"\n",
              "              title=\"Convert this dataframe to an interactive table.\"\n",
              "              style=\"display:none;\">\n",
              "        \n",
              "  <svg xmlns=\"http://www.w3.org/2000/svg\" height=\"24px\"viewBox=\"0 0 24 24\"\n",
              "       width=\"24px\">\n",
              "    <path d=\"M0 0h24v24H0V0z\" fill=\"none\"/>\n",
              "    <path d=\"M18.56 5.44l.94 2.06.94-2.06 2.06-.94-2.06-.94-.94-2.06-.94 2.06-2.06.94zm-11 1L8.5 8.5l.94-2.06 2.06-.94-2.06-.94L8.5 2.5l-.94 2.06-2.06.94zm10 10l.94 2.06.94-2.06 2.06-.94-2.06-.94-.94-2.06-.94 2.06-2.06.94z\"/><path d=\"M17.41 7.96l-1.37-1.37c-.4-.4-.92-.59-1.43-.59-.52 0-1.04.2-1.43.59L10.3 9.45l-7.72 7.72c-.78.78-.78 2.05 0 2.83L4 21.41c.39.39.9.59 1.41.59.51 0 1.02-.2 1.41-.59l7.78-7.78 2.81-2.81c.8-.78.8-2.07 0-2.86zM5.41 20L4 18.59l7.72-7.72 1.47 1.35L5.41 20z\"/>\n",
              "  </svg>\n",
              "      </button>\n",
              "      \n",
              "  <style>\n",
              "    .colab-df-container {\n",
              "      display:flex;\n",
              "      flex-wrap:wrap;\n",
              "      gap: 12px;\n",
              "    }\n",
              "\n",
              "    .colab-df-convert {\n",
              "      background-color: #E8F0FE;\n",
              "      border: none;\n",
              "      border-radius: 50%;\n",
              "      cursor: pointer;\n",
              "      display: none;\n",
              "      fill: #1967D2;\n",
              "      height: 32px;\n",
              "      padding: 0 0 0 0;\n",
              "      width: 32px;\n",
              "    }\n",
              "\n",
              "    .colab-df-convert:hover {\n",
              "      background-color: #E2EBFA;\n",
              "      box-shadow: 0px 1px 2px rgba(60, 64, 67, 0.3), 0px 1px 3px 1px rgba(60, 64, 67, 0.15);\n",
              "      fill: #174EA6;\n",
              "    }\n",
              "\n",
              "    [theme=dark] .colab-df-convert {\n",
              "      background-color: #3B4455;\n",
              "      fill: #D2E3FC;\n",
              "    }\n",
              "\n",
              "    [theme=dark] .colab-df-convert:hover {\n",
              "      background-color: #434B5C;\n",
              "      box-shadow: 0px 1px 3px 1px rgba(0, 0, 0, 0.15);\n",
              "      filter: drop-shadow(0px 1px 2px rgba(0, 0, 0, 0.3));\n",
              "      fill: #FFFFFF;\n",
              "    }\n",
              "  </style>\n",
              "\n",
              "      <script>\n",
              "        const buttonEl =\n",
              "          document.querySelector('#df-24e179ac-03b4-4aad-8749-657c7ad9a25e button.colab-df-convert');\n",
              "        buttonEl.style.display =\n",
              "          google.colab.kernel.accessAllowed ? 'block' : 'none';\n",
              "\n",
              "        async function convertToInteractive(key) {\n",
              "          const element = document.querySelector('#df-24e179ac-03b4-4aad-8749-657c7ad9a25e');\n",
              "          const dataTable =\n",
              "            await google.colab.kernel.invokeFunction('convertToInteractive',\n",
              "                                                     [key], {});\n",
              "          if (!dataTable) return;\n",
              "\n",
              "          const docLinkHtml = 'Like what you see? Visit the ' +\n",
              "            '<a target=\"_blank\" href=https://colab.research.google.com/notebooks/data_table.ipynb>data table notebook</a>'\n",
              "            + ' to learn more about interactive tables.';\n",
              "          element.innerHTML = '';\n",
              "          dataTable['output_type'] = 'display_data';\n",
              "          await google.colab.output.renderOutput(dataTable, element);\n",
              "          const docLink = document.createElement('div');\n",
              "          docLink.innerHTML = docLinkHtml;\n",
              "          element.appendChild(docLink);\n",
              "        }\n",
              "      </script>\n",
              "    </div>\n",
              "  </div>\n",
              "  "
            ]
          },
          "metadata": {},
          "execution_count": 68
        }
      ]
    },
    {
      "cell_type": "code",
      "source": [
        "scaler=StandardScaler()\n",
        "x_train=scaler.fit_transform(x_train)"
      ],
      "metadata": {
        "id": "r2xLgjlICiwV"
      },
      "execution_count": null,
      "outputs": []
    },
    {
      "cell_type": "code",
      "source": [
        "x_test=scaler.transform(x_test)"
      ],
      "metadata": {
        "id": "CpIOnFBHDfSL"
      },
      "execution_count": null,
      "outputs": []
    },
    {
      "cell_type": "code",
      "source": [
        "\n",
        "from tensorflow.keras.models import Sequential\n",
        "from tensorflow.keras.layers import Dense\n",
        "from tensorflow.keras.layers import LeakyReLU,ReLU,PReLU,ELU\n",
        "from tensorflow.keras.layers import Dropout\n"
      ],
      "metadata": {
        "id": "Txo_dQE1DjNA"
      },
      "execution_count": null,
      "outputs": []
    },
    {
      "cell_type": "code",
      "source": [
        "x_train.shape[1]"
      ],
      "metadata": {
        "colab": {
          "base_uri": "https://localhost:8080/"
        },
        "id": "OormyVrhI-Ft",
        "outputId": "04739ca1-165b-442f-8517-21174cf5a073"
      },
      "execution_count": null,
      "outputs": [
        {
          "output_type": "execute_result",
          "data": {
            "text/plain": [
              "19"
            ]
          },
          "metadata": {},
          "execution_count": 72
        }
      ]
    },
    {
      "cell_type": "code",
      "source": [
        "classifier=Sequential()\n",
        "classifier.add(tf.keras.Input(shape=(x_train.shape[1],)))\n",
        "classifier.add(Dense(units= 36,activation='relu'    ))\n",
        "classifier.add(Dropout(0.2))\n",
        "classifier.add(Dense( units= 18,activation='relu'     ))\n",
        "classifier.add(Dropout(0.2))\n",
        "classifier.add(Dense( units= 8,activation='relu'     ))\n",
        "classifier.add( Dense(  units= 1,activation='sigmoid'   ))"
      ],
      "metadata": {
        "id": "7XHbtfMLDmFF"
      },
      "execution_count": null,
      "outputs": []
    },
    {
      "cell_type": "code",
      "source": [
        "classifier.build()"
      ],
      "metadata": {
        "id": "cQz6RZtbMNyj"
      },
      "execution_count": null,
      "outputs": []
    },
    {
      "cell_type": "code",
      "source": [
        "classifier.summary()"
      ],
      "metadata": {
        "colab": {
          "base_uri": "https://localhost:8080/"
        },
        "id": "lWEQ7RZrMQ-J",
        "outputId": "1a464c28-4646-4d28-91f4-580c8f7d739f"
      },
      "execution_count": null,
      "outputs": [
        {
          "output_type": "stream",
          "name": "stdout",
          "text": [
            "Model: \"sequential_2\"\n",
            "_________________________________________________________________\n",
            " Layer (type)                Output Shape              Param #   \n",
            "=================================================================\n",
            " dense_8 (Dense)             (None, 36)                720       \n",
            "                                                                 \n",
            " dropout_4 (Dropout)         (None, 36)                0         \n",
            "                                                                 \n",
            " dense_9 (Dense)             (None, 18)                666       \n",
            "                                                                 \n",
            " dropout_5 (Dropout)         (None, 18)                0         \n",
            "                                                                 \n",
            " dense_10 (Dense)            (None, 8)                 152       \n",
            "                                                                 \n",
            " dense_11 (Dense)            (None, 1)                 9         \n",
            "                                                                 \n",
            "=================================================================\n",
            "Total params: 1,547\n",
            "Trainable params: 1,547\n",
            "Non-trainable params: 0\n",
            "_________________________________________________________________\n"
          ]
        }
      ]
    },
    {
      "cell_type": "code",
      "source": [
        "optimizer=tf.keras.optimizers.Adam(learning_rate=0.01)\n",
        "loss=tf.keras.losses.BinaryCrossentropy()\n",
        "classifier.compile(optimizer=optimizer,loss=loss,metrics=['accuracy'])"
      ],
      "metadata": {
        "id": "R9hiTclZMkl-"
      },
      "execution_count": null,
      "outputs": []
    },
    {
      "cell_type": "code",
      "source": [
        "early_stopping=tf.keras.callbacks.EarlyStopping(\n",
        "    monitor='val_loss',\n",
        "    min_delta=0.0005,\n",
        "    patience=10)"
      ],
      "metadata": {
        "id": "lAjNMZg3NCLn"
      },
      "execution_count": null,
      "outputs": []
    },
    {
      "cell_type": "code",
      "source": [
        "from keras import callbacks\n",
        "model_history=classifier.fit(\n",
        "    x=x_train,y=y_train,\n",
        "    validation_split=0.2,\n",
        "    batch_size=100,\n",
        "    epochs=100,\n",
        "    callbacks=early_stopping\n",
        ")"
      ],
      "metadata": {
        "colab": {
          "base_uri": "https://localhost:8080/"
        },
        "id": "W7pVuNc2NJ9F",
        "outputId": "8e08b472-32d0-4697-f358-a95230513f83"
      },
      "execution_count": null,
      "outputs": [
        {
          "output_type": "stream",
          "name": "stdout",
          "text": [
            "Epoch 1/100\n",
            "46/46 [==============================] - 0s 7ms/step - loss: 0.4144 - accuracy: 0.8136 - val_loss: 0.4090 - val_accuracy: 0.8083\n",
            "Epoch 2/100\n",
            "46/46 [==============================] - 0s 5ms/step - loss: 0.4159 - accuracy: 0.8132 - val_loss: 0.4008 - val_accuracy: 0.8128\n",
            "Epoch 3/100\n",
            "46/46 [==============================] - 0s 5ms/step - loss: 0.4135 - accuracy: 0.8116 - val_loss: 0.3983 - val_accuracy: 0.8128\n",
            "Epoch 4/100\n",
            "46/46 [==============================] - 0s 5ms/step - loss: 0.4168 - accuracy: 0.8156 - val_loss: 0.4099 - val_accuracy: 0.8012\n",
            "Epoch 5/100\n",
            "46/46 [==============================] - 0s 5ms/step - loss: 0.4157 - accuracy: 0.8083 - val_loss: 0.4013 - val_accuracy: 0.8075\n",
            "Epoch 6/100\n",
            "46/46 [==============================] - 0s 6ms/step - loss: 0.4114 - accuracy: 0.8141 - val_loss: 0.4012 - val_accuracy: 0.8092\n",
            "Epoch 7/100\n",
            "46/46 [==============================] - 0s 5ms/step - loss: 0.4168 - accuracy: 0.8063 - val_loss: 0.4035 - val_accuracy: 0.8048\n",
            "Epoch 8/100\n",
            "46/46 [==============================] - 0s 4ms/step - loss: 0.4124 - accuracy: 0.8132 - val_loss: 0.4014 - val_accuracy: 0.8075\n",
            "Epoch 9/100\n",
            "46/46 [==============================] - 0s 5ms/step - loss: 0.4085 - accuracy: 0.8194 - val_loss: 0.4104 - val_accuracy: 0.8075\n",
            "Epoch 10/100\n",
            "46/46 [==============================] - 0s 5ms/step - loss: 0.4054 - accuracy: 0.8185 - val_loss: 0.4020 - val_accuracy: 0.8110\n",
            "Epoch 11/100\n",
            "46/46 [==============================] - 0s 5ms/step - loss: 0.4069 - accuracy: 0.8141 - val_loss: 0.4055 - val_accuracy: 0.8092\n",
            "Epoch 12/100\n",
            "46/46 [==============================] - 0s 6ms/step - loss: 0.4068 - accuracy: 0.8176 - val_loss: 0.4063 - val_accuracy: 0.8092\n",
            "Epoch 13/100\n",
            "46/46 [==============================] - 0s 5ms/step - loss: 0.4040 - accuracy: 0.8203 - val_loss: 0.4064 - val_accuracy: 0.8101\n"
          ]
        }
      ]
    },
    {
      "cell_type": "code",
      "source": [
        "### no of iteration per one epochs\n",
        "int(x_train.shape[0]*0.8)/100"
      ],
      "metadata": {
        "colab": {
          "base_uri": "https://localhost:8080/"
        },
        "id": "qZ36BGTBYIGH",
        "outputId": "b7207db2-dc27-4caa-f9b2-e339486b50d7"
      },
      "execution_count": null,
      "outputs": [
        {
          "output_type": "execute_result",
          "data": {
            "text/plain": [
              "45.07"
            ]
          },
          "metadata": {},
          "execution_count": 141
        }
      ]
    },
    {
      "cell_type": "code",
      "source": [
        "model_history.history"
      ],
      "metadata": {
        "colab": {
          "base_uri": "https://localhost:8080/"
        },
        "id": "c1oS39wvaXk_",
        "outputId": "04109e3f-39bc-49ba-f5dc-79ef5a37c437"
      },
      "execution_count": null,
      "outputs": [
        {
          "output_type": "execute_result",
          "data": {
            "text/plain": [
              "{'loss': [0.4143568277359009,\n",
              "  0.41585102677345276,\n",
              "  0.41351354122161865,\n",
              "  0.4167943000793457,\n",
              "  0.41568723320961,\n",
              "  0.41142770648002625,\n",
              "  0.41679707169532776,\n",
              "  0.4124204218387604,\n",
              "  0.4085334539413452,\n",
              "  0.40541744232177734,\n",
              "  0.4068591296672821,\n",
              "  0.4067654311656952,\n",
              "  0.40399765968322754],\n",
              " 'accuracy': [0.8136232495307922,\n",
              "  0.8131794929504395,\n",
              "  0.8116263747215271,\n",
              "  0.8156201243400574,\n",
              "  0.8082982301712036,\n",
              "  0.814067006111145,\n",
              "  0.8063012957572937,\n",
              "  0.8131794929504395,\n",
              "  0.8193920850753784,\n",
              "  0.8185045719146729,\n",
              "  0.814067006111145,\n",
              "  0.8176170587539673,\n",
              "  0.8202795386314392],\n",
              " 'val_loss': [0.4089720547199249,\n",
              "  0.40079256892204285,\n",
              "  0.3982838988304138,\n",
              "  0.4099147915840149,\n",
              "  0.4013102352619171,\n",
              "  0.40120309591293335,\n",
              "  0.403473824262619,\n",
              "  0.40142813324928284,\n",
              "  0.4103853404521942,\n",
              "  0.4020218551158905,\n",
              "  0.4055309295654297,\n",
              "  0.40625691413879395,\n",
              "  0.40640732645988464],\n",
              " 'val_accuracy': [0.8083407282829285,\n",
              "  0.8127772808074951,\n",
              "  0.8127772808074951,\n",
              "  0.8012422323226929,\n",
              "  0.8074533939361572,\n",
              "  0.8092280626296997,\n",
              "  0.8047915101051331,\n",
              "  0.8074533939361572,\n",
              "  0.8074533939361572,\n",
              "  0.8110026717185974,\n",
              "  0.8092280626296997,\n",
              "  0.8092280626296997,\n",
              "  0.8101153373718262]}"
            ]
          },
          "metadata": {},
          "execution_count": 142
        }
      ]
    },
    {
      "cell_type": "code",
      "source": [
        "all_weights=classifier.get_weights()[0]"
      ],
      "metadata": {
        "id": "vAEaWfsXa7_Z"
      },
      "execution_count": null,
      "outputs": []
    },
    {
      "cell_type": "code",
      "source": [
        "len(all_weights)"
      ],
      "metadata": {
        "colab": {
          "base_uri": "https://localhost:8080/"
        },
        "id": "5L-283ribPhF",
        "outputId": "bd520f12-5b8c-4c5c-a5ef-0fc597bd3746"
      },
      "execution_count": null,
      "outputs": [
        {
          "output_type": "execute_result",
          "data": {
            "text/plain": [
              "19"
            ]
          },
          "metadata": {},
          "execution_count": 144
        }
      ]
    },
    {
      "cell_type": "code",
      "source": [
        "classifier.summary()"
      ],
      "metadata": {
        "colab": {
          "base_uri": "https://localhost:8080/"
        },
        "id": "dGnSyYe0dBpw",
        "outputId": "34053b3d-d16c-4640-bb1b-a0cd282042c5"
      },
      "execution_count": null,
      "outputs": [
        {
          "output_type": "stream",
          "name": "stdout",
          "text": [
            "Model: \"sequential_2\"\n",
            "_________________________________________________________________\n",
            " Layer (type)                Output Shape              Param #   \n",
            "=================================================================\n",
            " dense_8 (Dense)             (None, 36)                720       \n",
            "                                                                 \n",
            " dropout_4 (Dropout)         (None, 36)                0         \n",
            "                                                                 \n",
            " dense_9 (Dense)             (None, 18)                666       \n",
            "                                                                 \n",
            " dropout_5 (Dropout)         (None, 18)                0         \n",
            "                                                                 \n",
            " dense_10 (Dense)            (None, 8)                 152       \n",
            "                                                                 \n",
            " dense_11 (Dense)            (None, 1)                 9         \n",
            "                                                                 \n",
            "=================================================================\n",
            "Total params: 1,547\n",
            "Trainable params: 1,547\n",
            "Non-trainable params: 0\n",
            "_________________________________________________________________\n"
          ]
        }
      ]
    },
    {
      "cell_type": "code",
      "source": [
        "len(classifier.get_weights()[1])"
      ],
      "metadata": {
        "colab": {
          "base_uri": "https://localhost:8080/"
        },
        "id": "7K1wE1rPbXo6",
        "outputId": "1e3b4f82-ed62-4e60-c8af-cae89c877c29"
      },
      "execution_count": null,
      "outputs": [
        {
          "output_type": "execute_result",
          "data": {
            "text/plain": [
              "36"
            ]
          },
          "metadata": {},
          "execution_count": 146
        }
      ]
    },
    {
      "cell_type": "code",
      "source": [
        "plt.plot(model_history.history['accuracy'])\n",
        "plt.plot(model_history.history['val_accuracy'])\n",
        "plt.legend(['train','test'])"
      ],
      "metadata": {
        "colab": {
          "base_uri": "https://localhost:8080/",
          "height": 447
        },
        "id": "fTVGCHSbbd1_",
        "outputId": "4bc7ff80-fda3-4591-917a-905379bb525a"
      },
      "execution_count": null,
      "outputs": [
        {
          "output_type": "execute_result",
          "data": {
            "text/plain": [
              "<matplotlib.legend.Legend at 0x7f10eece3610>"
            ]
          },
          "metadata": {},
          "execution_count": 147
        },
        {
          "output_type": "display_data",
          "data": {
            "text/plain": [
              "<Figure size 640x480 with 1 Axes>"
            ],
            "image/png": "[encoded data removed]"
          },
          "metadata": {}
        }
      ]
    },
    {
      "cell_type": "code",
      "source": [
        "from sklearn.metrics import accuracy_score\n",
        "accuracy_score(y_test,np.where(classifier.predict(x_test)<=0.5,0,1))"
      ],
      "metadata": {
        "colab": {
          "base_uri": "https://localhost:8080/"
        },
        "id": "881A8W6add6M",
        "outputId": "0e2253dd-7cf0-4709-9b6b-1ac8883f190e"
      },
      "execution_count": null,
      "outputs": [
        {
          "output_type": "stream",
          "name": "stdout",
          "text": [
            "45/45 [==============================] - 0s 1ms/step\n"
          ]
        },
        {
          "output_type": "execute_result",
          "data": {
            "text/plain": [
              "0.7877927608232789"
            ]
          },
          "metadata": {},
          "execution_count": 148
        }
      ]
    },
    {
      "cell_type": "code",
      "source": [
        "dic={'sathish':100,\"kumar\":34}\n",
        "{ i:j for i,j in dic.items() if j>=35}\n"
      ],
      "metadata": {
        "colab": {
          "base_uri": "https://localhost:8080/"
        },
        "id": "RjjkAHwqd0Mr",
        "outputId": "69a4aef1-6754-4297-90ed-269b317681c2"
      },
      "execution_count": null,
      "outputs": [
        {
          "output_type": "execute_result",
          "data": {
            "text/plain": [
              "{'sathish': 100}"
            ]
          },
          "metadata": {},
          "execution_count": 151
        }
      ]
    },
    {
      "cell_type": "code",
      "source": [
        "tf.keras.models.save_model(classifier,'model.h5')"
      ],
      "metadata": {
        "id": "3jIUFzBygEGp"
      },
      "execution_count": null,
      "outputs": []
    },
    {
      "cell_type": "code",
      "source": [
        "model=tf.keras.models.load_model('/content/model.h5')"
      ],
      "metadata": {
        "id": "g2oO855ElWBw"
      },
      "execution_count": null,
      "outputs": []
    },
    {
      "cell_type": "code",
      "source": [
        "model.predict(x_test)"
      ],
      "metadata": {
        "colab": {
          "base_uri": "https://localhost:8080/"
        },
        "id": "ukRP4oh4mAW3",
        "outputId": "a88b622f-be6b-460c-bc19-0432a8550af0"
      },
      "execution_count": null,
      "outputs": [
        {
          "output_type": "stream",
          "name": "stdout",
          "text": [
            "45/45 [==============================] - 0s 2ms/step\n"
          ]
        },
        {
          "output_type": "execute_result",
          "data": {
            "text/plain": [
              "array([[0.98645675],\n",
              "       [0.99591595],\n",
              "       [0.9593503 ],\n",
              "       ...,\n",
              "       [0.5993004 ],\n",
              "       [0.8100574 ],\n",
              "       [0.9356869 ]], dtype=float32)"
            ]
          },
          "metadata": {},
          "execution_count": 157
        }
      ]
    },
    {
      "cell_type": "code",
      "source": [
        "x=df.drop(columns=['TotalCharges','customerID'])\n",
        "y=df[['TotalCharges']]"
      ],
      "metadata": {
        "id": "4YzYvkQamTF4"
      },
      "execution_count": null,
      "outputs": []
    },
    {
      "cell_type": "code",
      "source": [
        "y.TotalCharges=np.where(y.TotalCharges==' ',np.nan,y.TotalCharges)"
      ],
      "metadata": {
        "id": "QeEan59Quyg6"
      },
      "execution_count": null,
      "outputs": []
    },
    {
      "cell_type": "code",
      "source": [
        "y['TotalCharges']=y.TotalCharges.astype('float32')"
      ],
      "metadata": {
        "id": "w_qnSj8kuyg8"
      },
      "execution_count": null,
      "outputs": []
    },
    {
      "cell_type": "code",
      "source": [
        "y['TotalCharges'].fillna(np.mean(y.TotalCharges),inplace=True)"
      ],
      "metadata": {
        "id": "yvBzWWQMuyg9"
      },
      "execution_count": null,
      "outputs": []
    },
    {
      "cell_type": "code",
      "source": [
        "for col in all_obj_columns:\n",
        "  try:\n",
        "      uniques=x[col].unique()\n",
        "      x[col]=x[col].map({ key:val for key,val in zip(uniques,range(1,len(uniques)+1))  })\n",
        "  except:pass"
      ],
      "metadata": {
        "id": "pTsf6Z39ue2X"
      },
      "execution_count": null,
      "outputs": []
    },
    {
      "cell_type": "code",
      "source": [
        "x.Churn=x.Churn.map( {'Yes':0,'No':1} )"
      ],
      "metadata": {
        "id": "uym_JBbWvUry"
      },
      "execution_count": null,
      "outputs": []
    },
    {
      "cell_type": "code",
      "source": [
        "x_train,x_test,y_train,y_test=train_test_split(x,y,test_size=0.2,random_state=100)"
      ],
      "metadata": {
        "id": "MxkyEnrEvr8V"
      },
      "execution_count": null,
      "outputs": []
    },
    {
      "cell_type": "code",
      "source": [
        "scaler=StandardScaler()\n",
        "x_train=scaler.fit_transform(x_train)\n",
        "x_test=scaler.transform(x_test)"
      ],
      "metadata": {
        "id": "JGjh0j-Y49Yq"
      },
      "execution_count": null,
      "outputs": []
    },
    {
      "cell_type": "code",
      "source": [
        "regressor=Sequential()\n",
        "regressor.add(tf.keras.Input(shape=(x_train.shape[1],)))\n",
        "regressor.add( Dense(units=36 , activation='relu')  )\n",
        "regressor.add( Dense(units=18 , activation='relu')  )\n",
        "regressor.add( Dense(units=8 , activation='relu')  )\n",
        "regressor.add( Dense(units=1)  )"
      ],
      "metadata": {
        "id": "f8TktsenwM7B"
      },
      "execution_count": null,
      "outputs": []
    },
    {
      "cell_type": "code",
      "source": [
        "regressor.summary()"
      ],
      "metadata": {
        "colab": {
          "base_uri": "https://localhost:8080/"
        },
        "id": "FRLKmb92xQG_",
        "outputId": "88563370-aec7-420f-ec5e-793702313665"
      },
      "execution_count": null,
      "outputs": [
        {
          "output_type": "stream",
          "name": "stdout",
          "text": [
            "Model: \"sequential_5\"\n",
            "_________________________________________________________________\n",
            " Layer (type)                Output Shape              Param #   \n",
            "=================================================================\n",
            " dense_16 (Dense)            (None, 36)                720       \n",
            "                                                                 \n",
            " dense_17 (Dense)            (None, 18)                666       \n",
            "                                                                 \n",
            " dense_18 (Dense)            (None, 8)                 152       \n",
            "                                                                 \n",
            " dense_19 (Dense)            (None, 1)                 9         \n",
            "                                                                 \n",
            "=================================================================\n",
            "Total params: 1,547\n",
            "Trainable params: 1,547\n",
            "Non-trainable params: 0\n",
            "_________________________________________________________________\n"
          ]
        }
      ]
    },
    {
      "cell_type": "code",
      "source": [
        "regressor.compile(\n",
        "    optimizer='adam',\n",
        "    loss='mean_squared_error',\n",
        "    metrics=['mean_squared_error']\n",
        ")"
      ],
      "metadata": {
        "id": "PYCyMB7zxY67"
      },
      "execution_count": null,
      "outputs": []
    },
    {
      "cell_type": "code",
      "source": [
        "from keras import callbacks\n",
        "model_history=regressor.fit(\n",
        "    x=x_train,y=y_train,\n",
        "    validation_split=0.2,\n",
        "    batch_size=100,\n",
        "    epochs=100,\n",
        "    callbacks=early_stopping\n",
        ")"
      ],
      "metadata": {
        "colab": {
          "base_uri": "https://localhost:8080/"
        },
        "id": "VRxGbQYdxz42",
        "outputId": "e22250a7-a9db-4e0e-9f0e-a86f9b3eb108"
      },
      "execution_count": null,
      "outputs": [
        {
          "output_type": "stream",
          "name": "stdout",
          "text": [
            "Epoch 1/100\n",
            "46/46 [==============================] - 2s 7ms/step - loss: 10209183.0000 - mean_squared_error: 10209183.0000 - val_loss: 10665742.0000 - val_mean_squared_error: 10665742.0000\n",
            "Epoch 2/100\n",
            "46/46 [==============================] - 0s 5ms/step - loss: 10179120.0000 - mean_squared_error: 10179120.0000 - val_loss: 10604159.0000 - val_mean_squared_error: 10604159.0000\n",
            "Epoch 3/100\n",
            "46/46 [==============================] - 0s 6ms/step - loss: 10059503.0000 - mean_squared_error: 10059503.0000 - val_loss: 10375870.0000 - val_mean_squared_error: 10375870.0000\n",
            "Epoch 4/100\n",
            "46/46 [==============================] - 0s 4ms/step - loss: 9679979.0000 - mean_squared_error: 9679979.0000 - val_loss: 9719432.0000 - val_mean_squared_error: 9719432.0000\n",
            "Epoch 5/100\n",
            "46/46 [==============================] - 0s 4ms/step - loss: 8744897.0000 - mean_squared_error: 8744897.0000 - val_loss: 8304299.5000 - val_mean_squared_error: 8304299.5000\n",
            "Epoch 6/100\n",
            "46/46 [==============================] - 0s 4ms/step - loss: 7045052.5000 - mean_squared_error: 7045052.5000 - val_loss: 6068523.0000 - val_mean_squared_error: 6068523.0000\n",
            "Epoch 7/100\n",
            "46/46 [==============================] - 0s 4ms/step - loss: 4781837.5000 - mean_squared_error: 4781837.5000 - val_loss: 3623826.5000 - val_mean_squared_error: 3623826.5000\n",
            "Epoch 8/100\n",
            "46/46 [==============================] - 0s 5ms/step - loss: 2766781.7500 - mean_squared_error: 2766781.7500 - val_loss: 2006393.5000 - val_mean_squared_error: 2006393.5000\n",
            "Epoch 9/100\n",
            "46/46 [==============================] - 0s 5ms/step - loss: 1735164.7500 - mean_squared_error: 1735164.7500 - val_loss: 1436578.3750 - val_mean_squared_error: 1436578.2500\n",
            "Epoch 10/100\n",
            "46/46 [==============================] - 0s 4ms/step - loss: 1334764.1250 - mean_squared_error: 1334764.1250 - val_loss: 1207762.6250 - val_mean_squared_error: 1207762.6250\n",
            "Epoch 11/100\n",
            "46/46 [==============================] - 0s 5ms/step - loss: 1125078.6250 - mean_squared_error: 1125078.6250 - val_loss: 1054607.3750 - val_mean_squared_error: 1054607.3750\n",
            "Epoch 12/100\n",
            "46/46 [==============================] - 0s 4ms/step - loss: 975519.1250 - mean_squared_error: 975519.1250 - val_loss: 932683.4375 - val_mean_squared_error: 932683.4375\n",
            "Epoch 13/100\n",
            "46/46 [==============================] - 0s 6ms/step - loss: 860392.6250 - mean_squared_error: 860392.6250 - val_loss: 838538.8750 - val_mean_squared_error: 838538.8750\n",
            "Epoch 14/100\n",
            "46/46 [==============================] - 0s 5ms/step - loss: 767817.0625 - mean_squared_error: 767817.0625 - val_loss: 755072.9375 - val_mean_squared_error: 755072.9375\n",
            "Epoch 15/100\n",
            "46/46 [==============================] - 0s 4ms/step - loss: 687640.5625 - mean_squared_error: 687640.5625 - val_loss: 684685.0000 - val_mean_squared_error: 684684.9375\n",
            "Epoch 16/100\n",
            "46/46 [==============================] - 0s 5ms/step - loss: 621399.3750 - mean_squared_error: 621399.3750 - val_loss: 623555.4375 - val_mean_squared_error: 623555.4375\n",
            "Epoch 17/100\n",
            "46/46 [==============================] - 0s 5ms/step - loss: 564220.1875 - mean_squared_error: 564220.1875 - val_loss: 570008.5625 - val_mean_squared_error: 570008.5625\n",
            "Epoch 18/100\n",
            "46/46 [==============================] - 0s 4ms/step - loss: 514102.9375 - mean_squared_error: 514102.9375 - val_loss: 522049.4688 - val_mean_squared_error: 522049.4688\n",
            "Epoch 19/100\n",
            "46/46 [==============================] - 0s 4ms/step - loss: 469616.8125 - mean_squared_error: 469616.8125 - val_loss: 478746.7500 - val_mean_squared_error: 478746.7500\n",
            "Epoch 20/100\n",
            "46/46 [==============================] - 0s 4ms/step - loss: 428148.9688 - mean_squared_error: 428148.9688 - val_loss: 435980.0000 - val_mean_squared_error: 435980.0000\n",
            "Epoch 21/100\n",
            "46/46 [==============================] - 0s 5ms/step - loss: 391175.3125 - mean_squared_error: 391175.3125 - val_loss: 399283.6250 - val_mean_squared_error: 399283.6250\n",
            "Epoch 22/100\n",
            "46/46 [==============================] - 0s 8ms/step - loss: 358108.3750 - mean_squared_error: 358108.3750 - val_loss: 364533.2812 - val_mean_squared_error: 364533.2812\n",
            "Epoch 23/100\n",
            "46/46 [==============================] - 0s 6ms/step - loss: 326293.0312 - mean_squared_error: 326293.0312 - val_loss: 331118.8125 - val_mean_squared_error: 331118.8125\n",
            "Epoch 24/100\n",
            "46/46 [==============================] - 0s 7ms/step - loss: 297629.0625 - mean_squared_error: 297629.0625 - val_loss: 301506.2812 - val_mean_squared_error: 301506.2812\n",
            "Epoch 25/100\n",
            "46/46 [==============================] - 0s 7ms/step - loss: 270526.3125 - mean_squared_error: 270526.3125 - val_loss: 272539.0938 - val_mean_squared_error: 272539.0938\n",
            "Epoch 26/100\n",
            "46/46 [==============================] - 0s 7ms/step - loss: 245277.9688 - mean_squared_error: 245277.9688 - val_loss: 245144.9062 - val_mean_squared_error: 245144.9062\n",
            "Epoch 27/100\n",
            "46/46 [==============================] - 0s 7ms/step - loss: 222475.7656 - mean_squared_error: 222475.7656 - val_loss: 221671.2188 - val_mean_squared_error: 221671.2188\n",
            "Epoch 28/100\n",
            "46/46 [==============================] - 0s 7ms/step - loss: 201064.5781 - mean_squared_error: 201064.5781 - val_loss: 200204.6406 - val_mean_squared_error: 200204.6406\n",
            "Epoch 29/100\n",
            "46/46 [==============================] - 0s 4ms/step - loss: 181564.0000 - mean_squared_error: 181563.9844 - val_loss: 180361.7344 - val_mean_squared_error: 180361.7344\n",
            "Epoch 30/100\n",
            "46/46 [==============================] - 0s 4ms/step - loss: 163564.5469 - mean_squared_error: 163564.5469 - val_loss: 162063.6719 - val_mean_squared_error: 162063.6719\n",
            "Epoch 31/100\n",
            "46/46 [==============================] - 0s 4ms/step - loss: 146883.9688 - mean_squared_error: 146883.9688 - val_loss: 145797.8281 - val_mean_squared_error: 145797.8281\n",
            "Epoch 32/100\n",
            "46/46 [==============================] - 0s 4ms/step - loss: 132348.5625 - mean_squared_error: 132348.5625 - val_loss: 130804.0469 - val_mean_squared_error: 130804.0469\n",
            "Epoch 33/100\n",
            "46/46 [==============================] - 0s 5ms/step - loss: 118787.0234 - mean_squared_error: 118787.0234 - val_loss: 118261.2188 - val_mean_squared_error: 118261.2188\n",
            "Epoch 34/100\n",
            "46/46 [==============================] - 0s 4ms/step - loss: 106944.4141 - mean_squared_error: 106944.4141 - val_loss: 106522.4062 - val_mean_squared_error: 106522.4062\n",
            "Epoch 35/100\n",
            "46/46 [==============================] - 0s 5ms/step - loss: 96517.4766 - mean_squared_error: 96517.4766 - val_loss: 97032.6953 - val_mean_squared_error: 97032.6953\n",
            "Epoch 36/100\n",
            "46/46 [==============================] - 0s 4ms/step - loss: 87660.2812 - mean_squared_error: 87660.2812 - val_loss: 88816.5078 - val_mean_squared_error: 88816.5078\n",
            "Epoch 37/100\n",
            "46/46 [==============================] - 0s 4ms/step - loss: 79865.9141 - mean_squared_error: 79865.9141 - val_loss: 81600.8750 - val_mean_squared_error: 81600.8750\n",
            "Epoch 38/100\n",
            "46/46 [==============================] - 0s 5ms/step - loss: 73251.2266 - mean_squared_error: 73251.2266 - val_loss: 75602.2656 - val_mean_squared_error: 75602.2656\n",
            "Epoch 39/100\n",
            "46/46 [==============================] - 0s 4ms/step - loss: 67176.3047 - mean_squared_error: 67176.3047 - val_loss: 70471.0469 - val_mean_squared_error: 70471.0469\n",
            "Epoch 40/100\n",
            "46/46 [==============================] - 0s 5ms/step - loss: 62267.2773 - mean_squared_error: 62267.2695 - val_loss: 66210.2188 - val_mean_squared_error: 66210.2188\n",
            "Epoch 41/100\n",
            "46/46 [==============================] - 0s 5ms/step - loss: 57893.8438 - mean_squared_error: 57893.8438 - val_loss: 62107.6758 - val_mean_squared_error: 62107.6758\n",
            "Epoch 42/100\n",
            "46/46 [==============================] - 0s 6ms/step - loss: 54129.8867 - mean_squared_error: 54129.8867 - val_loss: 58936.9375 - val_mean_squared_error: 58936.9375\n",
            "Epoch 43/100\n",
            "46/46 [==============================] - 0s 5ms/step - loss: 50865.8203 - mean_squared_error: 50865.8203 - val_loss: 56159.7578 - val_mean_squared_error: 56159.7578\n",
            "Epoch 44/100\n",
            "46/46 [==============================] - 0s 5ms/step - loss: 48021.5664 - mean_squared_error: 48021.5664 - val_loss: 53606.8633 - val_mean_squared_error: 53606.8711\n",
            "Epoch 45/100\n",
            "46/46 [==============================] - 0s 5ms/step - loss: 45471.2539 - mean_squared_error: 45471.2500 - val_loss: 51425.3828 - val_mean_squared_error: 51425.3828\n",
            "Epoch 46/100\n",
            "46/46 [==============================] - 0s 4ms/step - loss: 43329.4141 - mean_squared_error: 43329.4102 - val_loss: 49621.9844 - val_mean_squared_error: 49621.9844\n",
            "Epoch 47/100\n",
            "46/46 [==============================] - 0s 5ms/step - loss: 41236.8242 - mean_squared_error: 41236.8242 - val_loss: 47965.9961 - val_mean_squared_error: 47965.9961\n",
            "Epoch 48/100\n",
            "46/46 [==============================] - 0s 4ms/step - loss: 39539.0430 - mean_squared_error: 39539.0430 - val_loss: 46479.0469 - val_mean_squared_error: 46479.0469\n",
            "Epoch 49/100\n",
            "46/46 [==============================] - 0s 5ms/step - loss: 38070.5781 - mean_squared_error: 38070.5781 - val_loss: 45335.0977 - val_mean_squared_error: 45335.0977\n",
            "Epoch 50/100\n",
            "46/46 [==============================] - 0s 5ms/step - loss: 36770.8047 - mean_squared_error: 36770.8047 - val_loss: 43941.1484 - val_mean_squared_error: 43941.1484\n",
            "Epoch 51/100\n",
            "46/46 [==============================] - 0s 6ms/step - loss: 35555.1406 - mean_squared_error: 35555.1406 - val_loss: 42909.9180 - val_mean_squared_error: 42909.9180\n",
            "Epoch 52/100\n",
            "46/46 [==============================] - 0s 4ms/step - loss: 34432.3711 - mean_squared_error: 34432.3711 - val_loss: 41890.9062 - val_mean_squared_error: 41890.9023\n",
            "Epoch 53/100\n",
            "46/46 [==============================] - 0s 5ms/step - loss: 33202.1367 - mean_squared_error: 33202.1367 - val_loss: 41018.0156 - val_mean_squared_error: 41018.0156\n",
            "Epoch 54/100\n",
            "46/46 [==============================] - 0s 6ms/step - loss: 32363.0195 - mean_squared_error: 32363.0195 - val_loss: 40368.3398 - val_mean_squared_error: 40368.3398\n",
            "Epoch 55/100\n",
            "46/46 [==============================] - 0s 5ms/step - loss: 31453.6387 - mean_squared_error: 31453.6387 - val_loss: 39295.6562 - val_mean_squared_error: 39295.6523\n",
            "Epoch 56/100\n",
            "46/46 [==============================] - 0s 4ms/step - loss: 30524.8438 - mean_squared_error: 30524.8438 - val_loss: 38553.9297 - val_mean_squared_error: 38553.9297\n",
            "Epoch 57/100\n",
            "46/46 [==============================] - 0s 4ms/step - loss: 29749.9355 - mean_squared_error: 29749.9355 - val_loss: 37879.6016 - val_mean_squared_error: 37879.6016\n",
            "Epoch 58/100\n",
            "46/46 [==============================] - 0s 5ms/step - loss: 29027.7129 - mean_squared_error: 29027.7129 - val_loss: 37120.8438 - val_mean_squared_error: 37120.8438\n",
            "Epoch 59/100\n",
            "46/46 [==============================] - 0s 5ms/step - loss: 28306.4824 - mean_squared_error: 28306.4824 - val_loss: 36559.1172 - val_mean_squared_error: 36559.1172\n",
            "Epoch 60/100\n",
            "46/46 [==============================] - 0s 5ms/step - loss: 27658.0039 - mean_squared_error: 27658.0039 - val_loss: 35768.6523 - val_mean_squared_error: 35768.6523\n",
            "Epoch 61/100\n",
            "46/46 [==============================] - 0s 4ms/step - loss: 26935.8066 - mean_squared_error: 26935.8066 - val_loss: 35023.2031 - val_mean_squared_error: 35023.2031\n",
            "Epoch 62/100\n",
            "46/46 [==============================] - 0s 4ms/step - loss: 26353.3535 - mean_squared_error: 26353.3535 - val_loss: 34496.2148 - val_mean_squared_error: 34496.2148\n",
            "Epoch 63/100\n",
            "46/46 [==============================] - 0s 4ms/step - loss: 25838.5742 - mean_squared_error: 25838.5742 - val_loss: 33877.8125 - val_mean_squared_error: 33877.8125\n",
            "Epoch 64/100\n",
            "46/46 [==============================] - 0s 5ms/step - loss: 25208.9277 - mean_squared_error: 25208.9277 - val_loss: 33323.3711 - val_mean_squared_error: 33323.3711\n",
            "Epoch 65/100\n",
            "46/46 [==============================] - 0s 4ms/step - loss: 24695.2344 - mean_squared_error: 24695.2344 - val_loss: 32889.7891 - val_mean_squared_error: 32889.7891\n",
            "Epoch 66/100\n",
            "46/46 [==============================] - 0s 5ms/step - loss: 24139.8633 - mean_squared_error: 24139.8633 - val_loss: 32386.9141 - val_mean_squared_error: 32386.9141\n",
            "Epoch 67/100\n",
            "46/46 [==============================] - 0s 4ms/step - loss: 23654.6211 - mean_squared_error: 23654.6211 - val_loss: 31765.1680 - val_mean_squared_error: 31765.1680\n",
            "Epoch 68/100\n",
            "46/46 [==============================] - 0s 4ms/step - loss: 23179.8203 - mean_squared_error: 23179.8203 - val_loss: 31304.7305 - val_mean_squared_error: 31304.7305\n",
            "Epoch 69/100\n",
            "46/46 [==============================] - 0s 5ms/step - loss: 22671.3984 - mean_squared_error: 22671.3984 - val_loss: 30837.2207 - val_mean_squared_error: 30837.2207\n",
            "Epoch 70/100\n",
            "46/46 [==============================] - 0s 5ms/step - loss: 22237.5156 - mean_squared_error: 22237.5156 - val_loss: 30474.3789 - val_mean_squared_error: 30474.3789\n",
            "Epoch 71/100\n",
            "46/46 [==============================] - 0s 5ms/step - loss: 21861.5664 - mean_squared_error: 21861.5664 - val_loss: 30070.8965 - val_mean_squared_error: 30070.8965\n",
            "Epoch 72/100\n",
            "46/46 [==============================] - 0s 5ms/step - loss: 21427.5664 - mean_squared_error: 21427.5664 - val_loss: 29653.2871 - val_mean_squared_error: 29653.2871\n",
            "Epoch 73/100\n",
            "46/46 [==============================] - 0s 7ms/step - loss: 21210.1836 - mean_squared_error: 21210.1855 - val_loss: 29437.4199 - val_mean_squared_error: 29437.4219\n",
            "Epoch 74/100\n",
            "46/46 [==============================] - 0s 7ms/step - loss: 20690.4160 - mean_squared_error: 20690.4160 - val_loss: 28891.2754 - val_mean_squared_error: 28891.2754\n",
            "Epoch 75/100\n",
            "46/46 [==============================] - 0s 7ms/step - loss: 20350.9316 - mean_squared_error: 20350.9297 - val_loss: 28624.2109 - val_mean_squared_error: 28624.2109\n",
            "Epoch 76/100\n",
            "46/46 [==============================] - 0s 7ms/step - loss: 20057.5938 - mean_squared_error: 20057.5938 - val_loss: 28313.2656 - val_mean_squared_error: 28313.2656\n",
            "Epoch 77/100\n",
            "46/46 [==============================] - 0s 7ms/step - loss: 19751.9844 - mean_squared_error: 19751.9824 - val_loss: 28122.8672 - val_mean_squared_error: 28122.8672\n",
            "Epoch 78/100\n",
            "46/46 [==============================] - 0s 7ms/step - loss: 19419.5254 - mean_squared_error: 19419.5254 - val_loss: 27782.9609 - val_mean_squared_error: 27782.9609\n",
            "Epoch 79/100\n",
            "46/46 [==============================] - 0s 8ms/step - loss: 19180.7266 - mean_squared_error: 19180.7266 - val_loss: 27459.6172 - val_mean_squared_error: 27459.6172\n",
            "Epoch 80/100\n",
            "46/46 [==============================] - 0s 6ms/step - loss: 18879.3438 - mean_squared_error: 18879.3438 - val_loss: 27197.9062 - val_mean_squared_error: 27197.9062\n",
            "Epoch 81/100\n",
            "46/46 [==============================] - 0s 4ms/step - loss: 18617.3672 - mean_squared_error: 18617.3672 - val_loss: 27042.2871 - val_mean_squared_error: 27042.2871\n",
            "Epoch 82/100\n",
            "46/46 [==============================] - 0s 5ms/step - loss: 18470.3594 - mean_squared_error: 18470.3594 - val_loss: 26701.6289 - val_mean_squared_error: 26701.6289\n",
            "Epoch 83/100\n",
            "46/46 [==============================] - 0s 5ms/step - loss: 18162.2500 - mean_squared_error: 18162.2500 - val_loss: 26503.5938 - val_mean_squared_error: 26503.5938\n",
            "Epoch 84/100\n",
            "46/46 [==============================] - 0s 5ms/step - loss: 17912.1504 - mean_squared_error: 17912.1504 - val_loss: 26282.2227 - val_mean_squared_error: 26282.2227\n",
            "Epoch 85/100\n",
            "46/46 [==============================] - 0s 4ms/step - loss: 17689.2695 - mean_squared_error: 17689.2695 - val_loss: 26116.1504 - val_mean_squared_error: 26116.1504\n",
            "Epoch 86/100\n",
            "46/46 [==============================] - 0s 5ms/step - loss: 17432.6484 - mean_squared_error: 17432.6484 - val_loss: 25891.0586 - val_mean_squared_error: 25891.0586\n",
            "Epoch 87/100\n",
            "46/46 [==============================] - 0s 5ms/step - loss: 17333.0977 - mean_squared_error: 17333.0977 - val_loss: 25788.4062 - val_mean_squared_error: 25788.4062\n",
            "Epoch 88/100\n",
            "46/46 [==============================] - 0s 5ms/step - loss: 17180.4980 - mean_squared_error: 17180.4980 - val_loss: 25630.6758 - val_mean_squared_error: 25630.6758\n",
            "Epoch 89/100\n",
            "46/46 [==============================] - 0s 4ms/step - loss: 16972.5820 - mean_squared_error: 16972.5820 - val_loss: 25405.1797 - val_mean_squared_error: 25405.1816\n",
            "Epoch 90/100\n",
            "46/46 [==============================] - 0s 4ms/step - loss: 16807.6465 - mean_squared_error: 16807.6465 - val_loss: 25361.1289 - val_mean_squared_error: 25361.1289\n",
            "Epoch 91/100\n",
            "46/46 [==============================] - 0s 5ms/step - loss: 16645.1875 - mean_squared_error: 16645.1875 - val_loss: 25146.6953 - val_mean_squared_error: 25146.6953\n",
            "Epoch 92/100\n",
            "46/46 [==============================] - 0s 5ms/step - loss: 16512.2598 - mean_squared_error: 16512.2598 - val_loss: 25105.5547 - val_mean_squared_error: 25105.5547\n",
            "Epoch 93/100\n",
            "46/46 [==============================] - 0s 5ms/step - loss: 16339.0918 - mean_squared_error: 16339.0918 - val_loss: 24943.3223 - val_mean_squared_error: 24943.3223\n",
            "Epoch 94/100\n",
            "46/46 [==============================] - 0s 6ms/step - loss: 16279.2812 - mean_squared_error: 16279.2832 - val_loss: 24721.8594 - val_mean_squared_error: 24721.8594\n",
            "Epoch 95/100\n",
            "46/46 [==============================] - 0s 5ms/step - loss: 16058.1777 - mean_squared_error: 16058.1777 - val_loss: 24827.3516 - val_mean_squared_error: 24827.3516\n",
            "Epoch 96/100\n",
            "46/46 [==============================] - 0s 5ms/step - loss: 16033.4590 - mean_squared_error: 16033.4590 - val_loss: 24609.7715 - val_mean_squared_error: 24609.7715\n",
            "Epoch 97/100\n",
            "46/46 [==============================] - 0s 5ms/step - loss: 16017.1748 - mean_squared_error: 16017.1748 - val_loss: 24547.7461 - val_mean_squared_error: 24547.7461\n",
            "Epoch 98/100\n",
            "46/46 [==============================] - 0s 5ms/step - loss: 15852.0703 - mean_squared_error: 15852.0703 - val_loss: 24584.0195 - val_mean_squared_error: 24584.0195\n",
            "Epoch 99/100\n",
            "46/46 [==============================] - 0s 5ms/step - loss: 15630.1465 - mean_squared_error: 15630.1465 - val_loss: 24291.5078 - val_mean_squared_error: 24291.5078\n",
            "Epoch 100/100\n",
            "46/46 [==============================] - 0s 4ms/step - loss: 15524.7910 - mean_squared_error: 15524.7910 - val_loss: 24141.7402 - val_mean_squared_error: 24141.7402\n"
          ]
        }
      ]
    },
    {
      "cell_type": "code",
      "source": [
        "predict=regressor.predict(x_test)"
      ],
      "metadata": {
        "colab": {
          "base_uri": "https://localhost:8080/"
        },
        "id": "jsvo3HHXyFL7",
        "outputId": "ad5b6bf0-3878-41f1-d360-0a05b43ca1f9"
      },
      "execution_count": null,
      "outputs": [
        {
          "output_type": "stream",
          "name": "stdout",
          "text": [
            "45/45 [==============================] - 0s 2ms/step\n"
          ]
        }
      ]
    },
    {
      "cell_type": "code",
      "source": [
        "from sklearn.metrics import r2_score\n",
        "r2_score(y_test,predict)"
      ],
      "metadata": {
        "colab": {
          "base_uri": "https://localhost:8080/"
        },
        "id": "V96K6y_lz7Xy",
        "outputId": "e89200e6-43f6-475c-f333-978966dd3313"
      },
      "execution_count": null,
      "outputs": [
        {
          "output_type": "execute_result",
          "data": {
            "text/plain": [
              "0.9979152729263666"
            ]
          },
          "metadata": {},
          "execution_count": 217
        }
      ]
    },
    {
      "cell_type": "code",
      "source": [
        "regressor.save('reg_model.h5')\n",
        "reg_model=tf.keras.models.load_model('reg_model.h5')"
      ],
      "metadata": {
        "id": "ceStvHnDz9ur"
      },
      "execution_count": null,
      "outputs": []
    },
    {
      "cell_type": "code",
      "source": [
        "reg_model.predict(x_test)"
      ],
      "metadata": {
        "colab": {
          "base_uri": "https://localhost:8080/"
        },
        "id": "NMNqkDLf5VIa",
        "outputId": "d6b82a60-75db-407f-8fdf-8e81a0708242"
      },
      "execution_count": null,
      "outputs": [
        {
          "output_type": "stream",
          "name": "stdout",
          "text": [
            "45/45 [==============================] - 0s 3ms/step\n"
          ]
        },
        {
          "output_type": "execute_result",
          "data": {
            "text/plain": [
              "array([[1005.20886],\n",
              "       [1555.6033 ],\n",
              "       [4305.669  ],\n",
              "       ...,\n",
              "       [3959.8962 ],\n",
              "       [3796.2502 ],\n",
              "       [3874.0305 ]], dtype=float32)"
            ]
          },
          "metadata": {},
          "execution_count": 225
        }
      ]
    },
    {
      "cell_type": "code",
      "source": [
        "# !pip install -q -U keras-tuner"
      ],
      "metadata": {
        "colab": {
          "base_uri": "https://localhost:8080/"
        },
        "id": "XWywA25-5m5E",
        "outputId": "6f7c52b6-ef7b-4a54-9b8f-5d82a24a83e8"
      },
      "execution_count": null,
      "outputs": [
        {
          "output_type": "stream",
          "name": "stdout",
          "text": [
            "\u001b[?25l     \u001b[90m━━━━━━━━━━━━━━━━━━━━━━━━━━━━━━━━━━━━━━━━\u001b[0m \u001b[32m0.0/172.2 KB\u001b[0m \u001b[31m?\u001b[0m eta \u001b[36m-:--:--\u001b[0m\r\u001b[2K     \u001b[90m━━━━━━━━━━━━━━━━━━━━━━━━━━━━━━━━━━━━━━━\u001b[0m \u001b[32m172.2/172.2 KB\u001b[0m \u001b[31m6.7 MB/s\u001b[0m eta \u001b[36m0:00:00\u001b[0m\n",
            "\u001b[?25h"
          ]
        }
      ]
    },
    {
      "cell_type": "code",
      "source": [
        "import keras_tuner as kt"
      ],
      "metadata": {
        "id": "UYL7X9EjEFHj"
      },
      "execution_count": null,
      "outputs": []
    },
    {
      "cell_type": "code",
      "source": [
        "from tensorflow import keras\n"
      ],
      "metadata": {
        "id": "sUsXYZyfEM2c"
      },
      "execution_count": null,
      "outputs": []
    },
    {
      "cell_type": "code",
      "source": [
        "(train_x,train_y),(test_x,test_y)=keras.datasets.fashion_mnist.load_data()"
      ],
      "metadata": {
        "colab": {
          "base_uri": "https://localhost:8080/"
        },
        "id": "bzMHuHnjEn21",
        "outputId": "05287156-1233-4df3-dcc6-8f6fab0d4e36"
      },
      "execution_count": null,
      "outputs": [
        {
          "output_type": "stream",
          "name": "stdout",
          "text": [
            "Downloading data from https://storage.googleapis.com/tensorflow/tf-keras-datasets/train-labels-idx1-ubyte.gz\n",
            "29515/29515 [==============================] - 0s 0us/step\n",
            "Downloading data from https://storage.googleapis.com/tensorflow/tf-keras-datasets/train-images-idx3-ubyte.gz\n",
            "26421880/26421880 [==============================] - 0s 0us/step\n",
            "Downloading data from https://storage.googleapis.com/tensorflow/tf-keras-datasets/t10k-labels-idx1-ubyte.gz\n",
            "5148/5148 [==============================] - 0s 0us/step\n",
            "Downloading data from https://storage.googleapis.com/tensorflow/tf-keras-datasets/t10k-images-idx3-ubyte.gz\n",
            "4422102/4422102 [==============================] - 0s 0us/step\n"
          ]
        }
      ]
    },
    {
      "cell_type": "code",
      "source": [
        "train_x.shape,test_x.shape"
      ],
      "metadata": {
        "colab": {
          "base_uri": "https://localhost:8080/"
        },
        "id": "TH9Yhv1dEyH8",
        "outputId": "9b38e558-ba0e-4c87-ee80-626af2469162"
      },
      "execution_count": null,
      "outputs": [
        {
          "output_type": "execute_result",
          "data": {
            "text/plain": [
              "((60000, 28, 28), (10000, 28, 28))"
            ]
          },
          "metadata": {},
          "execution_count": 7
        }
      ]
    },
    {
      "cell_type": "code",
      "source": [
        "import matplotlib.pyplot as plt\n",
        "plt.imshow(train_x[0],cmap='binary')"
      ],
      "metadata": {
        "colab": {
          "base_uri": "https://localhost:8080/",
          "height": 447
        },
        "id": "T5AUB67jE2u8",
        "outputId": "c5360411-d3e3-46f2-b812-9eb2104c7291"
      },
      "execution_count": null,
      "outputs": [
        {
          "output_type": "execute_result",
          "data": {
            "text/plain": [
              "<matplotlib.image.AxesImage at 0x7f4571767940>"
            ]
          },
          "metadata": {},
          "execution_count": 8
        },
        {
          "output_type": "display_data",
          "data": {
            "text/plain": [
              "<Figure size 640x480 with 1 Axes>"
            ],
            "image/png": "[encoded data removed]"
          },
          "metadata": {}
        }
      ]
    },
    {
      "cell_type": "code",
      "source": [
        "### convert pixal range 0 to 1\n",
        "\n",
        "x_train_norm=train_x.astype('float32')/255.0\n",
        "x_test_norm=test_x.astype('float32')/255.0"
      ],
      "metadata": {
        "id": "13KPCobMFFzv"
      },
      "execution_count": null,
      "outputs": []
    },
    {
      "cell_type": "code",
      "source": [
        "x_train_norm.max(),x_train_norm.min()"
      ],
      "metadata": {
        "colab": {
          "base_uri": "https://localhost:8080/"
        },
        "id": "lMaKu3l6JStq",
        "outputId": "4c7c5765-9fd4-4680-e994-2af7c2d3a6ee"
      },
      "execution_count": null,
      "outputs": [
        {
          "output_type": "execute_result",
          "data": {
            "text/plain": [
              "(1.0, 0.0)"
            ]
          },
          "metadata": {},
          "execution_count": 10
        }
      ]
    },
    {
      "cell_type": "code",
      "source": [
        "def model_builder(hp):\n",
        "  model=Sequential()\n",
        "  model.add(   keras.layers.Flatten(input_shape=(28,28)) )\n",
        "\n",
        "  hp_units=hp.Int(  'units',min_value=32,max_value=512,step=32  )\n",
        "  model.add(Dense(units=hp_units  , activation='relu'))\n",
        "\n",
        "  hp_units_1=hp.Int(  'units_1' ,min_value=32,max_value=256,step=32  )\n",
        "  model.add(Dense(units=hp_units_1  , activation='relu'))\n",
        "\n",
        "  model.add(Dense(10,activation='softmax'))\n",
        "\n",
        "  hp_learning_rate=hp.Choice('learning_rate',values=[0.0001,0.002,0.001,0.05])\n",
        "\n",
        "  model.compile(\n",
        "      optimizer=keras.optimizers.Adam(learning_rate=hp_learning_rate),\n",
        "      loss=keras.losses.SparseCategoricalCrossentropy(),\n",
        "      metrics=['accuracy']\n",
        "  )\n",
        "\n",
        "  return model"
      ],
      "metadata": {
        "id": "wyN6Y8zYJVAD"
      },
      "execution_count": null,
      "outputs": []
    },
    {
      "cell_type": "code",
      "source": [
        "tuner=kt.Hyperband(\n",
        "    model_builder,\n",
        "    objective='val_accuracy',\n",
        "    max_epochs=10,\n",
        "    factor=3,\n",
        "    directory='my_dir',\n",
        "    project_name='intro_to_kt'\n",
        ")"
      ],
      "metadata": {
        "id": "WSqB4zCXLFn5"
      },
      "execution_count": null,
      "outputs": []
    },
    {
      "cell_type": "code",
      "source": [
        "from tensorflow.keras.callbacks import EarlyStopping"
      ],
      "metadata": {
        "id": "UHMbo0BxPzpC"
      },
      "execution_count": null,
      "outputs": []
    },
    {
      "cell_type": "code",
      "source": [
        "early_stopping=EarlyStopping(\n",
        "    monitor='val_loss',\n",
        "    min_delta=0.0005,\n",
        "    patience=10)"
      ],
      "metadata": {
        "id": "LMY8yz69Q22v"
      },
      "execution_count": null,
      "outputs": []
    },
    {
      "cell_type": "code",
      "source": [],
      "metadata": {
        "id": "3myQHcnFRmlt"
      },
      "execution_count": null,
      "outputs": []
    },
    {
      "cell_type": "code",
      "source": [
        "tuner.search(x_train_norm,train_y,epochs=50,validation_split=0.2,callbacks=[early_stopping])"
      ],
      "metadata": {
        "colab": {
          "base_uri": "https://localhost:8080/"
        },
        "id": "mma5cCGuRAYf",
        "outputId": "cc224ad2-65d7-4017-9ae1-a816dd906639"
      },
      "execution_count": null,
      "outputs": [
        {
          "output_type": "stream",
          "name": "stdout",
          "text": [
            "Trial 25 Complete [00h 02m 23s]\n",
            "val_accuracy: 0.8896666765213013\n",
            "\n",
            "Best val_accuracy So Far: 0.8898333311080933\n",
            "Total elapsed time: 00h 21m 26s\n"
          ]
        }
      ]
    },
    {
      "cell_type": "code",
      "source": [
        "best_hps=tuner.get_best_hyperparameters(num_trials=1)[0]"
      ],
      "metadata": {
        "id": "UgyA4z9ARgwv"
      },
      "execution_count": null,
      "outputs": []
    },
    {
      "cell_type": "code",
      "source": [
        "best_hps.get('units_1')"
      ],
      "metadata": {
        "colab": {
          "base_uri": "https://localhost:8080/"
        },
        "id": "G5Eh60OXXR7U",
        "outputId": "d473dd18-c653-4d11-c848-46eea6c61151"
      },
      "execution_count": null,
      "outputs": [
        {
          "output_type": "execute_result",
          "data": {
            "text/plain": [
              "32"
            ]
          },
          "metadata": {},
          "execution_count": 45
        }
      ]
    },
    {
      "cell_type": "code",
      "source": [
        "hypermodel = tuner.hypermodel.build(best_hps)\n",
        "\n",
        "# Retrain the model\n",
        "hypermodel.fit(x_train_norm,train_y, epochs=10, validation_split=0.2,\n",
        "               callbacks=[early_stopping])"
      ],
      "metadata": {
        "colab": {
          "base_uri": "https://localhost:8080/"
        },
        "id": "l7oXKq0EYx00",
        "outputId": "91df43e7-da04-4209-fd44-a7f0bc716d15"
      },
      "execution_count": null,
      "outputs": [
        {
          "output_type": "stream",
          "name": "stdout",
          "text": [
            "Epoch 1/10\n"
          ]
        },
        {
          "output_type": "stream",
          "name": "stderr",
          "text": [
            "WARNING:tensorflow:Detecting that an object or model or tf.train.Checkpoint is being deleted with unrestored values. See the following logs for the specific values in question. To silence these warnings, use `status.expect_partial()`. See https://www.tensorflow.org/api_docs/python/tf/train/Checkpoint#restorefor details about the status object returned by the restore function.\n",
            "WARNING:tensorflow:Value in checkpoint could not be found in the restored object: (root).optimizer._variables.1\n",
            "WARNING:tensorflow:Value in checkpoint could not be found in the restored object: (root).optimizer._variables.2\n",
            "WARNING:tensorflow:Value in checkpoint could not be found in the restored object: (root).optimizer._variables.3\n",
            "WARNING:tensorflow:Value in checkpoint could not be found in the restored object: (root).optimizer._variables.4\n",
            "WARNING:tensorflow:Value in checkpoint could not be found in the restored object: (root).optimizer._variables.5\n",
            "WARNING:tensorflow:Value in checkpoint could not be found in the restored object: (root).optimizer._variables.6\n",
            "WARNING:tensorflow:Value in checkpoint could not be found in the restored object: (root).optimizer._variables.7\n",
            "WARNING:tensorflow:Value in checkpoint could not be found in the restored object: (root).optimizer._variables.8\n",
            "WARNING:tensorflow:Value in checkpoint could not be found in the restored object: (root).optimizer._variables.9\n",
            "WARNING:tensorflow:Value in checkpoint could not be found in the restored object: (root).optimizer._variables.10\n",
            "WARNING:tensorflow:Value in checkpoint could not be found in the restored object: (root).optimizer._variables.11\n",
            "WARNING:tensorflow:Value in checkpoint could not be found in the restored object: (root).optimizer._variables.12\n"
          ]
        },
        {
          "output_type": "stream",
          "name": "stdout",
          "text": [
            "1500/1500 [==============================] - 11s 6ms/step - loss: 0.5244 - accuracy: 0.8148 - val_loss: 0.4598 - val_accuracy: 0.8363\n",
            "Epoch 2/10\n",
            "1500/1500 [==============================] - 10s 6ms/step - loss: 0.3814 - accuracy: 0.8622 - val_loss: 0.3661 - val_accuracy: 0.8692\n",
            "Epoch 3/10\n",
            "1500/1500 [==============================] - 10s 6ms/step - loss: 0.3441 - accuracy: 0.8744 - val_loss: 0.3577 - val_accuracy: 0.8724\n",
            "Epoch 4/10\n",
            "1500/1500 [==============================] - 9s 6ms/step - loss: 0.3141 - accuracy: 0.8838 - val_loss: 0.3476 - val_accuracy: 0.8780\n",
            "Epoch 5/10\n",
            "1500/1500 [==============================] - 9s 6ms/step - loss: 0.2976 - accuracy: 0.8908 - val_loss: 0.3452 - val_accuracy: 0.8772\n",
            "Epoch 6/10\n",
            "1500/1500 [==============================] - 9s 6ms/step - loss: 0.2799 - accuracy: 0.8952 - val_loss: 0.3358 - val_accuracy: 0.8811\n",
            "Epoch 7/10\n",
            "1500/1500 [==============================] - 10s 6ms/step - loss: 0.2705 - accuracy: 0.8999 - val_loss: 0.3298 - val_accuracy: 0.8815\n",
            "Epoch 8/10\n",
            "1500/1500 [==============================] - 9s 6ms/step - loss: 0.2569 - accuracy: 0.9036 - val_loss: 0.3374 - val_accuracy: 0.8846\n",
            "Epoch 9/10\n",
            "1500/1500 [==============================] - 9s 6ms/step - loss: 0.2463 - accuracy: 0.9071 - val_loss: 0.3408 - val_accuracy: 0.8843\n",
            "Epoch 10/10\n",
            "1500/1500 [==============================] - 10s 7ms/step - loss: 0.2383 - accuracy: 0.9114 - val_loss: 0.3436 - val_accuracy: 0.8847\n"
          ]
        },
        {
          "output_type": "execute_result",
          "data": {
            "text/plain": [
              "<keras.callbacks.History at 0x7f455568b580>"
            ]
          },
          "metadata": {},
          "execution_count": 46
        }
      ]
    },
    {
      "cell_type": "code",
      "source": [],
      "metadata": {
        "id": "d2MVy5CBZntR"
      },
      "execution_count": null,
      "outputs": []
    }
  ]
}