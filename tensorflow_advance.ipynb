{
  "nbformat": 4,
  "nbformat_minor": 0,
  "metadata": {
    "colab": {
      "provenance": []
    },
    "kernelspec": {
      "name": "python3",
      "display_name": "Python 3"
    },
    "language_info": {
      "name": "python"
    },
    "accelerator": "GPU"
  },
  "cells": [
    {
      "cell_type": "code",
      "execution_count": null,
      "metadata": {
        "id": "xRIyweYIkZSG"
      },
      "outputs": [],
      "source": [
        "import tensorflow as tf\n",
        "import pandas as pd\n",
        "from sklearn.model_selection import train_test_split"
      ]
    },
    {
      "cell_type": "code",
      "source": [
        "data=pd.read_csv('/content/credit_data.csv')\n",
        "data=data.dropna()"
      ],
      "metadata": {
        "id": "HZWhz7rhnAsB"
      },
      "execution_count": null,
      "outputs": []
    },
    {
      "cell_type": "code",
      "source": [
        "data.head(1)"
      ],
      "metadata": {
        "colab": {
          "base_uri": "https://localhost:8080/",
          "height": 174
        },
        "id": "VzDivaYknnm5",
        "outputId": "308f4360-b48c-4ce4-c22c-b3d0f281e68c"
      },
      "execution_count": null,
      "outputs": [
        {
          "output_type": "execute_result",
          "data": {
            "text/plain": [
              "   Time        V1        V2        V3        V4        V5        V6        V7  \\\n",
              "0     0 -1.359807 -0.072781  2.536347  1.378155 -0.338321  0.462388  0.239599   \n",
              "\n",
              "         V8        V9  ...       V21       V22       V23       V24       V25  \\\n",
              "0  0.098698  0.363787  ... -0.018307  0.277838 -0.110474  0.066928  0.128539   \n",
              "\n",
              "        V26       V27       V28  Amount  Class  \n",
              "0 -0.189115  0.133558 -0.021053  149.62    0.0  \n",
              "\n",
              "[1 rows x 31 columns]"
            ],
            "text/html": [
              "\n",
              "  <div id=\"df-648684b1-787f-4738-8316-ac58a9794761\">\n",
              "    <div class=\"colab-df-container\">\n",
              "      <div>\n",
              "<style scoped>\n",
              "    .dataframe tbody tr th:only-of-type {\n",
              "        vertical-align: middle;\n",
              "    }\n",
              "\n",
              "    .dataframe tbody tr th {\n",
              "        vertical-align: top;\n",
              "    }\n",
              "\n",
              "    .dataframe thead th {\n",
              "        text-align: right;\n",
              "    }\n",
              "</style>\n",
              "<table border=\"1\" class=\"dataframe\">\n",
              "  <thead>\n",
              "    <tr style=\"text-align: right;\">\n",
              "      <th></th>\n",
              "      <th>Time</th>\n",
              "      <th>V1</th>\n",
              "      <th>V2</th>\n",
              "      <th>V3</th>\n",
              "      <th>V4</th>\n",
              "      <th>V5</th>\n",
              "      <th>V6</th>\n",
              "      <th>V7</th>\n",
              "      <th>V8</th>\n",
              "      <th>V9</th>\n",
              "      <th>...</th>\n",
              "      <th>V21</th>\n",
              "      <th>V22</th>\n",
              "      <th>V23</th>\n",
              "      <th>V24</th>\n",
              "      <th>V25</th>\n",
              "      <th>V26</th>\n",
              "      <th>V27</th>\n",
              "      <th>V28</th>\n",
              "      <th>Amount</th>\n",
              "      <th>Class</th>\n",
              "    </tr>\n",
              "  </thead>\n",
              "  <tbody>\n",
              "    <tr>\n",
              "      <th>0</th>\n",
              "      <td>0</td>\n",
              "      <td>-1.359807</td>\n",
              "      <td>-0.072781</td>\n",
              "      <td>2.536347</td>\n",
              "      <td>1.378155</td>\n",
              "      <td>-0.338321</td>\n",
              "      <td>0.462388</td>\n",
              "      <td>0.239599</td>\n",
              "      <td>0.098698</td>\n",
              "      <td>0.363787</td>\n",
              "      <td>...</td>\n",
              "      <td>-0.018307</td>\n",
              "      <td>0.277838</td>\n",
              "      <td>-0.110474</td>\n",
              "      <td>0.066928</td>\n",
              "      <td>0.128539</td>\n",
              "      <td>-0.189115</td>\n",
              "      <td>0.133558</td>\n",
              "      <td>-0.021053</td>\n",
              "      <td>149.62</td>\n",
              "      <td>0.0</td>\n",
              "    </tr>\n",
              "  </tbody>\n",
              "</table>\n",
              "<p>1 rows × 31 columns</p>\n",
              "</div>\n",
              "      <button class=\"colab-df-convert\" onclick=\"convertToInteractive('df-648684b1-787f-4738-8316-ac58a9794761')\"\n",
              "              title=\"Convert this dataframe to an interactive table.\"\n",
              "              style=\"display:none;\">\n",
              "        \n",
              "  <svg xmlns=\"http://www.w3.org/2000/svg\" height=\"24px\"viewBox=\"0 0 24 24\"\n",
              "       width=\"24px\">\n",
              "    <path d=\"M0 0h24v24H0V0z\" fill=\"none\"/>\n",
              "    <path d=\"M18.56 5.44l.94 2.06.94-2.06 2.06-.94-2.06-.94-.94-2.06-.94 2.06-2.06.94zm-11 1L8.5 8.5l.94-2.06 2.06-.94-2.06-.94L8.5 2.5l-.94 2.06-2.06.94zm10 10l.94 2.06.94-2.06 2.06-.94-2.06-.94-.94-2.06-.94 2.06-2.06.94z\"/><path d=\"M17.41 7.96l-1.37-1.37c-.4-.4-.92-.59-1.43-.59-.52 0-1.04.2-1.43.59L10.3 9.45l-7.72 7.72c-.78.78-.78 2.05 0 2.83L4 21.41c.39.39.9.59 1.41.59.51 0 1.02-.2 1.41-.59l7.78-7.78 2.81-2.81c.8-.78.8-2.07 0-2.86zM5.41 20L4 18.59l7.72-7.72 1.47 1.35L5.41 20z\"/>\n",
              "  </svg>\n",
              "      </button>\n",
              "      \n",
              "  <style>\n",
              "    .colab-df-container {\n",
              "      display:flex;\n",
              "      flex-wrap:wrap;\n",
              "      gap: 12px;\n",
              "    }\n",
              "\n",
              "    .colab-df-convert {\n",
              "      background-color: #E8F0FE;\n",
              "      border: none;\n",
              "      border-radius: 50%;\n",
              "      cursor: pointer;\n",
              "      display: none;\n",
              "      fill: #1967D2;\n",
              "      height: 32px;\n",
              "      padding: 0 0 0 0;\n",
              "      width: 32px;\n",
              "    }\n",
              "\n",
              "    .colab-df-convert:hover {\n",
              "      background-color: #E2EBFA;\n",
              "      box-shadow: 0px 1px 2px rgba(60, 64, 67, 0.3), 0px 1px 3px 1px rgba(60, 64, 67, 0.15);\n",
              "      fill: #174EA6;\n",
              "    }\n",
              "\n",
              "    [theme=dark] .colab-df-convert {\n",
              "      background-color: #3B4455;\n",
              "      fill: #D2E3FC;\n",
              "    }\n",
              "\n",
              "    [theme=dark] .colab-df-convert:hover {\n",
              "      background-color: #434B5C;\n",
              "      box-shadow: 0px 1px 3px 1px rgba(0, 0, 0, 0.15);\n",
              "      filter: drop-shadow(0px 1px 2px rgba(0, 0, 0, 0.3));\n",
              "      fill: #FFFFFF;\n",
              "    }\n",
              "  </style>\n",
              "\n",
              "      <script>\n",
              "        const buttonEl =\n",
              "          document.querySelector('#df-648684b1-787f-4738-8316-ac58a9794761 button.colab-df-convert');\n",
              "        buttonEl.style.display =\n",
              "          google.colab.kernel.accessAllowed ? 'block' : 'none';\n",
              "\n",
              "        async function convertToInteractive(key) {\n",
              "          const element = document.querySelector('#df-648684b1-787f-4738-8316-ac58a9794761');\n",
              "          const dataTable =\n",
              "            await google.colab.kernel.invokeFunction('convertToInteractive',\n",
              "                                                     [key], {});\n",
              "          if (!dataTable) return;\n",
              "\n",
              "          const docLinkHtml = 'Like what you see? Visit the ' +\n",
              "            '<a target=\"_blank\" href=https://colab.research.google.com/notebooks/data_table.ipynb>data table notebook</a>'\n",
              "            + ' to learn more about interactive tables.';\n",
              "          element.innerHTML = '';\n",
              "          dataTable['output_type'] = 'display_data';\n",
              "          await google.colab.output.renderOutput(dataTable, element);\n",
              "          const docLink = document.createElement('div');\n",
              "          docLink.innerHTML = docLinkHtml;\n",
              "          element.appendChild(docLink);\n",
              "        }\n",
              "      </script>\n",
              "    </div>\n",
              "  </div>\n",
              "  "
            ]
          },
          "metadata": {},
          "execution_count": 5
        }
      ]
    },
    {
      "cell_type": "code",
      "source": [
        "data.shape"
      ],
      "metadata": {
        "colab": {
          "base_uri": "https://localhost:8080/"
        },
        "id": "W9v4aN9coHz9",
        "outputId": "28a3b2e2-3a76-4298-b856-8891eb153fbb"
      },
      "execution_count": null,
      "outputs": [
        {
          "output_type": "execute_result",
          "data": {
            "text/plain": [
              "(284807, 31)"
            ]
          },
          "metadata": {},
          "execution_count": 39
        }
      ]
    },
    {
      "cell_type": "code",
      "source": [
        "x=data.drop(columns='Class')\n",
        "y=data['Class']"
      ],
      "metadata": {
        "id": "MvdRilAtnvvg"
      },
      "execution_count": null,
      "outputs": []
    },
    {
      "cell_type": "code",
      "source": [
        "x_train,x_test,y_train,y_test=train_test_split(x,y,random_state=90,train_size=0.25)"
      ],
      "metadata": {
        "id": "mcnAAD5JnLOA"
      },
      "execution_count": null,
      "outputs": []
    },
    {
      "cell_type": "markdown",
      "source": [
        "# create a model"
      ],
      "metadata": {
        "id": "tc9Eu_cooMma"
      }
    },
    {
      "cell_type": "code",
      "source": [
        "y.shape"
      ],
      "metadata": {
        "colab": {
          "base_uri": "https://localhost:8080/"
        },
        "id": "7VuFKavVopOz",
        "outputId": "55ae5349-f6dd-4fdb-df93-c703b3767482"
      },
      "execution_count": null,
      "outputs": [
        {
          "output_type": "execute_result",
          "data": {
            "text/plain": [
              "(284807,)"
            ]
          },
          "metadata": {},
          "execution_count": 42
        }
      ]
    },
    {
      "cell_type": "code",
      "source": [
        "data.dtypes"
      ],
      "metadata": {
        "colab": {
          "base_uri": "https://localhost:8080/"
        },
        "id": "YhGUPumWrdHn",
        "outputId": "63ff8001-b0c3-4aa0-a902-1570c037fc2f"
      },
      "execution_count": null,
      "outputs": [
        {
          "output_type": "execute_result",
          "data": {
            "text/plain": [
              "Time      float64\n",
              "V1        float64\n",
              "V2        float64\n",
              "V3        float64\n",
              "V4        float64\n",
              "V5        float64\n",
              "V6        float64\n",
              "V7        float64\n",
              "V8        float64\n",
              "V9        float64\n",
              "V10       float64\n",
              "V11       float64\n",
              "V12       float64\n",
              "V13       float64\n",
              "V14       float64\n",
              "V15       float64\n",
              "V16       float64\n",
              "V17       float64\n",
              "V18       float64\n",
              "V19       float64\n",
              "V20       float64\n",
              "V21       float64\n",
              "V22       float64\n",
              "V23       float64\n",
              "V24       float64\n",
              "V25       float64\n",
              "V26       float64\n",
              "V27       float64\n",
              "V28       float64\n",
              "Amount    float64\n",
              "Class       int64\n",
              "dtype: object"
            ]
          },
          "metadata": {},
          "execution_count": 43
        }
      ]
    },
    {
      "cell_type": "code",
      "source": [],
      "metadata": {
        "id": "5fLdpagKvOs3"
      },
      "execution_count": null,
      "outputs": []
    },
    {
      "cell_type": "code",
      "source": [
        "import numpy as np\n",
        "print(np.any(np.isnan(x_train)))\n",
        "print(np.any(np.isnan(y_train)))"
      ],
      "metadata": {
        "colab": {
          "base_uri": "https://localhost:8080/"
        },
        "id": "N4tjV5CquM5u",
        "outputId": "b2d832bd-c1c3-476b-fd17-c53b266f3aaf"
      },
      "execution_count": null,
      "outputs": [
        {
          "output_type": "stream",
          "name": "stdout",
          "text": [
            "False\n",
            "False\n"
          ]
        }
      ]
    },
    {
      "cell_type": "code",
      "source": [
        "x_train"
      ],
      "metadata": {
        "colab": {
          "base_uri": "https://localhost:8080/",
          "height": 488
        },
        "id": "Uo9cCQRsvH_S",
        "outputId": "44e49130-8862-4bbf-d91f-0cb44aba3f27"
      },
      "execution_count": null,
      "outputs": [
        {
          "output_type": "execute_result",
          "data": {
            "text/plain": [
              "            Time        V1        V2        V3        V4        V5        V6  \\\n",
              "52498    45482.0 -0.858635  0.585280  1.575453  1.317886 -0.859977  0.034382   \n",
              "273542  165614.0 -0.022716 -1.090718  0.347754 -3.209641 -0.335555  0.543510   \n",
              "276767  167288.0  0.128172  0.911766 -0.680246 -0.819493  1.335271 -0.057583   \n",
              "129555   79133.0 -1.926447  0.700395  1.206153  0.624355  0.132835 -1.113698   \n",
              "4758      4208.0 -0.924370  0.635268  2.424534 -0.980228 -0.250123 -0.203216   \n",
              "...          ...       ...       ...       ...       ...       ...       ...   \n",
              "223802  143530.0 -0.308167  1.591107 -1.373583  0.038114  0.037260 -1.002515   \n",
              "158375  111144.0  0.027415  0.938860 -0.137347 -0.411764  1.018753 -0.009943   \n",
              "75075    55887.0 -1.562455  0.443862  1.011390  0.032803  0.550616 -0.491726   \n",
              "203423  134811.0 -2.415369  1.742191  0.578007  0.408996 -0.995119  1.858211   \n",
              "166557  118158.0  0.045731  0.807166  0.220763 -0.610722  0.439133 -1.064836   \n",
              "\n",
              "              V7        V8        V9  ...       V20       V21       V22  \\\n",
              "52498  -0.399611  0.728113  0.236395  ... -0.238132  0.084815  0.242744   \n",
              "273542 -0.389128  0.244854 -1.717714  ... -0.233328 -0.224860 -0.540943   \n",
              "276767  0.797571  0.128689 -0.206186  ...  0.027674 -0.332611 -0.856747   \n",
              "129555  0.185074  0.175427 -0.683115  ... -0.375002 -0.264376 -0.649828   \n",
              "4758    0.013086  0.248369  1.225108  ...  0.058290 -0.144165 -0.265227   \n",
              "...          ...       ...       ...  ...       ...       ...       ...   \n",
              "223802 -0.659082 -2.430258 -0.279426  ...  0.315747 -0.946215  1.263171   \n",
              "158375  0.651933  0.005686  1.282204  ... -0.034821  0.200071  0.979758   \n",
              "75075   0.308602  0.161854 -0.125248  ... -0.243460 -0.335385 -0.472779   \n",
              "203423 -0.445551  0.743951  0.661218  ...  0.167682 -0.014133  0.300680   \n",
              "166557  0.958152 -0.163179  0.056695  ... -0.069488 -0.276242 -0.647792   \n",
              "\n",
              "             V23       V24       V25       V26       V27       V28  Amount  \n",
              "52498  -0.116741  0.514606 -0.027191 -0.295761 -0.157314 -0.031149   19.54  \n",
              "273542  0.424634 -0.465743 -1.287637 -0.737894  0.220329  0.248860   97.99  \n",
              "276767  0.009476 -0.227400 -0.384356  0.144261  0.218105  0.066232    1.79  \n",
              "129555  0.348864  0.353459  0.165969  0.221926 -0.352566 -0.007488    1.98  \n",
              "4758   -0.208657 -0.036375  0.060463  0.838448  0.169760  0.101467   15.09  \n",
              "...          ...       ...       ...       ...       ...       ...     ...  \n",
              "223802  0.123609 -0.076179 -0.373384 -0.166019 -0.106544 -0.010175    1.50  \n",
              "158375 -0.281001  0.024118 -0.393095 -0.451948  0.454234  0.267469    1.00  \n",
              "75075   0.564785 -0.056079 -0.104507  0.103312  0.264616  0.082446    0.99  \n",
              "203423 -0.310377 -0.327008  0.176959  0.001773 -1.369533 -0.601018  105.54  \n",
              "166557  0.059942 -0.133484 -0.489226  0.149443  0.242806  0.094880    2.67  \n",
              "\n",
              "[71201 rows x 30 columns]"
            ],
            "text/html": [
              "\n",
              "  <div id=\"df-21aaa587-e46a-427c-838f-c69cd9160718\">\n",
              "    <div class=\"colab-df-container\">\n",
              "      <div>\n",
              "<style scoped>\n",
              "    .dataframe tbody tr th:only-of-type {\n",
              "        vertical-align: middle;\n",
              "    }\n",
              "\n",
              "    .dataframe tbody tr th {\n",
              "        vertical-align: top;\n",
              "    }\n",
              "\n",
              "    .dataframe thead th {\n",
              "        text-align: right;\n",
              "    }\n",
              "</style>\n",
              "<table border=\"1\" class=\"dataframe\">\n",
              "  <thead>\n",
              "    <tr style=\"text-align: right;\">\n",
              "      <th></th>\n",
              "      <th>Time</th>\n",
              "      <th>V1</th>\n",
              "      <th>V2</th>\n",
              "      <th>V3</th>\n",
              "      <th>V4</th>\n",
              "      <th>V5</th>\n",
              "      <th>V6</th>\n",
              "      <th>V7</th>\n",
              "      <th>V8</th>\n",
              "      <th>V9</th>\n",
              "      <th>...</th>\n",
              "      <th>V20</th>\n",
              "      <th>V21</th>\n",
              "      <th>V22</th>\n",
              "      <th>V23</th>\n",
              "      <th>V24</th>\n",
              "      <th>V25</th>\n",
              "      <th>V26</th>\n",
              "      <th>V27</th>\n",
              "      <th>V28</th>\n",
              "      <th>Amount</th>\n",
              "    </tr>\n",
              "  </thead>\n",
              "  <tbody>\n",
              "    <tr>\n",
              "      <th>52498</th>\n",
              "      <td>45482.0</td>\n",
              "      <td>-0.858635</td>\n",
              "      <td>0.585280</td>\n",
              "      <td>1.575453</td>\n",
              "      <td>1.317886</td>\n",
              "      <td>-0.859977</td>\n",
              "      <td>0.034382</td>\n",
              "      <td>-0.399611</td>\n",
              "      <td>0.728113</td>\n",
              "      <td>0.236395</td>\n",
              "      <td>...</td>\n",
              "      <td>-0.238132</td>\n",
              "      <td>0.084815</td>\n",
              "      <td>0.242744</td>\n",
              "      <td>-0.116741</td>\n",
              "      <td>0.514606</td>\n",
              "      <td>-0.027191</td>\n",
              "      <td>-0.295761</td>\n",
              "      <td>-0.157314</td>\n",
              "      <td>-0.031149</td>\n",
              "      <td>19.54</td>\n",
              "    </tr>\n",
              "    <tr>\n",
              "      <th>273542</th>\n",
              "      <td>165614.0</td>\n",
              "      <td>-0.022716</td>\n",
              "      <td>-1.090718</td>\n",
              "      <td>0.347754</td>\n",
              "      <td>-3.209641</td>\n",
              "      <td>-0.335555</td>\n",
              "      <td>0.543510</td>\n",
              "      <td>-0.389128</td>\n",
              "      <td>0.244854</td>\n",
              "      <td>-1.717714</td>\n",
              "      <td>...</td>\n",
              "      <td>-0.233328</td>\n",
              "      <td>-0.224860</td>\n",
              "      <td>-0.540943</td>\n",
              "      <td>0.424634</td>\n",
              "      <td>-0.465743</td>\n",
              "      <td>-1.287637</td>\n",
              "      <td>-0.737894</td>\n",
              "      <td>0.220329</td>\n",
              "      <td>0.248860</td>\n",
              "      <td>97.99</td>\n",
              "    </tr>\n",
              "    <tr>\n",
              "      <th>276767</th>\n",
              "      <td>167288.0</td>\n",
              "      <td>0.128172</td>\n",
              "      <td>0.911766</td>\n",
              "      <td>-0.680246</td>\n",
              "      <td>-0.819493</td>\n",
              "      <td>1.335271</td>\n",
              "      <td>-0.057583</td>\n",
              "      <td>0.797571</td>\n",
              "      <td>0.128689</td>\n",
              "      <td>-0.206186</td>\n",
              "      <td>...</td>\n",
              "      <td>0.027674</td>\n",
              "      <td>-0.332611</td>\n",
              "      <td>-0.856747</td>\n",
              "      <td>0.009476</td>\n",
              "      <td>-0.227400</td>\n",
              "      <td>-0.384356</td>\n",
              "      <td>0.144261</td>\n",
              "      <td>0.218105</td>\n",
              "      <td>0.066232</td>\n",
              "      <td>1.79</td>\n",
              "    </tr>\n",
              "    <tr>\n",
              "      <th>129555</th>\n",
              "      <td>79133.0</td>\n",
              "      <td>-1.926447</td>\n",
              "      <td>0.700395</td>\n",
              "      <td>1.206153</td>\n",
              "      <td>0.624355</td>\n",
              "      <td>0.132835</td>\n",
              "      <td>-1.113698</td>\n",
              "      <td>0.185074</td>\n",
              "      <td>0.175427</td>\n",
              "      <td>-0.683115</td>\n",
              "      <td>...</td>\n",
              "      <td>-0.375002</td>\n",
              "      <td>-0.264376</td>\n",
              "      <td>-0.649828</td>\n",
              "      <td>0.348864</td>\n",
              "      <td>0.353459</td>\n",
              "      <td>0.165969</td>\n",
              "      <td>0.221926</td>\n",
              "      <td>-0.352566</td>\n",
              "      <td>-0.007488</td>\n",
              "      <td>1.98</td>\n",
              "    </tr>\n",
              "    <tr>\n",
              "      <th>4758</th>\n",
              "      <td>4208.0</td>\n",
              "      <td>-0.924370</td>\n",
              "      <td>0.635268</td>\n",
              "      <td>2.424534</td>\n",
              "      <td>-0.980228</td>\n",
              "      <td>-0.250123</td>\n",
              "      <td>-0.203216</td>\n",
              "      <td>0.013086</td>\n",
              "      <td>0.248369</td>\n",
              "      <td>1.225108</td>\n",
              "      <td>...</td>\n",
              "      <td>0.058290</td>\n",
              "      <td>-0.144165</td>\n",
              "      <td>-0.265227</td>\n",
              "      <td>-0.208657</td>\n",
              "      <td>-0.036375</td>\n",
              "      <td>0.060463</td>\n",
              "      <td>0.838448</td>\n",
              "      <td>0.169760</td>\n",
              "      <td>0.101467</td>\n",
              "      <td>15.09</td>\n",
              "    </tr>\n",
              "    <tr>\n",
              "      <th>...</th>\n",
              "      <td>...</td>\n",
              "      <td>...</td>\n",
              "      <td>...</td>\n",
              "      <td>...</td>\n",
              "      <td>...</td>\n",
              "      <td>...</td>\n",
              "      <td>...</td>\n",
              "      <td>...</td>\n",
              "      <td>...</td>\n",
              "      <td>...</td>\n",
              "      <td>...</td>\n",
              "      <td>...</td>\n",
              "      <td>...</td>\n",
              "      <td>...</td>\n",
              "      <td>...</td>\n",
              "      <td>...</td>\n",
              "      <td>...</td>\n",
              "      <td>...</td>\n",
              "      <td>...</td>\n",
              "      <td>...</td>\n",
              "      <td>...</td>\n",
              "    </tr>\n",
              "    <tr>\n",
              "      <th>223802</th>\n",
              "      <td>143530.0</td>\n",
              "      <td>-0.308167</td>\n",
              "      <td>1.591107</td>\n",
              "      <td>-1.373583</td>\n",
              "      <td>0.038114</td>\n",
              "      <td>0.037260</td>\n",
              "      <td>-1.002515</td>\n",
              "      <td>-0.659082</td>\n",
              "      <td>-2.430258</td>\n",
              "      <td>-0.279426</td>\n",
              "      <td>...</td>\n",
              "      <td>0.315747</td>\n",
              "      <td>-0.946215</td>\n",
              "      <td>1.263171</td>\n",
              "      <td>0.123609</td>\n",
              "      <td>-0.076179</td>\n",
              "      <td>-0.373384</td>\n",
              "      <td>-0.166019</td>\n",
              "      <td>-0.106544</td>\n",
              "      <td>-0.010175</td>\n",
              "      <td>1.50</td>\n",
              "    </tr>\n",
              "    <tr>\n",
              "      <th>158375</th>\n",
              "      <td>111144.0</td>\n",
              "      <td>0.027415</td>\n",
              "      <td>0.938860</td>\n",
              "      <td>-0.137347</td>\n",
              "      <td>-0.411764</td>\n",
              "      <td>1.018753</td>\n",
              "      <td>-0.009943</td>\n",
              "      <td>0.651933</td>\n",
              "      <td>0.005686</td>\n",
              "      <td>1.282204</td>\n",
              "      <td>...</td>\n",
              "      <td>-0.034821</td>\n",
              "      <td>0.200071</td>\n",
              "      <td>0.979758</td>\n",
              "      <td>-0.281001</td>\n",
              "      <td>0.024118</td>\n",
              "      <td>-0.393095</td>\n",
              "      <td>-0.451948</td>\n",
              "      <td>0.454234</td>\n",
              "      <td>0.267469</td>\n",
              "      <td>1.00</td>\n",
              "    </tr>\n",
              "    <tr>\n",
              "      <th>75075</th>\n",
              "      <td>55887.0</td>\n",
              "      <td>-1.562455</td>\n",
              "      <td>0.443862</td>\n",
              "      <td>1.011390</td>\n",
              "      <td>0.032803</td>\n",
              "      <td>0.550616</td>\n",
              "      <td>-0.491726</td>\n",
              "      <td>0.308602</td>\n",
              "      <td>0.161854</td>\n",
              "      <td>-0.125248</td>\n",
              "      <td>...</td>\n",
              "      <td>-0.243460</td>\n",
              "      <td>-0.335385</td>\n",
              "      <td>-0.472779</td>\n",
              "      <td>0.564785</td>\n",
              "      <td>-0.056079</td>\n",
              "      <td>-0.104507</td>\n",
              "      <td>0.103312</td>\n",
              "      <td>0.264616</td>\n",
              "      <td>0.082446</td>\n",
              "      <td>0.99</td>\n",
              "    </tr>\n",
              "    <tr>\n",
              "      <th>203423</th>\n",
              "      <td>134811.0</td>\n",
              "      <td>-2.415369</td>\n",
              "      <td>1.742191</td>\n",
              "      <td>0.578007</td>\n",
              "      <td>0.408996</td>\n",
              "      <td>-0.995119</td>\n",
              "      <td>1.858211</td>\n",
              "      <td>-0.445551</td>\n",
              "      <td>0.743951</td>\n",
              "      <td>0.661218</td>\n",
              "      <td>...</td>\n",
              "      <td>0.167682</td>\n",
              "      <td>-0.014133</td>\n",
              "      <td>0.300680</td>\n",
              "      <td>-0.310377</td>\n",
              "      <td>-0.327008</td>\n",
              "      <td>0.176959</td>\n",
              "      <td>0.001773</td>\n",
              "      <td>-1.369533</td>\n",
              "      <td>-0.601018</td>\n",
              "      <td>105.54</td>\n",
              "    </tr>\n",
              "    <tr>\n",
              "      <th>166557</th>\n",
              "      <td>118158.0</td>\n",
              "      <td>0.045731</td>\n",
              "      <td>0.807166</td>\n",
              "      <td>0.220763</td>\n",
              "      <td>-0.610722</td>\n",
              "      <td>0.439133</td>\n",
              "      <td>-1.064836</td>\n",
              "      <td>0.958152</td>\n",
              "      <td>-0.163179</td>\n",
              "      <td>0.056695</td>\n",
              "      <td>...</td>\n",
              "      <td>-0.069488</td>\n",
              "      <td>-0.276242</td>\n",
              "      <td>-0.647792</td>\n",
              "      <td>0.059942</td>\n",
              "      <td>-0.133484</td>\n",
              "      <td>-0.489226</td>\n",
              "      <td>0.149443</td>\n",
              "      <td>0.242806</td>\n",
              "      <td>0.094880</td>\n",
              "      <td>2.67</td>\n",
              "    </tr>\n",
              "  </tbody>\n",
              "</table>\n",
              "<p>71201 rows × 30 columns</p>\n",
              "</div>\n",
              "      <button class=\"colab-df-convert\" onclick=\"convertToInteractive('df-21aaa587-e46a-427c-838f-c69cd9160718')\"\n",
              "              title=\"Convert this dataframe to an interactive table.\"\n",
              "              style=\"display:none;\">\n",
              "        \n",
              "  <svg xmlns=\"http://www.w3.org/2000/svg\" height=\"24px\"viewBox=\"0 0 24 24\"\n",
              "       width=\"24px\">\n",
              "    <path d=\"M0 0h24v24H0V0z\" fill=\"none\"/>\n",
              "    <path d=\"M18.56 5.44l.94 2.06.94-2.06 2.06-.94-2.06-.94-.94-2.06-.94 2.06-2.06.94zm-11 1L8.5 8.5l.94-2.06 2.06-.94-2.06-.94L8.5 2.5l-.94 2.06-2.06.94zm10 10l.94 2.06.94-2.06 2.06-.94-2.06-.94-.94-2.06-.94 2.06-2.06.94z\"/><path d=\"M17.41 7.96l-1.37-1.37c-.4-.4-.92-.59-1.43-.59-.52 0-1.04.2-1.43.59L10.3 9.45l-7.72 7.72c-.78.78-.78 2.05 0 2.83L4 21.41c.39.39.9.59 1.41.59.51 0 1.02-.2 1.41-.59l7.78-7.78 2.81-2.81c.8-.78.8-2.07 0-2.86zM5.41 20L4 18.59l7.72-7.72 1.47 1.35L5.41 20z\"/>\n",
              "  </svg>\n",
              "      </button>\n",
              "      \n",
              "  <style>\n",
              "    .colab-df-container {\n",
              "      display:flex;\n",
              "      flex-wrap:wrap;\n",
              "      gap: 12px;\n",
              "    }\n",
              "\n",
              "    .colab-df-convert {\n",
              "      background-color: #E8F0FE;\n",
              "      border: none;\n",
              "      border-radius: 50%;\n",
              "      cursor: pointer;\n",
              "      display: none;\n",
              "      fill: #1967D2;\n",
              "      height: 32px;\n",
              "      padding: 0 0 0 0;\n",
              "      width: 32px;\n",
              "    }\n",
              "\n",
              "    .colab-df-convert:hover {\n",
              "      background-color: #E2EBFA;\n",
              "      box-shadow: 0px 1px 2px rgba(60, 64, 67, 0.3), 0px 1px 3px 1px rgba(60, 64, 67, 0.15);\n",
              "      fill: #174EA6;\n",
              "    }\n",
              "\n",
              "    [theme=dark] .colab-df-convert {\n",
              "      background-color: #3B4455;\n",
              "      fill: #D2E3FC;\n",
              "    }\n",
              "\n",
              "    [theme=dark] .colab-df-convert:hover {\n",
              "      background-color: #434B5C;\n",
              "      box-shadow: 0px 1px 3px 1px rgba(0, 0, 0, 0.15);\n",
              "      filter: drop-shadow(0px 1px 2px rgba(0, 0, 0, 0.3));\n",
              "      fill: #FFFFFF;\n",
              "    }\n",
              "  </style>\n",
              "\n",
              "      <script>\n",
              "        const buttonEl =\n",
              "          document.querySelector('#df-21aaa587-e46a-427c-838f-c69cd9160718 button.colab-df-convert');\n",
              "        buttonEl.style.display =\n",
              "          google.colab.kernel.accessAllowed ? 'block' : 'none';\n",
              "\n",
              "        async function convertToInteractive(key) {\n",
              "          const element = document.querySelector('#df-21aaa587-e46a-427c-838f-c69cd9160718');\n",
              "          const dataTable =\n",
              "            await google.colab.kernel.invokeFunction('convertToInteractive',\n",
              "                                                     [key], {});\n",
              "          if (!dataTable) return;\n",
              "\n",
              "          const docLinkHtml = 'Like what you see? Visit the ' +\n",
              "            '<a target=\"_blank\" href=https://colab.research.google.com/notebooks/data_table.ipynb>data table notebook</a>'\n",
              "            + ' to learn more about interactive tables.';\n",
              "          element.innerHTML = '';\n",
              "          dataTable['output_type'] = 'display_data';\n",
              "          await google.colab.output.renderOutput(dataTable, element);\n",
              "          const docLink = document.createElement('div');\n",
              "          docLink.innerHTML = docLinkHtml;\n",
              "          element.appendChild(docLink);\n",
              "        }\n",
              "      </script>\n",
              "    </div>\n",
              "  </div>\n",
              "  "
            ]
          },
          "metadata": {},
          "execution_count": 45
        }
      ]
    },
    {
      "cell_type": "code",
      "source": [
        "def standardize(train, test):\n",
        "\n",
        "\n",
        "    mean = np.mean(train, axis=0)\n",
        "    std = np.std(train, axis=0)+0.000001\n",
        "\n",
        "    X_train = (train - mean) / std\n",
        "    X_test = (test - mean) /std\n",
        "    return X_train, X_test\n",
        "x_train,x_test=standardize(x_train,x_test)"
      ],
      "metadata": {
        "id": "hedLHykwuiFE"
      },
      "execution_count": null,
      "outputs": []
    },
    {
      "cell_type": "code",
      "source": [
        "# model create\n",
        "\n",
        "model=tf.keras.Sequential(\n",
        "                          [tf.keras.layers.Dense(68,activation='LeakyReLU'),\n",
        "                          tf.keras.layers.Dense(34,activation='LeakyReLU'),\n",
        "                           tf.keras.layers.Dense(12,activation='LeakyReLU'),\n",
        "                          tf.keras.layers.Dense(1,activation='sigmoid')]\n",
        "\n",
        "                          )\n",
        "\n",
        "#model compile\n",
        "\n",
        "model.compile(optimizer='adam',\n",
        "                loss = tf.keras.losses.binary_crossentropy,\n",
        "                metrics=['accuracy'])\n",
        "\n",
        "model.fit(x_train,y_train,epochs=15,validation_data=(x_test,y_test))"
      ],
      "metadata": {
        "colab": {
          "base_uri": "https://localhost:8080/"
        },
        "id": "4GYsOFl9oF75",
        "outputId": "84ca7000-beaf-41d2-8810-b6e23137694f"
      },
      "execution_count": null,
      "outputs": [
        {
          "output_type": "stream",
          "name": "stdout",
          "text": [
            "Epoch 1/15\n",
            "2226/2226 [==============================] - 28s 12ms/step - loss: 0.0100 - accuracy: 0.9988 - val_loss: 0.0037 - val_accuracy: 0.9994\n",
            "Epoch 2/15\n",
            "2226/2226 [==============================] - 17s 7ms/step - loss: 0.0041 - accuracy: 0.9993 - val_loss: 0.0039 - val_accuracy: 0.9989\n",
            "Epoch 3/15\n",
            "2226/2226 [==============================] - 27s 12ms/step - loss: 0.0034 - accuracy: 0.9992 - val_loss: 0.0033 - val_accuracy: 0.9994\n",
            "Epoch 4/15\n",
            "2226/2226 [==============================] - 27s 12ms/step - loss: 0.0032 - accuracy: 0.9993 - val_loss: 0.0033 - val_accuracy: 0.9994\n",
            "Epoch 5/15\n",
            "2226/2226 [==============================] - 17s 7ms/step - loss: 0.0031 - accuracy: 0.9993 - val_loss: 0.0033 - val_accuracy: 0.9994\n",
            "Epoch 6/15\n",
            "2226/2226 [==============================] - 17s 7ms/step - loss: 0.0030 - accuracy: 0.9993 - val_loss: 0.0034 - val_accuracy: 0.9994\n",
            "Epoch 7/15\n",
            "2226/2226 [==============================] - 27s 12ms/step - loss: 0.0026 - accuracy: 0.9993 - val_loss: 0.0036 - val_accuracy: 0.9994\n",
            "Epoch 8/15\n",
            "2226/2226 [==============================] - 27s 12ms/step - loss: 0.0027 - accuracy: 0.9994 - val_loss: 0.0034 - val_accuracy: 0.9994\n",
            "Epoch 9/15\n",
            "2226/2226 [==============================] - 27s 12ms/step - loss: 0.0025 - accuracy: 0.9994 - val_loss: 0.0038 - val_accuracy: 0.9994\n",
            "Epoch 10/15\n",
            "2226/2226 [==============================] - 17s 7ms/step - loss: 0.0024 - accuracy: 0.9993 - val_loss: 0.0034 - val_accuracy: 0.9994\n",
            "Epoch 11/15\n",
            "2226/2226 [==============================] - 17s 7ms/step - loss: 0.0022 - accuracy: 0.9994 - val_loss: 0.0034 - val_accuracy: 0.9994\n",
            "Epoch 12/15\n",
            "2226/2226 [==============================] - 27s 12ms/step - loss: 0.0022 - accuracy: 0.9994 - val_loss: 0.0036 - val_accuracy: 0.9994\n",
            "Epoch 13/15\n",
            "2226/2226 [==============================] - 27s 12ms/step - loss: 0.0020 - accuracy: 0.9995 - val_loss: 0.0040 - val_accuracy: 0.9994\n",
            "Epoch 14/15\n",
            "2226/2226 [==============================] - 27s 12ms/step - loss: 0.0019 - accuracy: 0.9995 - val_loss: 0.0046 - val_accuracy: 0.9994\n",
            "Epoch 15/15\n",
            "2226/2226 [==============================] - 16s 7ms/step - loss: 0.0019 - accuracy: 0.9995 - val_loss: 0.0047 - val_accuracy: 0.9992\n"
          ]
        },
        {
          "output_type": "execute_result",
          "data": {
            "text/plain": [
              "<keras.callbacks.History at 0x7f7d90681c50>"
            ]
          },
          "metadata": {},
          "execution_count": 49
        }
      ]
    },
    {
      "cell_type": "code",
      "source": [
        "model.evaluate(x_test,y_test)"
      ],
      "metadata": {
        "colab": {
          "base_uri": "https://localhost:8080/"
        },
        "id": "oGKxuuHdqfdp",
        "outputId": "e63cf69d-06a5-4fe2-8846-26a81f443da3"
      },
      "execution_count": null,
      "outputs": [
        {
          "output_type": "stream",
          "name": "stdout",
          "text": [
            "420/420 [==============================] - 1s 2ms/step - loss: nan - accuracy: 0.9958\n"
          ]
        },
        {
          "output_type": "execute_result",
          "data": {
            "text/plain": [
              "[nan, 0.995758593082428]"
            ]
          },
          "metadata": {},
          "execution_count": 25
        }
      ]
    },
    {
      "cell_type": "markdown",
      "source": [
        "# non linear activation function"
      ],
      "metadata": {
        "id": "fMle2EQtbgUB"
      }
    },
    {
      "cell_type": "code",
      "source": [
        "def sigmoid(x):\n",
        "  return 1/(1+tf.exp(x))"
      ],
      "metadata": {
        "id": "11BrGHe5szbO"
      },
      "execution_count": null,
      "outputs": []
    },
    {
      "cell_type": "code",
      "source": [
        "import numpy as np\n",
        "a=np.array([1,2,3,4,5,6,7,8,9,-1,-2,-3,-4,-5,-6,-7,-8,-9],dtype=np.float32)"
      ],
      "metadata": {
        "id": "kpaK1REobuy4"
      },
      "execution_count": null,
      "outputs": []
    },
    {
      "cell_type": "code",
      "source": [
        "import matplotlib.pyplot as pt\n",
        "\n",
        "pt.plot(sigmoid(a))"
      ],
      "metadata": {
        "colab": {
          "base_uri": "https://localhost:8080/",
          "height": 284
        },
        "id": "Eeu9bhC7b4bP",
        "outputId": "d796fbb4-ba88-4679-eb4f-8992955569b8"
      },
      "execution_count": null,
      "outputs": [
        {
          "output_type": "execute_result",
          "data": {
            "text/plain": [
              "[<matplotlib.lines.Line2D at 0x7f3258328d10>]"
            ]
          },
          "metadata": {},
          "execution_count": 24
        },
        {
          "output_type": "display_data",
          "data": {
            "text/plain": [
              "<Figure size 432x288 with 1 Axes>"
            ],
            "image/png": "[encoded data removed]"
          },
          "metadata": {
            "needs_background": "light"
          }
        }
      ]
    },
    {
      "cell_type": "code",
      "source": [
        "def relu(x):\n",
        "  return np.where(x<0,0,x)"
      ],
      "metadata": {
        "id": "hZD6K1FVcmWS"
      },
      "execution_count": null,
      "outputs": []
    },
    {
      "cell_type": "code",
      "source": [
        "relu(a)"
      ],
      "metadata": {
        "colab": {
          "base_uri": "https://localhost:8080/"
        },
        "id": "4tDeV0Y3dxr6",
        "outputId": "41f337d9-c7a6-4bc5-d07c-0f0f5e9b5589"
      },
      "execution_count": null,
      "outputs": [
        {
          "output_type": "execute_result",
          "data": {
            "text/plain": [
              "array([1., 2., 3., 4., 5., 6., 7., 8., 9., 0., 0., 0., 0., 0., 0., 0., 0.,\n",
              "       0.], dtype=float32)"
            ]
          },
          "metadata": {},
          "execution_count": 29
        }
      ]
    },
    {
      "cell_type": "code",
      "source": [
        "pt.plot(relu(a))"
      ],
      "metadata": {
        "colab": {
          "base_uri": "https://localhost:8080/",
          "height": 284
        },
        "id": "SREcf0PIdzid",
        "outputId": "0ab8e536-6429-4c39-e530-a1c3a04c461f"
      },
      "execution_count": null,
      "outputs": [
        {
          "output_type": "execute_result",
          "data": {
            "text/plain": [
              "[<matplotlib.lines.Line2D at 0x7f32581f6910>]"
            ]
          },
          "metadata": {},
          "execution_count": 30
        },
        {
          "output_type": "display_data",
          "data": {
            "text/plain": [
              "<Figure size 432x288 with 1 Axes>"
            ],
            "image/png": "[encoded data removed]"
          },
          "metadata": {
            "needs_background": "light"
          }
        }
      ]
    },
    {
      "cell_type": "code",
      "source": [
        "# linearactivation function\n",
        "def linear(A):\n",
        "  return A"
      ],
      "metadata": {
        "id": "pubj9RQOd4LL"
      },
      "execution_count": null,
      "outputs": []
    },
    {
      "cell_type": "code",
      "source": [
        "linear(a)==a # does not change anything our data"
      ],
      "metadata": {
        "colab": {
          "base_uri": "https://localhost:8080/"
        },
        "id": "A0CBD5i4gG13",
        "outputId": "f43bcc2f-73f9-4981-c60b-8738f237270d"
      },
      "execution_count": null,
      "outputs": [
        {
          "output_type": "execute_result",
          "data": {
            "text/plain": [
              "array([ True,  True,  True,  True,  True,  True,  True,  True,  True,\n",
              "        True,  True,  True,  True,  True,  True,  True,  True,  True])"
            ]
          },
          "metadata": {},
          "execution_count": 34
        }
      ]
    },
    {
      "cell_type": "code",
      "source": [],
      "metadata": {
        "id": "viWqSADbgIoz"
      },
      "execution_count": null,
      "outputs": []
    }
  ]
}